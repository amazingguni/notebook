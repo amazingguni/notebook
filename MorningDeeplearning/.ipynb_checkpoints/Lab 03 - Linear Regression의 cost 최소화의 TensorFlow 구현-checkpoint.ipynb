{
 "cells": [
  {
   "cell_type": "markdown",
   "metadata": {},
   "source": [
    "# Lab 03 - Linear Regression의 cost 최소화의 TensorFlow 구현"
   ]
  },
  {
   "cell_type": "code",
   "execution_count": 10,
   "metadata": {
    "collapsed": false
   },
   "outputs": [
    {
     "name": "stdout",
     "output_type": "stream",
     "text": [
      "-3.0 74.6667\n",
      "-2.9000000000000004 70.98\n",
      "-2.8000000000000003 67.3867\n",
      "-2.7 63.8867\n",
      "-2.6 60.48\n",
      "-2.5 57.1667\n",
      "-2.4000000000000004 53.9467\n",
      "-2.3000000000000003 50.82\n",
      "-2.2 47.7867\n",
      "-2.1 44.8467\n",
      "-2.0 42.0\n",
      "-1.9000000000000001 39.2467\n",
      "-1.8 36.5867\n",
      "-1.7000000000000002 34.02\n",
      "-1.6 31.5467\n",
      "-1.5 29.1667\n",
      "-1.4000000000000001 26.88\n",
      "-1.3 24.6867\n",
      "-1.2000000000000002 22.5867\n",
      "-1.1 20.58\n",
      "-1.0 18.6667\n",
      "-0.9 16.8467\n",
      "-0.8 15.12\n",
      "-0.7000000000000001 13.4867\n",
      "-0.6000000000000001 11.9467\n",
      "-0.5 10.5\n",
      "-0.4 9.14667\n",
      "-0.30000000000000004 7.88667\n",
      "-0.2 6.72\n",
      "-0.1 5.64667\n",
      "0.0 4.66667\n",
      "0.1 3.78\n",
      "0.2 2.98667\n",
      "0.30000000000000004 2.28667\n",
      "0.4 1.68\n",
      "0.5 1.16667\n",
      "0.6000000000000001 0.746667\n",
      "0.7000000000000001 0.42\n",
      "0.8 0.186667\n",
      "0.9 0.0466667\n",
      "1.0 0.0\n",
      "1.1 0.0466667\n",
      "1.2000000000000002 0.186667\n",
      "1.3 0.42\n",
      "1.4000000000000001 0.746666\n",
      "1.5 1.16667\n",
      "1.6 1.68\n",
      "1.7000000000000002 2.28667\n",
      "1.8 2.98667\n",
      "1.9000000000000001 3.78\n",
      "2.0 4.66667\n",
      "2.1 5.64667\n",
      "2.2 6.72\n",
      "2.3000000000000003 7.88667\n",
      "2.4000000000000004 9.14667\n",
      "2.5 10.5\n",
      "2.6 11.9467\n",
      "2.7 13.4867\n",
      "2.8000000000000003 15.12\n",
      "2.9000000000000004 16.8467\n",
      "3.0 18.6667\n",
      "3.1 20.58\n",
      "3.2 22.5867\n",
      "3.3000000000000003 24.6867\n",
      "3.4000000000000004 26.88\n",
      "3.5 29.1667\n",
      "3.6 31.5467\n",
      "3.7 34.02\n",
      "3.8000000000000003 36.5867\n",
      "3.9000000000000004 39.2467\n",
      "4.0 42.0\n",
      "4.1000000000000005 44.8467\n",
      "4.2 47.7867\n",
      "4.3 50.82\n",
      "4.4 53.9467\n",
      "4.5 57.1667\n",
      "4.6000000000000005 60.48\n",
      "4.7 63.8867\n",
      "4.800000000000001 67.3867\n",
      "4.9 70.98\n"
     ]
    },
    {
     "name": "stderr",
     "output_type": "stream",
     "text": [
      "/home/amazingguni/.pyenv/versions/3.5.2/envs/deeplearning/lib/python3.5/site-packages/matplotlib/font_manager.py:273: UserWarning: Matplotlib is building the font cache using fc-list. This may take a moment.\n",
      "  warnings.warn('Matplotlib is building the font cache using fc-list. This may take a moment.')\n",
      "/home/amazingguni/.pyenv/versions/3.5.2/envs/deeplearning/lib/python3.5/site-packages/matplotlib/font_manager.py:273: UserWarning: Matplotlib is building the font cache using fc-list. This may take a moment.\n",
      "  warnings.warn('Matplotlib is building the font cache using fc-list. This may take a moment.')\n"
     ]
    },
    {
     "data": {
      "image/png": "[encoded data removed]",
      "text/plain": [
       "<matplotlib.figure.Figure at 0x7fa9bc0d0240>"
      ]
     },
     "metadata": {},
     "output_type": "display_data"
    }
   ],
   "source": [
    "import tensorflow as tf\n",
    "\n",
    "X = [1., 2., 3.]\n",
    "Y = [1., 2., 3.]\n",
    "m = n_samples = len(X)\n",
    "\n",
    "W = tf.placeholder(tf.float32)\n",
    "\n",
    "hypothesis = tf.mul(X, W)\n",
    "\n",
    "cost = tf.reduce_sum(tf.pow(hypothesis-Y, 2))/(m)\n",
    "\n",
    "init = tf.initialize_all_variables()\n",
    "\n",
    "W_val = []\n",
    "cost_val = []\n",
    "\n",
    "sess = tf.Session()\n",
    "sess.run(init)\n",
    "\n",
    "for i in range(-30, 50):\n",
    "    current_cost = sess.run(cost, feed_dict={W:i*0.1})\n",
    "    print(i*0.1, sess.run(cost, feed_dict={W:i*0.1}))\n",
    "    W_val.append(i*0.1)\n",
    "    cost_val.append(current_cost)\n",
    "\n",
    "import matplotlib.pyplot as plt\n",
    "plt.plot(W_val, cost_val)\n",
    "plt.ylabel('Cost')\n",
    "plt.xlabel('W')\n",
    "plt.show()"
   ]
  },
  {
   "cell_type": "code",
   "execution_count": 13,
   "metadata": {
    "collapsed": false
   },
   "outputs": [
    {
     "name": "stdout",
     "output_type": "stream",
     "text": [
      "19 129.865 [-4.27523994]\n",
      "19 36.9393 [-1.81346154]\n",
      "19 10.5072 [-0.50051284]\n",
      "19 2.98871 [ 0.19972652]\n",
      "19 0.850122 [ 0.57318747]\n",
      "19 0.241812 [ 0.77236664]\n",
      "19 0.0687822 [ 0.87859553]\n",
      "19 0.0195647 [ 0.93525094]\n",
      "19 0.00556508 [ 0.96546715]\n",
      "19 0.00158296 [ 0.98158246]\n",
      "19 0.000450263 [ 0.99017733]\n",
      "19 0.000128075 [ 0.99476123]\n",
      "19 3.64307e-05 [ 0.99720597]\n",
      "19 1.03631e-05 [ 0.99850982]\n",
      "19 2.94754e-06 [ 0.99920523]\n",
      "19 8.38592e-07 [ 0.99957609]\n",
      "19 2.38551e-07 [ 0.99977392]\n",
      "19 6.7837e-08 [ 0.99987942]\n",
      "19 1.92947e-08 [ 0.99993569]\n",
      "19 5.50062e-09 [ 0.99996567]\n"
     ]
    }
   ],
   "source": [
    "import tensorflow as tf\n",
    "\n",
    "x_data = [1., 2., 3.]\n",
    "y_data = [1., 2., 3.]\n",
    "\n",
    "\n",
    "W = tf.Variable(tf.random_uniform([1], -10.0, 10.0))\n",
    "\n",
    "X = tf.placeholder(tf.float32)\n",
    "Y = tf.placeholder(tf.float32)\n",
    "\n",
    "hypothesis = W * X\n",
    "\n",
    "cost = tf.reduce_mean(tf.square(hypothesis-Y))\n",
    "\n",
    "descent = W-tf.mul(0.1, tf.reduce_mean(tf.mul((tf.mul(W,X)-Y),X)))\n",
    "update = W.assign(descent)\n",
    "\n",
    "init = tf.initialize_all_variables()\n",
    "\n",
    "sess = tf.Session()\n",
    "sess.run(init)\n",
    "\n",
    "for i in range(20):\n",
    "    sess.run(update, feed_dict={X:x_data, Y:y_data})\n",
    "    print (step, sess.run(cost, feed_dict={X:x_data, Y:y_data}), sess.run(W))\n"
   ]
  },
  {
   "cell_type": "code",
   "execution_count": 14,
   "metadata": {
    "collapsed": false
   },
   "outputs": [
    {
     "name": "stdout",
     "output_type": "stream",
     "text": [
      "0 2.59481e+06 [ 589.86303711]\n",
      "1 162176.0 [ 148.71575928]\n",
      "2 10136.2 [ 38.42893982]\n",
      "3 633.666 [ 10.85723495]\n",
      "4 39.7604 [ 3.96430874]\n",
      "5 2.64127 [ 2.24107718]\n",
      "6 0.32133 [ 1.81026936]\n",
      "7 0.176333 [ 1.70256734]\n",
      "8 0.167271 [ 1.67564178]\n",
      "9 0.166704 [ 1.6689105]\n",
      "10 0.166669 [ 1.66722763]\n",
      "11 0.166667 [ 1.66680694]\n",
      "12 0.166667 [ 1.66670179]\n",
      "13 0.166667 [ 1.66667545]\n",
      "14 0.166667 [ 1.66666889]\n",
      "15 0.166667 [ 1.66666722]\n",
      "16 0.166667 [ 1.66666675]\n",
      "17 0.166667 [ 1.66666675]\n",
      "18 0.166667 [ 1.66666675]\n",
      "19 0.166667 [ 1.66666675]\n",
      "[ 8.33333397]\n",
      "[ 4.16666698]\n"
     ]
    }
   ],
   "source": [
    "import tensorflow as tf\n",
    "\n",
    "# data set\n",
    "x_data = [1., 2., 3., 4.]\n",
    "y_data = [1., 3., 5., 7.]\n",
    "\n",
    "# try to find values for w and b that compute y_data = W * x_data + b\n",
    "# range is -100 ~ 100\n",
    "W = tf.Variable(tf.random_uniform([1], -10000., 10000.))\n",
    "\n",
    "X = tf.placeholder(tf.float32)\n",
    "Y = tf.placeholder(tf.float32)\n",
    "\n",
    "# my hypothesis\n",
    "hypothesis = W * X\n",
    "\n",
    "# Simplified cost function\n",
    "cost = tf.reduce_mean(tf.square(hypothesis - Y))\n",
    "\n",
    "# minimize\n",
    "descent = W - tf.mul(0.1, tf.reduce_mean(tf.mul( ( tf.mul(W, X) - Y ), X ), ))\n",
    "update = W.assign(descent)\n",
    "\n",
    "# before starting, initialize the variables\n",
    "init = tf.initialize_all_variables()\n",
    "\n",
    "# launch\n",
    "sess = tf.Session()\n",
    "sess.run(init)\n",
    "\n",
    "# fit the line\n",
    "for step in range(20):\n",
    "    sess.run(update, feed_dict={X: x_data, Y: y_data})\n",
    "    print (step, sess.run(cost, feed_dict={X: x_data, Y: y_data}), sess.run(W))\n",
    "\n",
    "print( sess.run(hypothesis, feed_dict={X: 5}))\n",
    "print( sess.run(hypothesis, feed_dict={X: 2.5}))"
   ]
  }
 ],
 "metadata": {
  "kernelspec": {
   "display_name": "Python 3",
   "language": "python",
   "name": "python3"
  },
  "language_info": {
   "codemirror_mode": {
    "name": "ipython",
    "version": 3
   },
   "file_extension": ".py",
   "mimetype": "text/x-python",
   "name": "python",
   "nbconvert_exporter": "python",
   "pygments_lexer": "ipython3",
   "version": "3.5.2"
  }
 },
 "nbformat": 4,
 "nbformat_minor": 1
}
