{
 "cells": [
  {
   "cell_type": "markdown",
   "metadata": {},
   "source": [
    "# Lab1 - TensorFlow의 설치 및 기본적인 오퍼레이션"
   ]
  },
  {
   "cell_type": "markdown",
   "metadata": {},
   "source": [
    "TensorFlow는 Data flow graph를 이용해 수학적 연산을 하는 Python 오픈소스 라이브러리\n",
    "\n",
    "- DataFlow Graph\n",
    "  - Node는 수학적 연산\n",
    "  - Edge는 행렬과 같은 Data Arrays(tensors)\n",
    "  \n",
    "Tensor들이 돌아다닌다고 해서 이름이 `TensorFlow`\n"
   ]
  },
  {
   "cell_type": "code",
   "execution_count": 3,
   "metadata": {
    "collapsed": false
   },
   "outputs": [
    {
     "name": "stdout",
     "output_type": "stream",
     "text": [
      "b'Hello, TensorFlow!'\n"
     ]
    }
   ],
   "source": [
    "import tensorflow as tf\n",
    "\n",
    "# hello도 operation\n",
    "hello = tf.constant('Hello, TensorFlow!')\n",
    "\n",
    "sess = tf.Session()\n",
    "\n",
    "print(sess.run(hello))"
   ]
  },
  {
   "cell_type": "code",
   "execution_count": 6,
   "metadata": {
    "collapsed": false
   },
   "outputs": [
    {
     "name": "stdout",
     "output_type": "stream",
     "text": [
      "Tensor(\"Const_7:0\", shape=(), dtype=int32)\n",
      "Tensor(\"Const_8:0\", shape=(), dtype=int32)\n",
      "Tensor(\"add_2:0\", shape=(), dtype=int32)\n",
      "5\n"
     ]
    }
   ],
   "source": [
    "import tensorflow as tf\n",
    "\n",
    "a = tf.constant(2)\n",
    "b = tf.constant(3)\n",
    "print(a)\n",
    "print(b)\n",
    "c = a+b\n",
    "\n",
    "print(c)\n",
    "\n",
    "sess = tf.Session()\n",
    "\n",
    "print(sess.run(c))"
   ]
  },
  {
   "cell_type": "code",
   "execution_count": 8,
   "metadata": {
    "collapsed": false
   },
   "outputs": [
    {
     "name": "stdout",
     "output_type": "stream",
     "text": [
      "Addition with variables: 5\n",
      "Multiplication with variables: 6\n"
     ]
    }
   ],
   "source": [
    "import tensorflow as tf\n",
    "\n",
    "\n",
    "a = tf.placeholder(tf.int16)\n",
    "b = tf.placeholder(tf.int16)\n",
    "\n",
    "# 값을 지금 정하지는 않지만 실행할 때 정해준다고 정의하는 것\n",
    "add = tf.add(a,b)\n",
    "mul = tf.mul(a,b)\n",
    "\n",
    "with tf.Session() as sess:\n",
    "    print(\"Addition with variables: %i\" % sess.run(add, feed_dict={a:2,b:3}))\n",
    "    print(\"Multiplication with variables: %i\" % sess.run(mul, feed_dict={a:2,b:3}))"
   ]
  }
 ],
 "metadata": {
  "kernelspec": {
   "display_name": "Python 3",
   "language": "python",
   "name": "python3"
  },
  "language_info": {
   "codemirror_mode": {
    "name": "ipython",
    "version": 3
   },
   "file_extension": ".py",
   "mimetype": "text/x-python",
   "name": "python",
   "nbconvert_exporter": "python",
   "pygments_lexer": "ipython3",
   "version": "3.5.2"
  }
 },
 "nbformat": 4,
 "nbformat_minor": 1
}
