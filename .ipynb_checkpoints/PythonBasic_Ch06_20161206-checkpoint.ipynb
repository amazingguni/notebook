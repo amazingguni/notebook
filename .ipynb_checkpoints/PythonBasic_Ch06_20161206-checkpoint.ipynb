{
 "cells": [
  {
   "cell_type": "markdown",
   "metadata": {},
   "source": [
    "# 처음 시작하는 파이썬, 나영근\n",
    "\n",
    "\n",
    "\n",
    "# 6. 객체와 클래스\n",
    "\n",
    "\n",
    "## 6.1 객체란 무엇인가\n",
    "\n",
    "숫자에서 모듈까지 Python의 모든 것은 객체이다\n",
    "\n",
    "- 객체는 attribute와 method를 포함\n",
    "- 객체는 클래스의 instance\n",
    "- 각각 다른 속성을 가진 객체를 여러개 생성할 수 있다."
   ]
  },
  {
   "cell_type": "code",
   "execution_count": 6,
   "metadata": {
    "collapsed": false
   },
   "outputs": [
    {
     "data": {
      "text/plain": [
       "'Cello'"
      ]
     },
     "execution_count": 6,
     "metadata": {},
     "output_type": "execute_result"
    }
   ],
   "source": [
    "num = 7\n",
    "dic = {}\n",
    "list = []\n",
    "\n",
    "str = \"Hello\"\n",
    "str.replace('H', 'C')"
   ]
  },
  {
   "cell_type": "markdown",
   "metadata": {},
   "source": [
    "## 6.2 클래스 선언하기: class\n",
    "\n",
    "파이썬에는 *List, Dictionary* 등 많은 내장 클래스를 포함\n",
    "\n",
    "커스텀 객체도 선언할 수 있다.\n",
    "\n",
    "- Person 클래스의 정의를 찾는다\n",
    "- 새 객체를 메모리에 초기화한다.\n",
    "- 객체의 *__init__*메서드를 호출\n",
    "- 생성된 객체를 *self*에 전달하고 인자를 *name*에 전달\n",
    "- 객체에 *name* 값 저장\n",
    "- 새로운 객체 반환\n",
    "- *hunter*에 이 객체를 연결"
   ]
  },
  {
   "cell_type": "code",
   "execution_count": 12,
   "metadata": {
    "collapsed": false
   },
   "outputs": [
    {
     "data": {
      "text/plain": [
       "'Elmer Fudd'"
      ]
     },
     "execution_count": 12,
     "metadata": {},
     "output_type": "execute_result"
    }
   ],
   "source": [
    "class Person():\n",
    "    def __init__(self, name):\n",
    "        self.name = name\n",
    "    pass\n",
    "\n",
    "hunter = Person('Elmer Fudd')\n",
    "hunter.name\n"
   ]
  },
  {
   "cell_type": "markdown",
   "metadata": {},
   "source": [
    "## 6.3 상속(Inheritance)\n",
    "\n",
    "상속을 사용하여 기존 클래스의 attribute, method를 재사용하고 필요한 것만 추가/변경할 수 있다.\n",
    "\n",
    "- 기존 클래스의 행동을 override한다.\n",
    "\n",
    "기존 클래스와 상속받는 클래스는 아래와 같이 불린다.\n",
    "\n",
    "- parent class <-> child class\n",
    "- super class <-> sub class\n",
    "- base class <-> derived class\n",
    "\n"
   ]
  },
  {
   "cell_type": "code",
   "execution_count": 13,
   "metadata": {
    "collapsed": false
   },
   "outputs": [
    {
     "name": "stdout",
     "output_type": "stream",
     "text": [
      "I'm a Car!\n",
      "I'm a Car!\n"
     ]
    }
   ],
   "source": [
    "class Car():\n",
    "    def exclaim(self):\n",
    "        print(\"I'm a Car!\")\n",
    "\n",
    "class Yugo(Car):\n",
    "    pass\n",
    "\n",
    "give_me_a_car = Car()\n",
    "give_me_a_yugo = Yugo()\n",
    "\n",
    "give_me_a_car.exclaim()\n",
    "give_me_a_yugo.exclaim()"
   ]
  },
  {
   "cell_type": "markdown",
   "metadata": {},
   "source": [
    "## 6.4 메서드 오버라이드\n",
    "\n"
   ]
  },
  {
   "cell_type": "code",
   "execution_count": 15,
   "metadata": {
    "collapsed": false
   },
   "outputs": [
    {
     "name": "stdout",
     "output_type": "stream",
     "text": [
      "I'm a Car!\n",
      "I'm a Yugo! Much like a Car.\n"
     ]
    }
   ],
   "source": [
    "class Car():\n",
    "    def exclaim(self):\n",
    "        print(\"I'm a Car!\")\n",
    "\n",
    "class Yugo(Car):\n",
    "    def exclaim(self):\n",
    "        print(\"I'm a Yugo! Much like a Car.\")\n",
    "\n",
    "give_me_a_car = Car()\n",
    "give_me_a_yugo = Yugo()\n",
    "\n",
    "give_me_a_car.exclaim()\n",
    "give_me_a_yugo.exclaim()"
   ]
  },
  {
   "cell_type": "markdown",
   "metadata": {},
   "source": [
    "## 6.5 메서드 추가하기\n",
    "\n"
   ]
  },
  {
   "cell_type": "code",
   "execution_count": 16,
   "metadata": {
    "collapsed": false
   },
   "outputs": [
    {
     "name": "stdout",
     "output_type": "stream",
     "text": [
      "I'm a Car!\n",
      "I'm a Yugo! Much like a Car.\n",
      "A little help here?\n"
     ]
    },
    {
     "ename": "AttributeError",
     "evalue": "'Car' object has no attribute 'need_a_push'",
     "output_type": "error",
     "traceback": [
      "\u001b[0;31m---------------------------------------------------------------------------\u001b[0m",
      "\u001b[0;31mAttributeError\u001b[0m                            Traceback (most recent call last)",
      "\u001b[0;32m<ipython-input-16-1dbb3b4ff363>\u001b[0m in \u001b[0;36m<module>\u001b[0;34m()\u001b[0m\n\u001b[1;32m     16\u001b[0m \u001b[0;34m\u001b[0m\u001b[0m\n\u001b[1;32m     17\u001b[0m \u001b[0mgive_me_a_yugo\u001b[0m\u001b[0;34m.\u001b[0m\u001b[0mneed_a_push\u001b[0m\u001b[0;34m(\u001b[0m\u001b[0;34m)\u001b[0m\u001b[0;34m\u001b[0m\u001b[0m\n\u001b[0;32m---> 18\u001b[0;31m \u001b[0mgive_me_a_car\u001b[0m\u001b[0;34m.\u001b[0m\u001b[0mneed_a_push\u001b[0m\u001b[0;34m(\u001b[0m\u001b[0;34m)\u001b[0m\u001b[0;34m\u001b[0m\u001b[0m\n\u001b[0m",
      "\u001b[0;31mAttributeError\u001b[0m: 'Car' object has no attribute 'need_a_push'"
     ]
    }
   ],
   "source": [
    "class Car():\n",
    "    def exclaim(self):\n",
    "        print(\"I'm a Car!\")\n",
    "\n",
    "class Yugo(Car):\n",
    "    def exclaim(self):\n",
    "        print(\"I'm a Yugo! Much like a Car.\")\n",
    "    def need_a_push(self):\n",
    "        print(\"A little help here?\")\n",
    "\n",
    "give_me_a_car = Car()\n",
    "give_me_a_yugo = Yugo()\n",
    "\n",
    "give_me_a_car.exclaim()\n",
    "give_me_a_yugo.exclaim()\n",
    "\n",
    "give_me_a_yugo.need_a_push()\n",
    "give_me_a_car.need_a_push()"
   ]
  },
  {
   "cell_type": "markdown",
   "metadata": {},
   "source": [
    "## 6.6 부모에게 도움 받기: super"
   ]
  },
  {
   "cell_type": "code",
   "execution_count": 20,
   "metadata": {
    "collapsed": false
   },
   "outputs": [
    {
     "name": "stdout",
     "output_type": "stream",
     "text": [
      "John\n",
      "j.ohn@gmail.com\n",
      "\n",
      "name: John\n",
      "email: j.ohn@gmail.com\n"
     ]
    }
   ],
   "source": [
    "class Person():\n",
    "    def __init__(self, name):\n",
    "        self.name = name\n",
    "        \n",
    "    def whoareyou(self):\n",
    "        print('name: ' + self.name)\n",
    "        \n",
    "class EmailPerson(Person):\n",
    "    def __init__(self, name, email):\n",
    "        super().__init__(name)\n",
    "        self.email=email\n",
    "        \n",
    "    def whoareyou(self):\n",
    "        super().whoareyou()\n",
    "        print('email: ' + self.email)\n",
    "\n",
    "email_person = EmailPerson('John', 'j.ohn@gmail.com')\n",
    "\n",
    "print(email_person.name)\n",
    "print(email_person.email)\n",
    "print()\n",
    "\n",
    "email_person.whoareyou()"
   ]
  },
  {
   "cell_type": "markdown",
   "metadata": {},
   "source": [
    "## 6.7 자신: self\n",
    "\n",
    "객체 자신을 나타냄\n",
    "\n",
    "- 이를 통해 attribute와 method를 사용\n",
    "- method의 첫번째 인자는 항상 self여야 함"
   ]
  },
  {
   "cell_type": "markdown",
   "metadata": {},
   "source": [
    "## 6.8 get/set 속성값과 프로퍼티\n",
    "\n",
    "python의 모든 attribute와 method는 *public*"
   ]
  },
  {
   "cell_type": "code",
   "execution_count": 24,
   "metadata": {
    "collapsed": false
   },
   "outputs": [
    {
     "name": "stdout",
     "output_type": "stream",
     "text": [
      "inside the getter\n",
      "Howard\n",
      "inside the getter\n",
      "Howard\n",
      "\n",
      "inside the setter\n",
      "inside the getter\n",
      "Daffy\n",
      "\n",
      "inside the setter\n",
      "inside the getter\n",
      "Howard\n",
      "\n",
      "Howard\n"
     ]
    }
   ],
   "source": [
    "class Duck():\n",
    "    def __init__(self, input_name):\n",
    "        self.hidden_name = input_name\n",
    "        \n",
    "    def get_name(self):\n",
    "        print('inside the getter')\n",
    "        return self.hidden_name\n",
    "    \n",
    "    def set_name(self, input_name):\n",
    "        print('inside the setter')\n",
    "        self.hidden_name = input_name\n",
    "        \n",
    "    name = property(get_name, set_name)\n",
    "    \n",
    "fowl = Duck('Howard')\n",
    "\n",
    "print(fowl.name)\n",
    "print(fowl.get_name()) # 여전히 property인데도 접근이 된다\n",
    "print()\n",
    "\n",
    "fowl.name = 'Daffy'\n",
    "print(fowl.name)\n",
    "print()\n",
    "\n",
    "fowl.set_name('Howard') # 여전히 접근된다\n",
    "print(fowl.name) \n",
    "print()"
   ]
  },
  {
   "cell_type": "markdown",
   "metadata": {},
   "source": [
    "그래서 decorator를 사용해 프로퍼티를 정의한다.\n",
    "\n",
    "- getter 메서드 앞에 `@property`\n",
    "- setter 메서드 앞에 `@name.setter`"
   ]
  },
  {
   "cell_type": "code",
   "execution_count": 27,
   "metadata": {
    "collapsed": false
   },
   "outputs": [
    {
     "name": "stdout",
     "output_type": "stream",
     "text": [
      "inside the getter\n",
      "Howard\n",
      "inside the setter\n",
      "inside the getter\n",
      "Donald\n"
     ]
    }
   ],
   "source": [
    "class Duck():\n",
    "    def __init__(self, input_name):\n",
    "        self.hidden_name = input_name\n",
    "        \n",
    "    @property\n",
    "    def name(self):\n",
    "        print('inside the getter')\n",
    "        return self.hidden_name\n",
    "    \n",
    "    @name.setter\n",
    "    def name(self, input_name):\n",
    "        print('inside the setter')\n",
    "        self.hidden_name = input_name\n",
    "      \n",
    "fowl = Duck('Howard')\n",
    "print(fowl.name)\n",
    "print()\n",
    "\n",
    "fowl.name = 'Donald'\n",
    "print(fowl.name)"
   ]
  },
  {
   "cell_type": "code",
   "execution_count": null,
   "metadata": {
    "collapsed": true
   },
   "outputs": [],
   "source": []
  }
 ],
 "metadata": {
  "kernelspec": {
   "display_name": "Python 3",
   "language": "python",
   "name": "python3"
  },
  "language_info": {
   "codemirror_mode": {
    "name": "ipython",
    "version": 3
   },
   "file_extension": ".py",
   "mimetype": "text/x-python",
   "name": "python",
   "nbconvert_exporter": "python",
   "pygments_lexer": "ipython3",
   "version": "3.5.2"
  }
 },
 "nbformat": 4,
 "nbformat_minor": 1
}
