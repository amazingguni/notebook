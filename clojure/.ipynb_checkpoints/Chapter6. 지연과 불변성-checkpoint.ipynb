{
 "cells": [
  {
   "cell_type": "markdown",
   "metadata": {},
   "source": [
    "# 클로저 : 프로그래밍의 즐거움 Chapter 6. 지연과 불변성\n",
    "\n",
    "## Younggun Na (amazingguni@gmail.com)"
   ]
  },
  {
   "cell_type": "markdown",
   "metadata": {},
   "source": [
    "## Overview\n",
    "\n",
    "- 불변성(immutability)\n",
    "- 영속성 구조 설계하기(트리)\n",
    "- 키워드의 용도(e.g., :keyword)\n",
    "- 지연 퀵 정렬"
   ]
  },
  {
   "cell_type": "markdown",
   "metadata": {},
   "source": [
    "## 6.1 불변성(immutability)\n",
    "\n",
    "Programming language 차원에서 `불변성`를 추구하면 어려운 문제점들을 단순하게 해결할 수 있다.\n",
    "\n",
    "#### 예정된 불변\n",
    "\n",
    "모든 불변성 객체가 가질 수 있는 속성들은 **생성 시점에 정의되고 그 이후에는 변경될 수 없음**\n",
    "\n",
    "> `예정론`: 전적으로 자유로운 것이란 존재하지 않고 모든 것은 계획되어 있다는 개념 -> 즉 한 번 만들어지면 뭘해도 바뀌지 않는다는 말...\n",
    "\n",
    "#### 합의에 의한 불변\n",
    "\n",
    "시스템 내에서 불변성이 전반적으로 잘 활용되려면 불변성에 대한 전체적인 약속이 필요\n",
    "\n",
    "가령 *Java*에서 불변 클래스를 생성하려면\n",
    "\n",
    "1. 클래스 자체와 그에 해당하는 모든 필드가 final로 선언되어야 함\n",
    "2. 객체를 생성하는 과정에서 this를 통한 객체의 참조가 불가능함\n",
    "3. 내부의 불변 객체들은 클래스 안에서 복사만 허용되고 외부로 참조가 되지 않아야 한다.\n",
    "\n",
    "```java\n",
    "final class A{\n",
    "    final private int num;\n",
    "    final private object obj;\n",
    "    public A(num){\n",
    "        this.num = num;\n",
    "    }\n",
    "    \n",
    "    public object getObject(){\n",
    "        return object.clone();\n",
    "    }\n",
    "}\n",
    "```\n",
    "\n",
    "클로저는 핵심적인 데이터 구조들을 통해 언어의 특징으로써 불변성을 직접 지원\n",
    "\n",
    "- 불변성 구조를 만드는 것과 구현할 내용 각각에 의해 발생하는 복잡성을 분리\n",
    "- 구현할 내용에 더욱 집중할 수 있다\n",
    "\n",
    "### 6.1.2 불변성은 왜 사용하는가?\n",
    "\n",
    "클로저의 불변성 데이터 구조는 단순히 언어 자체에 국한되는 것이 아니라, 언어의 핵심적인 철학에까지 연결되어 있다.\n",
    "\n",
    "#### 불변(invariant)\n",
    "\n",
    "불변성을 기반으로 하는 프로그래밍에서는 클래스나 함수에 대해 인스턴스가 특정 상태에 있을 때 값을 입력하려 하면 에러가 발생하도록 한다.\n",
    "\n",
    "가변성 시스템에 불변성을 부여하려면 오직 생성에서만 값을 입력할 수 있도록 하여야 함\n",
    "\n",
    "#### 객체 상태 예측\n",
    "\n",
    "불변 객체의 운명은 이미 정해져 있기 때문에 예측이 쉽다.\n",
    "\n",
    "#### 동일성의 의미\n",
    "\n",
    "가변성의 세계에서는 동일성이 의미가 없음\n",
    "\n",
    "- 두 객체가 현재 시점에서 동일하다고 해도 이후까지는 보장이 되지 않는다.\n",
    "- 만일 두 객체가 동일하지 않다면,, 그들은 같다고 말할 수 없다.\n",
    "\n",
    "``` java\n",
    "class A{\n",
    "    public int num;\n",
    "    \n",
    "    public A(int num){\n",
    "        this.num = num;\n",
    "    }\n",
    "}\n",
    "A a = new A(3); // 이 때는 a.num은 3이다.\n",
    "a.num = 5; // 하지만.. a.num이 5로 변했다.\n",
    "\n",
    "\n",
    "foo(a); // 인수로 전달되는 a의 속성은 전달 당시의 값과 같다고 보장되지 않는다.\n",
    "```\n",
    "\n",
    "불변성 객체는 지금 당장 동일하다면, 항상 동일할 것이라고 보장한다.\n",
    "\n",
    "#### 쉬운 공유\n",
    "\n",
    "어떤 객체가 절대 변경되지 않으리라는 확신이 있다면 **참조**를 제공함으로써 간편하게 공유할 수 있다.\n",
    "\n",
    "* 만약 java에서 그렇게 하려면 방어적인 복사가 필요하다 (*Object.clone같은.*)\n",
    "\n",
    "#### 간접성 감소\n",
    "\n",
    "클로저에는 `가변성 참조`만 있다.\n",
    "\n",
    "![title](6_var.png)\n",
    "\n",
    "* Java에서는 기본적으로 가변성 데이터를 가리키는 참조가 있다.\n",
    "* 이로 불필요한 복잡성이 크게 감소\n",
    "\n",
    "\n",
    "\n",
    "#### 병행 프로그래밍을 뒷받침하는 불변성\n",
    "\n",
    "불변성 객체는 항상 스레드에 안전하다.\n",
    "\n",
    "* 변경으로 인한 에러에 구애받지 않고 다른 스레드에 자유롭게 전달할 수 있음"
   ]
  },
  {
   "cell_type": "markdown",
   "metadata": {},
   "source": [
    "## 6.2 구조적 공유: 영속적 구조\n",
    "\n",
    "리스트는 가장 단순한 형태의 *공유 구조* 타입\n",
    "\n",
    "> 공유 구조에서는 변경되는 값을 위한 메모리만 새로 할당하고 변하지 않는 나머지 부분은 원래 객체에서 공유"
   ]
  },
  {
   "cell_type": "code",
   "execution_count": 5,
   "metadata": {
    "collapsed": false
   },
   "outputs": [
    {
     "name": "stdout",
     "output_type": "stream",
     "text": [
      "(1 2 3)\n",
      "(2 3)\n",
      "(3 2 1 4 5 6)\n",
      "(3 2)\n"
     ]
    },
    {
     "data": {
      "text/plain": [
       "#'user/l #'user/m1 #'user/m2 #'user/r nil nil nil nil"
      ]
     },
     "execution_count": 5,
     "metadata": {},
     "output_type": "execute_result"
    }
   ],
   "source": [
    "(def l `(1 2 3))\n",
    "(def m1 (rest l))\n",
    "(def m2 (into `(4 5 6) l))\n",
    "(def r (reverse m1))\n",
    "\n",
    "(println l)\n",
    "(println m1)\n",
    "(println m2)\n",
    "(println r)"
   ]
  },
  {
   "cell_type": "markdown",
   "metadata": {},
   "source": [
    "![title](6_clojure_list.gif)"
   ]
  },
  {
   "cell_type": "code",
   "execution_count": 14,
   "metadata": {
    "collapsed": false
   },
   "outputs": [
    {
     "name": "stdout",
     "output_type": "stream",
     "text": [
      "{:name paul, :age 45}\n",
      "{:name paul, :age 45, :sec :male}\n"
     ]
    },
    {
     "data": {
      "text/plain": [
       "#'user/mapv1 #'user/mapv2 nil nil"
      ]
     },
     "execution_count": 14,
     "metadata": {},
     "output_type": "execute_result"
    }
   ],
   "source": [
    "(def mapv1 {:name \"paul\" :age 45})\n",
    "(def mapv2 (assoc mapv1 :sec :male))\n",
    "\n",
    "(println mapv1)\n",
    "(println mapv2)"
   ]
  },
  {
   "cell_type": "markdown",
   "metadata": {},
   "source": [
    "항상 복사를 하면 효율적이지 않기 때문에 클로저의 컬렉션에서는 공유 구조를 가지고 있다."
   ]
  },
  {
   "cell_type": "code",
   "execution_count": 3,
   "metadata": {
    "collapsed": false
   },
   "outputs": [
    {
     "name": "stdout",
     "output_type": "stream",
     "text": [
      "(:willie :barnabas :adam)\n",
      "(:phoenix :barnabas :adam)\n"
     ]
    },
    {
     "data": {
      "text/plain": [
       "#'user/baselist #'user/list1 #'user/list2 nil nil"
      ]
     },
     "execution_count": 3,
     "metadata": {},
     "output_type": "execute_result"
    }
   ],
   "source": [
    "(def baselist (list :barnabas :adam))\n",
    "(def list1 (cons :willie baselist))\n",
    "(def list2 (cons :phoenix baselist))\n",
    "\n",
    "(println list1)\n",
    "(println list2)"
   ]
  },
  {
   "cell_type": "code",
   "execution_count": 4,
   "metadata": {
    "collapsed": false
   },
   "outputs": [
    {
     "data": {
      "text/plain": [
       "true true"
      ]
     },
     "execution_count": 4,
     "metadata": {},
     "output_type": "execute_result"
    }
   ],
   "source": [
    "(= (next list1) (next list2))\n",
    "(identical? (next list1) (next list2))"
   ]
  },
  {
   "cell_type": "markdown",
   "metadata": {},
   "source": [
    "#### 불변 객체로 이루어진 트리\n",
    "\n",
    "여기서 만들어볼 트리는 Left Right Value를 가진 간단한 트리이다.\n",
    "\n",
    "맵에 넣어보면 아래와 같다"
   ]
  },
  {
   "cell_type": "code",
   "execution_count": 8,
   "metadata": {
    "collapsed": false
   },
   "outputs": [
    {
     "data": {
      "text/plain": [
       "{:val 5, :L nil, :R nil}"
      ]
     },
     "execution_count": 8,
     "metadata": {},
     "output_type": "execute_result"
    }
   ],
   "source": [
    "{:val 5, :L nil, :R nil}"
   ]
  },
  {
   "cell_type": "code",
   "execution_count": null,
   "metadata": {
    "collapsed": true
   },
   "outputs": [],
   "source": [
    "값으로 5를 가지고 왼쪽 가지가 비어있고 오른쪽 가지도 비어있는 하나의 노드\n",
    "\n",
    "트리에 노드를 추가해주는 함수를 만들 수 있다."
   ]
  },
  {
   "cell_type": "code",
   "execution_count": 6,
   "metadata": {
    "collapsed": false
   },
   "outputs": [
    {
     "data": {
      "text/plain": [
       "#'user/xconj"
      ]
     },
     "execution_count": 6,
     "metadata": {},
     "output_type": "execute_result"
    }
   ],
   "source": [
    "(defn xconj [tree value]\n",
    "  (cond\n",
    "    (nil? tree) {:val value, :L nil, :R nil}))"
   ]
  },
  {
   "cell_type": "code",
   "execution_count": 7,
   "metadata": {
    "collapsed": false
   },
   "outputs": [
    {
     "data": {
      "text/plain": [
       "{:val 5, :L nil, :R nil}"
      ]
     },
     "execution_count": 7,
     "metadata": {},
     "output_type": "execute_result"
    }
   ],
   "source": [
    "(xconj nil 5)"
   ]
  },
  {
   "cell_type": "markdown",
   "metadata": {},
   "source": [
    "이제 첫 노드를 추가할 차례이다.\n",
    "\n",
    "tree가 nil이 아니고 자신보다 value가 작은 경우에는 왼쪽 가지에 추가한다.\n",
    "\n",
    "그를 위해 아래와 같은 비교가 필요해진다.\n",
    "\n",
    "```clojure\n",
    "(< value (:value tree))\n",
    "```\n",
    "\n",
    "또한, 아래와 같이 기존 노드의 값을 변경하지 않고 새로운 노드를 만들어서 복사해야 한다.\n",
    "\n",
    "```clojure\n",
    "(:value (:value tree),\n",
    "  :L (여기에 새로운 노드를 입력)\n",
    "  :R (:R tree))\n",
    "```\n",
    "\n",
    "#### 전체 코드"
   ]
  },
  {
   "cell_type": "code",
   "execution_count": 16,
   "metadata": {
    "collapsed": false
   },
   "outputs": [
    {
     "data": {
      "text/plain": [
       "#'user/xconj"
      ]
     },
     "execution_count": 16,
     "metadata": {},
     "output_type": "execute_result"
    }
   ],
   "source": [
    "(defn xconj [tree value]\n",
    "  (cond\n",
    "    (nil? tree)           {:val value, :L nil, :R nil}\n",
    "    (< value (:val tree)) {:val (:val tree),\n",
    "                           :L   (xconj (:L tree) value)\n",
    "                           :R   (:R tree)}\n",
    "    :else                 {:val (:val tree),\n",
    "                           :L   (:L tree)\n",
    "                           :R   (xconj (:R tree) value)}\n",
    "  )\n",
    ")"
   ]
  },
  {
   "cell_type": "code",
   "execution_count": 17,
   "metadata": {
    "collapsed": false
   },
   "outputs": [
    {
     "name": "stdout",
     "output_type": "stream",
     "text": [
      "{:val 5, :L nil, :R nil}\n",
      "{:val 5, :L {:val 3, :L nil, :R nil}, :R nil}\n",
      "{:val 5, :L {:val 3, :L {:val 2, :L nil, :R nil}, :R nil}, :R nil}\n"
     ]
    },
    {
     "data": {
      "text/plain": [
       "#'user/tree1 nil #'user/tree1 nil #'user/tree1 nil"
      ]
     },
     "execution_count": 17,
     "metadata": {},
     "output_type": "execute_result"
    }
   ],
   "source": [
    "(def tree1 (xconj nil 5))\n",
    "(println tree1)\n",
    "(def tree1 (xconj tree1 3))\n",
    "(println tree1)\n",
    "(def tree1 (xconj tree1 2))\n",
    "(println tree1)"
   ]
  },
  {
   "cell_type": "code",
   "execution_count": 18,
   "metadata": {
    "collapsed": false
   },
   "outputs": [
    {
     "data": {
      "text/plain": [
       "{:val 5, :L {:val 3, :L {:val 2, :L nil, :R nil}, :R nil}, :R nil}"
      ]
     },
     "execution_count": 18,
     "metadata": {},
     "output_type": "execute_result"
    }
   ],
   "source": [
    "tree1"
   ]
  },
  {
   "cell_type": "markdown",
   "metadata": {},
   "source": [
    "데이터가 잘 들어갔는지 확인하기 위해 순서대로 조회하면서 출력해주는 함수를 만들어보자"
   ]
  },
  {
   "cell_type": "code",
   "execution_count": 19,
   "metadata": {
    "collapsed": false
   },
   "outputs": [
    {
     "data": {
      "text/plain": [
       "#'user/xseq"
      ]
     },
     "execution_count": 19,
     "metadata": {},
     "output_type": "execute_result"
    }
   ],
   "source": [
    "(defn xseq [tree]\n",
    "  (when tree\n",
    "    (concat (xseq (:L tree)) [(:val tree)] (xseq (:R tree)))))"
   ]
  },
  {
   "cell_type": "code",
   "execution_count": 20,
   "metadata": {
    "collapsed": false
   },
   "outputs": [
    {
     "data": {
      "text/plain": [
       "(2 3 5)"
      ]
     },
     "execution_count": 20,
     "metadata": {},
     "output_type": "execute_result"
    }
   ],
   "source": [
    "(xseq tree1)"
   ]
  },
  {
   "cell_type": "code",
   "execution_count": 21,
   "metadata": {
    "collapsed": false
   },
   "outputs": [
    {
     "data": {
      "text/plain": [
       "#'user/tree2 (2 3 5 7)"
      ]
     },
     "execution_count": 21,
     "metadata": {},
     "output_type": "execute_result"
    }
   ],
   "source": [
    "(def tree2 (xconj tree1 7))\n",
    "(xseq tree2)"
   ]
  },
  {
   "cell_type": "markdown",
   "metadata": {},
   "source": [
    "![title](6_tree.jpg)"
   ]
  },
  {
   "cell_type": "code",
   "execution_count": 22,
   "metadata": {
    "collapsed": false
   },
   "outputs": [
    {
     "data": {
      "text/plain": [
       "true"
      ]
     },
     "execution_count": 22,
     "metadata": {},
     "output_type": "execute_result"
    }
   ],
   "source": [
    "(identical? (:L tree1) (:L tree2))"
   ]
  },
  {
   "cell_type": "markdown",
   "metadata": {},
   "source": [
    "이 예제는 모든 클로저의 영속적 컬렉션들이 공통적으로 갖는 몇가지 특징들을 보여준다.\n",
    "\n",
    "1. 모든 *변경*은 일단 새로운 루트 노드를 생성하고, 새 값이 삽입될 위치의 트리 경로에 새 노드를 추가한다.\n",
    "2. 값과 변경되지 않는 가지가 복사되는 것이 아니라, 기존의 노드에서 새 노드로 그 참조가 복사된다.\n",
    "3. 스레드에 안전하다. \n",
    "  - *xconf*를 호출하기 전에 존재하던 객체들은 어떤 방법으로든 변경되지 않기 때문\n",
    "  \n",
    "하지만 위의 코드는 좋지 않은 품질의 코드다.\n",
    "\n",
    "1. 이진 트리 방식\n",
    "2. 숫자 외에 다른 값을 저장할 수 없다.\n",
    "3. 트리의 깊이가 깊어지면 오버 플로그 발생 가능성이 있다.\n",
    "4. *xseq*가 지연 시퀀스가 아닌 트리 전체를 복사하는 방식이다.\n",
    "5. 비 균형적인 트리를 생성할 수 있다.\n",
    "\n",
    "클로저는 메모리 공간 절약을 위해 지연 시퀀스라는 개념에 크게 의존하고 있는데,, 이건 다음에.."
   ]
  },
  {
   "cell_type": "markdown",
   "metadata": {},
   "source": [
    "## 6.3 지연"
   ]
  }
 ],
 "metadata": {
  "kernelspec": {
   "display_name": "Clojure",
   "language": "clojure",
   "name": "clojure"
  }
 },
 "nbformat": 4,
 "nbformat_minor": 1
}
