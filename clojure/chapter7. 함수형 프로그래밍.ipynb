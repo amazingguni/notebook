{
 "cells": [
  {
   "cell_type": "markdown",
   "metadata": {
    "deletable": true,
    "editable": true
   },
   "source": [
    "# 클로저 : 프로그래밍의 즐거움 Chapter 6. 지연과 불변성\n",
    "\n",
    "## Younggun Na (amazingguni@gmail.com)\n",
    "\n",
    "### Overview\n",
    "\n",
    "1. 함수 구문의 종류\n",
    "2. 클로저\n",
    "3. 재귀적으로 생각하기\n",
    "4. A* 경로 찾기\n",
    "\n",
    "함수형 프로그래밍의 핵심 중 람다 계산이라 불리는 방식이 있는데 클로저 함수는 람다 계산을 고수하는 일급 클래스\n",
    "\n",
    "- 다른 함수에 인자로 전달하거나 결과로 리턴할 수 있다.\n",
    "- 함수 합성, 부분적 평가, 재귀, 렉시컬 클로저, 순수 함수, 함수 제약, 고차 함수, 일급 클래스 함수\n",
    "\n",
    "### 7.1 함수 구문의 종류\n",
    "\n",
    "대부분의 클로저 복합 타입들은 그 요소에 대한 함수로 사용 가능"
   ]
  },
  {
   "cell_type": "code",
   "execution_count": 1,
   "metadata": {
    "collapsed": false,
    "deletable": true,
    "editable": true
   },
   "outputs": [
    {
     "data": {
      "text/plain": [
       ":a"
      ]
     },
     "execution_count": 1,
     "metadata": {},
     "output_type": "execute_result"
    }
   ],
   "source": [
    "([:a :b] 0)"
   ]
  },
  {
   "cell_type": "markdown",
   "metadata": {
    "deletable": true,
    "editable": true
   },
   "source": [
    "요런 것을 함수로서 호출하면 유용하게 쓸 수 있다.\n",
    "\n",
    "`[]`는 백터 `#{}`는 셋이다."
   ]
  },
  {
   "cell_type": "code",
   "execution_count": 3,
   "metadata": {
    "collapsed": false,
    "deletable": true,
    "editable": true
   },
   "outputs": [
    {
     "name": "stdout",
     "output_type": "stream",
     "text": [
      "(:chthon :grendel)\n"
     ]
    }
   ],
   "source": [
    "(println (map [:chthon :phthor :heowulf :grendel] #{0 3}))"
   ]
  },
  {
   "cell_type": "markdown",
   "metadata": {
    "deletable": true,
    "editable": true
   },
   "source": [
    "컬렉션이 함수로 기능할 수 있고 함수도 데이터로 기능할 수 있다. \n",
    "\n",
    "이게 바로 일급 클래스 함수로 불리는 개념\n",
    "\n",
    "### 7.1.1 일급 클래스 함수\n",
    "\n",
    "클로저는 개발 문제에 대해 함수를 데이터에 적용하는 관점으로 인식한다.\n",
    "\n",
    "- 자바에서는 프로그램 내의 모든 행위들에 대해서 클래스에 덧붙여진 형태로 모델링되어야 한다는 관점\n",
    "\n",
    "**일급 클래스의 정의**\n",
    "\n",
    "컴퓨터 프로그래밍 언어 디자인에서, 특정 언어의 일급 객체 (일급 값, 일급 엔티티, 혹은 일급 시민)이라 함은 일반적으로 다른 객체들에 적용 가능한 연산을 모두 지원하는 객체를 가리킨다. 함수에 매개변수로 넘기기, 변수에 대입하기와 같은 연산들이 여기서 말하는 일반적인 연산의 예에 해당한다.\n",
    "\n",
    "**조건**\n",
    "\n",
    "- 일급 클래스는 필요에 의해 생성될 수 있다.\n",
    "- 일급 클래스는 데이터 구조 내에 저장될 수 있다.\n",
    "- 일급 클래스는 함수의 인자로 전달될 수 있다.\n",
    "- 일급 클래스는 함수의 결과 값으로 리턴될 수 있다.\n",
    "\n",
    "#### 필요에 의한 함수 생성: 합성 사용하기\n",
    "\n",
    "클로저의 연산의 주 단위는 함수라는 것은 명백하다.\n",
    "\n",
    "또한 함수를 새로 생성하거나 다른 함수들과 합성하는 것도 가능하다.\n",
    "\n",
    "> comp 함수는 뒤에 나오는 함수들을 합성해준다.\n"
   ]
  },
  {
   "cell_type": "code",
   "execution_count": 3,
   "metadata": {
    "collapsed": false,
    "deletable": true,
    "editable": true
   },
   "outputs": [
    {
     "data": {
      "text/plain": [
       "5"
      ]
     },
     "execution_count": 3,
     "metadata": {},
     "output_type": "execute_result"
    }
   ],
   "source": [
    "(def fifth (comp first rest rest rest rest))\n",
    "(fifth [1 2 3 4 5 6 7])"
   ]
  },
  {
   "cell_type": "code",
   "execution_count": 4,
   "metadata": {
    "collapsed": false,
    "deletable": true,
    "editable": true
   },
   "outputs": [
    {
     "data": {
      "text/plain": [
       "5"
      ]
     },
     "execution_count": 4,
     "metadata": {},
     "output_type": "execute_result"
    }
   ],
   "source": [
    "(first (rest (rest (rest (rest [1 2 3 4 5 6 7])))))"
   ]
  },
  {
   "cell_type": "markdown",
   "metadata": {
    "deletable": true,
    "editable": true
   },
   "source": [
    "n번째 요소를 리턴하는 함수를 만들면"
   ]
  },
  {
   "cell_type": "code",
   "execution_count": 5,
   "metadata": {
    "collapsed": false,
    "deletable": true,
    "editable": true
   },
   "outputs": [
    {
     "data": {
      "text/plain": [
       "e"
      ]
     },
     "execution_count": 5,
     "metadata": {},
     "output_type": "execute_result"
    }
   ],
   "source": [
    "(defn fnth [n]\n",
    "    (apply comp\n",
    "           (cons first\n",
    "                 (take (dec n) (repeat rest)))))\n",
    "\n",
    "((fnth 5) '[a b c d e])"
   ]
  },
  {
   "cell_type": "code",
   "execution_count": 7,
   "metadata": {
    "collapsed": false,
    "deletable": true,
    "editable": true
   },
   "outputs": [
    {
     "name": "stdout",
     "output_type": "stream",
     "text": [
      "(#function[clojure.core/rest--4343] #function[clojure.core/rest--4343] #function[clojure.core/rest--4343])\n"
     ]
    }
   ],
   "source": [
    "(println (take 3 (repeat rest)))"
   ]
  },
  {
   "cell_type": "markdown",
   "metadata": {
    "deletable": true,
    "editable": true
   },
   "source": [
    "이런식으로 합성의 관점에서 생각하면 유용하게 새 함수를 생성할 수 있다.\n",
    "\n",
    "> 만일 한 줄에 여러 괄호가 등장한다면, 대부분 함수를 리턴하려는 의도로 생각해도 좋다."
   ]
  },
  {
   "cell_type": "code",
   "execution_count": 9,
   "metadata": {
    "collapsed": false,
    "deletable": true,
    "editable": true
   },
   "outputs": [
    {
     "name": "stdout",
     "output_type": "stream",
     "text": [
      "(:a :b :c)\n"
     ]
    }
   ],
   "source": [
    "(println (map (comp keyword #(.toLowerCase %) name) `(a B C)))"
   ]
  },
  {
   "cell_type": "markdown",
   "metadata": {
    "deletable": true,
    "editable": true
   },
   "source": [
    "#### 필요에 의한 함수 생성: 부분 함수 사용하기\n",
    "\n",
    "partial 함수를 이용해서 추가적인 인자를 적용하는 새로운 함수를 구성할 수 있다.\n"
   ]
  },
  {
   "cell_type": "code",
   "execution_count": 13,
   "metadata": {
    "collapsed": false,
    "deletable": true,
    "editable": true
   },
   "outputs": [
    {
     "data": {
      "text/plain": [
       "#'user/won2dolor"
      ]
     },
     "execution_count": 13,
     "metadata": {},
     "output_type": "execute_result"
    }
   ],
   "source": [
    "(def won2dolor (partial * 1200))"
   ]
  },
  {
   "cell_type": "code",
   "execution_count": 14,
   "metadata": {
    "collapsed": false,
    "deletable": true,
    "editable": true
   },
   "outputs": [
    {
     "data": {
      "text/plain": [
       "12000"
      ]
     },
     "execution_count": 14,
     "metadata": {},
     "output_type": "execute_result"
    }
   ],
   "source": [
    "(won2dolor 10)"
   ]
  },
  {
   "cell_type": "code",
   "execution_count": 15,
   "metadata": {
    "collapsed": false,
    "deletable": true,
    "editable": true
   },
   "outputs": [
    {
     "data": {
      "text/plain": [
       "144000"
      ]
     },
     "execution_count": 15,
     "metadata": {},
     "output_type": "execute_result"
    }
   ],
   "source": [
    "(won2dolor 10 3 4)"
   ]
  },
  {
   "cell_type": "markdown",
   "metadata": {
    "deletable": true,
    "editable": true
   },
   "source": [
    "#### complement로 불리언 값 변경하기\n",
    "\n",
    "참 또는 거짓을 리턴하는 함수를 받아서 반대 값을 리턴한다."
   ]
  },
  {
   "cell_type": "code",
   "execution_count": 16,
   "metadata": {
    "collapsed": false,
    "deletable": true,
    "editable": true
   },
   "outputs": [
    {
     "data": {
      "text/plain": [
       "[false false true true]"
      ]
     },
     "execution_count": 16,
     "metadata": {},
     "output_type": "execute_result"
    }
   ],
   "source": [
    "(let [truthiness (fn [v] v)]\n",
    "    [((complement truthiness) true)\n",
    "     ((complement truthiness) 42)\n",
    "     ((complement truthiness) false)\n",
    "     ((complement truthiness) nil)])"
   ]
  },
  {
   "cell_type": "code",
   "execution_count": 17,
   "metadata": {
    "collapsed": false,
    "deletable": true,
    "editable": true
   },
   "outputs": [
    {
     "data": {
      "text/plain": [
       "false"
      ]
     },
     "execution_count": 17,
     "metadata": {},
     "output_type": "execute_result"
    }
   ],
   "source": [
    "((complement even?) 2)"
   ]
  },
  {
   "cell_type": "markdown",
   "metadata": {
    "deletable": true,
    "editable": true
   },
   "source": [
    "#### 함수를 데이터로 사용하기\n",
    "\n",
    "일급 클래스 함수는 데이터 그 자체이기 때문에 어떤 컨테이너에도 저장할 수 있다.\n",
    "\n",
    "- 데이터 조각, 로컬, 참조, 컬렉션 등 모든\n",
    "\n",
    "함수를 데이터로 다룰 때 유용한 메소드의 예로 테스트 프레임워크인 clojure.test를 보자\n",
    "\n",
    "> 함수의 인자 앞에 오는 map은 함수의 메타 데이타이다.\n",
    "\n",
    "> (interpose sep coll) interpose 는 coll의 element들 사이에 sep를 추가한 lazy seq를 리턴해준다.\n",
    "Returns a stateful transducer when no collection is provided."
   ]
  },
  {
   "cell_type": "code",
   "execution_count": 18,
   "metadata": {
    "collapsed": false,
    "deletable": true,
    "editable": true
   },
   "outputs": [
    {
     "data": {
      "text/plain": [
       "#'user/join"
      ]
     },
     "execution_count": 18,
     "metadata": {},
     "output_type": "execute_result"
    }
   ],
   "source": [
    "(defn join\n",
    "  {:test (fn []\n",
    "            (assert\n",
    "              (= (join \",\" [1 2 3]) \"1,3,3\")))}\n",
    "  [sep s]\n",
    "  (apply str (interpose sep s)))"
   ]
  },
  {
   "cell_type": "code",
   "execution_count": 19,
   "metadata": {
    "collapsed": false,
    "deletable": true,
    "editable": true
   },
   "outputs": [
    {
     "name": "stdout",
     "output_type": "stream",
     "text": [
      "\n",
      "Testing user\n",
      "\n",
      "ERROR in (join) (:3)\n",
      "Uncaught exception, not in assertion.\n",
      "expected: nil\n",
      "  actual: java.lang.AssertionError: Assert failed: (= (join \",\" [1 2 3]) \"1,3,3\")\n",
      " at user$fn__72.invokeStatic (:3)\n",
      "    user/fn (:2)\n",
      "    clojure.test$test_var$fn__7983.invoke (test.clj:716)\n",
      "    clojure.test$test_var.invokeStatic (test.clj:716)\n",
      "    clojure.test$test_var.invoke (test.clj:707)\n",
      "    clojure.test$test_vars$fn__8005$fn__8010.invoke (test.clj:734)\n",
      "    clojure.test$default_fixture.invokeStatic (test.clj:686)\n",
      "    clojure.test$default_fixture.invoke (test.clj:682)\n",
      "    clojure.test$test_vars$fn__8005.invoke (test.clj:734)\n",
      "    clojure.test$default_fixture.invokeStatic (test.clj:686)\n",
      "    clojure.test$default_fixture.invoke (test.clj:682)\n",
      "    clojure.test$test_vars.invokeStatic (test.clj:730)\n",
      "    clojure.test$test_all_vars.invokeStatic (test.clj:736)\n",
      "    clojure.test$test_ns.invokeStatic (test.clj:757)\n",
      "    clojure.test$test_ns.invoke (test.clj:742)\n",
      "    clojure.core$map$fn__4785.invoke (core.clj:2646)\n",
      "    clojure.lang.LazySeq.sval (LazySeq.java:40)\n",
      "    clojure.lang.LazySeq.seq (LazySeq.java:49)\n",
      "    clojure.lang.Cons.next (Cons.java:39)\n",
      "    clojure.lang.RT.boundedLength (RT.java:1749)\n",
      "    clojure.lang.RestFn.applyTo (RestFn.java:130)\n",
      "    clojure.core$apply.invokeStatic (core.clj:648)\n",
      "    clojure.test$run_tests.invokeStatic (test.clj:767)\n",
      "    clojure.test$run_tests.doInvoke (test.clj:767)\n",
      "    clojure.lang.RestFn.invoke (RestFn.java:408)\n",
      "    clojure.test$run_tests.invokeStatic (test.clj:772)\n",
      "    clojure.test$run_tests.invoke (test.clj:767)\n",
      "    user$eval77.invokeStatic (:2)\n",
      "    user$eval77.invoke (:2)\n",
      "    clojure.lang.Compiler.eval (Compiler.java:6927)\n",
      "    clojure.lang.Compiler.eval (Compiler.java:6890)\n",
      "    clojure.core$eval.invokeStatic (core.clj:3105)\n",
      "    clojure.core$eval.invoke (core.clj:3101)\n",
      "    clojure.main$repl$read_eval_print__7408$fn__7411.invoke (main.clj:240)\n",
      "    clojure.main$repl$read_eval_print__7408.invoke (main.clj:240)\n",
      "    clojure.main$repl$fn__7417.invoke (main.clj:258)\n",
      "    clojure.main$repl.invokeStatic (main.clj:258)\n",
      "    clojure.main$repl.doInvoke (main.clj:174)\n",
      "    clojure.lang.RestFn.invoke (RestFn.java:1523)\n",
      "    clojure.tools.nrepl.middleware.interruptible_eval$evaluate$fn__2213.invoke (interruptible_eval.clj:87)\n",
      "    clojure.lang.AFn.applyToHelper (AFn.java:152)\n",
      "    clojure.lang.AFn.applyTo (AFn.java:144)\n",
      "    clojure.core$apply.invokeStatic (core.clj:646)\n",
      "    clojure.core$with_bindings_STAR_.invokeStatic (core.clj:1881)\n",
      "    clojure.core$with_bindings_STAR_.doInvoke (core.clj:1881)\n",
      "    clojure.lang.RestFn.invoke (RestFn.java:425)\n",
      "    clojure.tools.nrepl.middleware.interruptible_eval$evaluate.invokeStatic (interruptible_eval.clj:85)\n",
      "    clojure.tools.nrepl.middleware.interruptible_eval$evaluate.invoke (interruptible_eval.clj:55)\n",
      "    clojure.tools.nrepl.middleware.interruptible_eval$interruptible_eval$fn__2258$fn__2261.invoke (interruptible_eval.clj:222)\n",
      "    clojure.tools.nrepl.middleware.interruptible_eval$run_next$fn__2253.invoke (interruptible_eval.clj:190)\n",
      "    clojure.lang.AFn.run (AFn.java:22)\n",
      "    java.util.concurrent.ThreadPoolExecutor.runWorker (ThreadPoolExecutor.java:1142)\n",
      "    java.util.concurrent.ThreadPoolExecutor$Worker.run (ThreadPoolExecutor.java:617)\n",
      "    java.lang.Thread.run (Thread.java:745)\n",
      "\n",
      "Ran 1 tests containing 1 assertions.\n",
      "0 failures, 1 errors.\n"
     ]
    },
    {
     "data": {
      "text/plain": [
       "{:test 1, :pass 0, :fail 0, :error 1, :type :summary}"
      ]
     },
     "execution_count": 19,
     "metadata": {},
     "output_type": "execute_result"
    }
   ],
   "source": [
    "(use '[clojure.test :as t])\n",
    "(t/run-tests)"
   ]
  },
  {
   "cell_type": "markdown",
   "metadata": {
    "collapsed": true,
    "deletable": true,
    "editable": true
   },
   "source": [
    "함수의 인자 앞에 위치한 맵은 defn 매크로를 사용해서 함수에 메타데이터를 입력하는 한 가지 방법이다. 다른 방법으로는 약식 표기를 사용할 수도 있다.\n",
    "\n",
    "```clojure\n",
    "(defn ^:private ^:dynamic sum [nums]\n",
    "  (map + nums))\n",
    "```\n",
    "\n",
    "```clojure\n",
    "(defn ^{:private true, :dynamic true} sum [nums]\n",
    "  (map + nums))\n",
    "```\n",
    "\n",
    "```clojure\n",
    "(defn sum {:private true, :dynamic true} [nums]\n",
    "  (map + nums))\n",
    "```\n",
    "\n",
    "### 7.1.2 고차 함수\n",
    "\n",
    "고차 함수(==고계함수, ==high-order function) 은 아래 중 적어도 한개에는 해당한다.\n",
    "\n",
    "- 인자로 한 개 이상의 함수를 취한다\n",
    "- 함수를 결과로 리턴한다\n",
    "\n",
    "> java의 EventListener 와 비슷해보이지만, 이것도 객체로 전달한다\n",
    "\n",
    "#### 인자로서의 함수\n",
    "\n",
    "이 책에서는 map, reduce, filter 등의 시퀀스 함수를 사용하고 권장함.\n",
    "\n",
    "- 모두 함수를 인자로 받고, 인자로 입력된 시퀀스의 요소들에 그 함수를 적용\n",
    "\n",
    "클로저에서는 이런 방식의 함수 활용이 자주 사용되며 아주 고상하게 문제를 해결할 수 있는 방법이다.\n",
    "\n",
    "sort-by 함수로 인자로서의 함수에 대해 자세히 살펴보자. clojure에서도 다른 언어와 같이 sort라는 함수를 제공한다. 또 예상대로 작동한다."
   ]
  },
  {
   "cell_type": "code",
   "execution_count": 1,
   "metadata": {
    "collapsed": false,
    "deletable": true,
    "editable": true
   },
   "outputs": [
    {
     "data": {
      "text/plain": [
       "(-42 0 1 5 7 13)"
      ]
     },
     "execution_count": 1,
     "metadata": {},
     "output_type": "execute_result"
    }
   ],
   "source": [
    "(sort [1 5 7 0 -42 13])"
   ]
  },
  {
   "cell_type": "code",
   "execution_count": 2,
   "metadata": {
    "collapsed": false,
    "deletable": true,
    "editable": true
   },
   "outputs": [
    {
     "data": {
      "text/plain": [
       "(\"a\" \"aa\" \"x\" \"z\")"
      ]
     },
     "execution_count": 2,
     "metadata": {},
     "output_type": "execute_result"
    }
   ],
   "source": [
    "(sort [\"z\" \"x\" \"a\" \"aa\"])"
   ]
  },
  {
   "cell_type": "code",
   "execution_count": 3,
   "metadata": {
    "collapsed": false,
    "deletable": true,
    "editable": true
   },
   "outputs": [
    {
     "data": {
      "text/plain": [
       "([-1 0 1] [1 2 3] [3 2 1])"
      ]
     },
     "execution_count": 3,
     "metadata": {},
     "output_type": "execute_result"
    }
   ],
   "source": [
    "(sort [[1 2 3], [-1 0 1], [3 2 1]])"
   ]
  },
  {
   "cell_type": "markdown",
   "metadata": {
    "deletable": true,
    "editable": true
   },
   "source": [
    "만약 큰 것부터 작은 것의 순으로 정렬하고 싶다면 기준이 되는 함수를 sort 함수에 전달할 수 있다."
   ]
  },
  {
   "cell_type": "code",
   "execution_count": 4,
   "metadata": {
    "collapsed": false,
    "deletable": true,
    "editable": true
   },
   "outputs": [
    {
     "data": {
      "text/plain": [
       "(7 4 1)"
      ]
     },
     "execution_count": 4,
     "metadata": {},
     "output_type": "execute_result"
    }
   ],
   "source": [
    "(sort > [7 1 4])"
   ]
  },
  {
   "cell_type": "code",
   "execution_count": null,
   "metadata": {
    "collapsed": true,
    "deletable": true,
    "editable": true
   },
   "outputs": [],
   "source": [
    "만약 시퀀스에 포함된 요소들이 비교 불가능할 경우 정렬은 실패한다."
   ]
  },
  {
   "cell_type": "code",
   "execution_count": 4,
   "metadata": {
    "collapsed": false,
    "deletable": true,
    "editable": true
   },
   "outputs": [
    {
     "name": "stdout",
     "output_type": "stream",
     "text": [
      "ClassCastException java.lang.String cannot be cast to java.lang.Number  clojure.lang.Util.compare (Util.java:152)\n"
     ]
    },
    {
     "ename": "class java.lang.ClassCastException",
     "evalue": "",
     "output_type": "error",
     "traceback": [
      "     Util.java:   152 clojure.lang.Util/compare        ",
      "      core.clj:   821 clojure.core$compare/invokeStatic",
      "      core.clj:   812 clojure.core$compare/invoke      ",
      "AFunction.java:    47 clojure.lang.AFunction/compare   ",
      "  TimSort.java:   296 java.util.TimSort/binarySort     ",
      "  TimSort.java:   221 java.util.TimSort/sort           ",
      "   Arrays.java:  1438 java.util.Arrays/sort            ",
      "      core.clj:  3006 clojure.core$sort/invokeStatic   ",
      "            []:     1 user$eval36/invokeStatic         "
     ]
    }
   ],
   "source": [
    "(sort [\"z\" \"x\" \"a\" \"aa\" 1 5 8])"
   ]
  },
  {
   "cell_type": "code",
   "execution_count": 0,
   "metadata": {
    "collapsed": false,
    "deletable": true,
    "editable": true
   },
   "outputs": [
    {
     "name": "stdout",
     "output_type": "stream",
     "text": [
      "ClassCastException clojure.lang.PersistentArrayMap cannot be cast to java.lang.Comparable  clojure.lang.Util.compare (Util.java:153)\n"
     ]
    },
    {
     "ename": "class java.lang.ClassCastException",
     "evalue": "",
     "output_type": "error",
     "traceback": [
      "     Util.java:   153 clojure.lang.Util/compare                 ",
      "      core.clj:   821 clojure.core$compare/invokeStatic         ",
      "      core.clj:   812 clojure.core$compare/invoke               ",
      "AFunction.java:    47 clojure.lang.AFunction/compare            ",
      "  TimSort.java:   355 java.util.TimSort/countRunAndMakeAscending",
      "  TimSort.java:   220 java.util.TimSort/sort                    ",
      "   Arrays.java:  1438 java.util.Arrays/sort                     ",
      "      core.clj:  3006 clojure.core$sort/invokeStatic            ",
      "            []:     1 user$eval28/invokeStatic                  "
     ]
    }
   ],
   "source": [
    "(sort [{:age 99}, {:age 13}, {:age 7}])"
   ]
  },
  {
   "cell_type": "markdown",
   "metadata": {
    "deletable": true,
    "editable": true
   },
   "source": [
    "또 한 타입의 내부 요소를 비교하게 되면 특정 부분을 기준으로 하지 않고 요소의 집합을 기준으로 정렬하기 때문에 원하는 결과가 나오지 않을 수 있다."
   ]
  },
  {
   "cell_type": "code",
   "execution_count": 2,
   "metadata": {
    "collapsed": false,
    "deletable": true,
    "editable": true
   },
   "outputs": [
    {
     "data": {
      "text/plain": [
       "([:a 7] [:b 21] [:c 13])"
      ]
     },
     "execution_count": 2,
     "metadata": {},
     "output_type": "execute_result"
    }
   ],
   "source": [
    "(sort [[:a 7], [:c 13], [:b 21]])"
   ]
  },
  {
   "cell_type": "markdown",
   "metadata": {
    "deletable": true,
    "editable": true
   },
   "source": [
    "만약 2번째 인자를 기준으로 정렬하기 위해 second 함수를 사용하면,"
   ]
  },
  {
   "cell_type": "code",
   "execution_count": 2,
   "metadata": {
    "collapsed": false,
    "deletable": true,
    "editable": true
   },
   "outputs": [
    {
     "name": "stdout",
     "output_type": "stream",
     "text": [
      "ArityException Wrong number of args (2) passed to: core/second--4347  clojure.lang.AFn.throwArity (AFn.java:429)\n"
     ]
    },
    {
     "ename": "class clojure.lang.ArityException",
     "evalue": "",
     "output_type": "error",
     "traceback": [
      "      AFn.java:   429 clojure.lang.AFn/throwArity               ",
      "      AFn.java:    36 clojure.lang.AFn/invoke                   ",
      "AFunction.java:    47 clojure.lang.AFunction/compare            ",
      "  TimSort.java:   355 java.util.TimSort/countRunAndMakeAscending",
      "  TimSort.java:   220 java.util.TimSort/sort                    ",
      "   Arrays.java:  1438 java.util.Arrays/sort                     ",
      "      core.clj:  3006 clojure.core$sort/invokeStatic            ",
      "      core.clj:  2993 clojure.core$sort/invoke                  ",
      "            []:     1 user$eval34/invokeStatic                  "
     ]
    }
   ],
   "source": [
    "(sort second [[:a 7], [:c 13], [:b 21]])"
   ]
  },
  {
   "cell_type": "markdown",
   "metadata": {
    "deletable": true,
    "editable": true
   },
   "source": [
    "대신 클로저는 sort-by 함수를 제공하여 정렬할 요소를 서로 비교할 수 있도록 처리해주는 함수를 인자로 받는다."
   ]
  },
  {
   "cell_type": "code",
   "execution_count": 3,
   "metadata": {
    "collapsed": false,
    "deletable": true,
    "editable": true
   },
   "outputs": [
    {
     "data": {
      "text/plain": [
       "([:a 7] [:c 13] [:b 21])"
      ]
     },
     "execution_count": 3,
     "metadata": {},
     "output_type": "execute_result"
    }
   ],
   "source": [
    "(sort-by second [[:a 7], [:c 13], [:b 21]])"
   ]
  },
  {
   "cell_type": "code",
   "execution_count": 4,
   "metadata": {
    "collapsed": false,
    "deletable": true,
    "editable": true
   },
   "outputs": [
    {
     "data": {
      "text/plain": [
       "(1 5 8 \"a\" \"aa\" \"x\" \"z\")"
      ]
     },
     "execution_count": 4,
     "metadata": {},
     "output_type": "execute_result"
    }
   ],
   "source": [
    "(sort-by str [\"z\" \"x\" \"a\" \"aa\" 1 5 8])"
   ]
  },
  {
   "cell_type": "code",
   "execution_count": 5,
   "metadata": {
    "collapsed": false,
    "deletable": true,
    "editable": true
   },
   "outputs": [
    {
     "data": {
      "text/plain": [
       "({:age 7} {:age 13} {:age 99})"
      ]
     },
     "execution_count": 5,
     "metadata": {},
     "output_type": "execute_result"
    }
   ],
   "source": [
    "(sort-by :age [{:age 99}, {:age 13}, {:age 7}])"
   ]
  },
  {
   "cell_type": "markdown",
   "metadata": {
    "deletable": true,
    "editable": true
   },
   "source": [
    "sort-by는 임의의 함수를 인자로 받아 요소들을 미리 처리함으로써 강력한 정렬 기법을 활용할 수 있다.\n",
    "\n",
    "> partial은 1번째 인자인 함수에 나머지 인자들을 인자로 포함시키는 함수\n",
    "\n",
    "> Takes a function f and fewer than the normal arguments to f, and\n",
    "returns a fn that takes a variable number of additional args. When\n",
    "called, the returned function calls f with args + additional args."
   ]
  },
  {
   "cell_type": "code",
   "execution_count": 8,
   "metadata": {
    "collapsed": false,
    "deletable": true,
    "editable": true
   },
   "outputs": [
    {
     "data": {
      "text/plain": [
       "({:band \"Magma\", :plays 2665, :loved 31} {:band \"Burial\", :plays 979, :loved 9} {:band \"Bill Evans\", :plays 979, :loved 9} {:band \"Eno\", :plays 2333, :loved 15})"
      ]
     },
     "execution_count": 8,
     "metadata": {},
     "output_type": "execute_result"
    }
   ],
   "source": [
    "(def plays [{:band \"Burial\",     :plays 979,    :loved 9}\n",
    "            {:band \"Eno\",        :plays 2333,   :loved 15}\n",
    "            {:band \"Bill Evans\", :plays 979,    :loved 9}\n",
    "            {:band \"Magma\",      :plays 2665,   :loved 31}])\n",
    "(def sort-by-loved-ratio (partial sort-by #(/ (:plays %) (:loved %))))\n",
    "\n",
    "(sort-by-loved-ratio plays)"
   ]
  },
  {
   "cell_type": "markdown",
   "metadata": {
    "deletable": true,
    "editable": true
   },
   "source": [
    "이 예제에서는 고차 함수 `sort-by-loved-ratio` 를 추가함으로써 **기존에 존재하는 부분들로부터 프로그램을 재구성**했다.\n",
    "\n",
    "- 가능한 이런 방식을 지키도록 노력해야 한다.\n",
    "\n",
    "#### 리턴 값으로서의 함수\n",
    "\n",
    "이번 장에서 comp, partial, complement 같이 함수를 리턴하는 함수를 사용했었다. 그런 함수를 직접 만들 수도 있다.\n",
    "\n",
    "앞에서 나왔던 plays 시퀀스를 처음에는 :plays를 기준으로 정렬하고 같을 경우 :loved로 정렬하는 함수를 리턴하는 columns를 만들어보자.\n",
    "\n",
    "```clojure\n",
    "(sort-by (columns [:plays :loved :band]) plays)\n",
    ";=> {:band \"Bill Evans\", :plays 979,    :loved 9}\n",
    "    {:band \"Burial\",     :plays 979,    :loved 9}\n",
    "    {:band \"Eno\",        :plays 2333,   :loved 15}\n",
    "    {:band \"Magma\",      :plays 2665,   :loved 31}]\n",
    "```"
   ]
  },
  {
   "cell_type": "code",
   "execution_count": 11,
   "metadata": {
    "collapsed": false,
    "deletable": true,
    "editable": true
   },
   "outputs": [
    {
     "data": {
      "text/plain": [
       "({:band \"Bill Evans\", :plays 979, :loved 9} {:band \"Burial\", :plays 979, :loved 9} {:band \"Eno\", :plays 2333, :loved 15} {:band \"Magma\", :plays 2665, :loved 31})"
      ]
     },
     "execution_count": 11,
     "metadata": {},
     "output_type": "execute_result"
    }
   ],
   "source": [
    "(defn columns [column-names]\n",
    "    (fn [row]\n",
    "        (vec (map row column-names))))\n",
    "\n",
    "(sort-by (columns [:plays :loved :band]) plays)"
   ]
  },
  {
   "cell_type": "code",
   "execution_count": 12,
   "metadata": {
    "collapsed": false,
    "deletable": true,
    "editable": true
   },
   "outputs": [
    {
     "data": {
      "text/plain": [
       "user$columns$fn__68@501ea67b"
      ]
     },
     "execution_count": 12,
     "metadata": {},
     "output_type": "execute_result"
    }
   ],
   "source": [
    "(columns [:plays :loved :band])"
   ]
  },
  {
   "cell_type": "code",
   "execution_count": 13,
   "metadata": {
    "collapsed": false,
    "deletable": true,
    "editable": true
   },
   "outputs": [
    {
     "data": {
      "text/plain": [
       "[979 9 \"Burial\"]"
      ]
     },
     "execution_count": 13,
     "metadata": {},
     "output_type": "execute_result"
    }
   ],
   "source": [
    "((columns [:plays :loved :band])\n",
    " {:band \"Burial\", :plays 979, :loved 9})"
   ]
  },
  {
   "cell_type": "code",
   "execution_count": 16,
   "metadata": {
    "collapsed": false,
    "deletable": true,
    "editable": true
   },
   "outputs": [
    {
     "data": {
      "text/plain": [
       "[979 9 \"Burial\"]"
      ]
     },
     "execution_count": 16,
     "metadata": {},
     "output_type": "execute_result"
    }
   ],
   "source": [
    "(vec (map (plays 0) [:plays :loved :band]))"
   ]
  },
  {
   "cell_type": "code",
   "execution_count": 15,
   "metadata": {
    "collapsed": false,
    "deletable": true,
    "editable": true
   },
   "outputs": [
    {
     "data": {
      "text/plain": [
       "2"
      ]
     },
     "execution_count": 15,
     "metadata": {},
     "output_type": "execute_result"
    }
   ],
   "source": [
    "({:a 1 :b 2} :b)"
   ]
  },
  {
   "cell_type": "markdown",
   "metadata": {
    "deletable": true,
    "editable": true
   },
   "source": [
    "고차 함수와 함께 일급 클래스 함수를 사용하여 프로그램을 작성하면 복잡성을 감소시킬 수 있고, 견고하며 확장성이 좋은 코드를 작성할 수 있다."
   ]
  },
  {
   "cell_type": "markdown",
   "metadata": {
    "deletable": true,
    "editable": true
   },
   "source": [
    "### 7.1.3 순수 함수\n",
    "\n",
    "순수 함수는 다음의 가이드라인을 준수하는 관행을 따라 작성된 함수다.\n",
    "\n",
    "- 함수는 같은 인자가 주어졌을 때 항상 같은 결과를 리턴해야 한다.\n",
    "- 함수는 부수 효과(side effect)를 일으키지 않아야 한다.\n",
    "\n",
    "클로저는 부수 효과를 최소화하도록 설계되었지만 순수 함수형 언어라는 뜻은 아니다.\n",
    "\n",
    "가능하다면 순수 함수를 사용해서 시스템을 구축해야 하는 많은 이유들이 존재하는데, 이들 중 몇가지를 소개한다.\n",
    "\n",
    "#### 참조 투명성\n",
    "\n",
    "몇 가지 인자가 주어졌을 때 어떤 함수의 결과가 항상 동일하고 다른 시스템에서도 동일한 결과를 리턴한다는 것의 의미는:\n",
    "\n",
    "- 상수를 리턴하는 함수이거나\n",
    "- 함수에 대한 참조가 시간에 따라 변하지 않는 **참조 투명성** 을 갖춘 함수일 것이다.\n",
    "\n",
    "순수 함수의 한 예로 *keys-apply* 함수를 살펴보자.\n",
    "\n",
    "> **select-keys**\n",
    "\n",
    "> (select-keys map keyseq) Returns a map containing only those entries in map whose key is in keys\n",
    "\n",
    "> **zipmap**\n",
    "\n",
    "> (zipmap keys vals) Returns a map with the keys mapped to the corresponding vals.\n",
    "\n",
    "> **merge**\n",
    "\n",
    "> (merge & maps) Returns a map that consists of the rest of the maps conj-ed onto\n",
    "the first.  If a key occurs in more than one map, the mapping from\n",
    "the latter (left-to-right) will be the mapping in the result."
   ]
  },
  {
   "cell_type": "code",
   "execution_count": 2,
   "metadata": {
    "collapsed": false,
    "deletable": true,
    "editable": true
   },
   "outputs": [
    {
     "name": "stdout",
     "output_type": "stream",
     "text": [
      "g\n"
     ]
    }
   ],
   "source": [
    "(defn keys-apply [f ks m]\n",
    "    (let [only (select-keys m ks)] \n",
    "        (zipmap (keys only)        \n",
    "                (map f (vals only)))))"
   ]
  },
  {
   "cell_type": "code",
   "execution_count": 3,
   "metadata": {
    "collapsed": false,
    "deletable": true,
    "editable": true
   },
   "outputs": [
    {
     "data": {
      "text/plain": [
       "{:band \"BURIAL\"}"
      ]
     },
     "execution_count": 3,
     "metadata": {},
     "output_type": "execute_result"
    }
   ],
   "source": [
    "(def plays [{:band \"Burial\",     :plays 979,    :loved 9}\n",
    "            {:band \"Eno\",        :plays 2333,   :loved 15}\n",
    "            {:band \"Bill Evans\", :plays 979,    :loved 9}\n",
    "            {:band \"Magma\",      :plays 2665,   :loved 31}])\n",
    "\n",
    "(keys-apply #(.toUpperCase %) #{:band} (plays 0))"
   ]
  },
  {
   "cell_type": "code",
   "execution_count": 4,
   "metadata": {
    "collapsed": false,
    "deletable": true,
    "editable": true
   },
   "outputs": [
    {
     "data": {
      "text/plain": [
       "#'user/manip-map"
      ]
     },
     "execution_count": 4,
     "metadata": {},
     "output_type": "execute_result"
    }
   ],
   "source": [
    "(defn manip-map [f ks m]\n",
    "    (merge m (keys-apply f ks m)))"
   ]
  },
  {
   "cell_type": "code",
   "execution_count": 5,
   "metadata": {
    "collapsed": false,
    "deletable": true,
    "editable": true
   },
   "outputs": [
    {
     "data": {
      "text/plain": [
       "{:band \"Burial\", :plays 489, :loved 4}"
      ]
     },
     "execution_count": 5,
     "metadata": {},
     "output_type": "execute_result"
    }
   ],
   "source": [
    "(manip-map #(int (/ % 2)) #{:plays :loved} (plays 0))"
   ]
  },
  {
   "cell_type": "markdown",
   "metadata": {
    "deletable": true,
    "editable": true
   },
   "source": [
    "keys-apply 와 manip-map 모두 순수 함수이기 때문에 항상 같은 값을 리턴하고 결과가 변하지 않아야 하는 더 큰 프로그램에서 활용할 수 있다.\n",
    "\n",
    "또한 순수 함수는 시간에도 제약받지 않는다.\n",
    "\n",
    "그러나 keys-apply나 manip-map이 인자 외에는 어떤 것에도 영향을 받지 않으면서 부수 효과를 발생시켜야 한다면 참조 투명성을 포기해야 한다.\n",
    "\n",
    "이를 표현하는 함수를 하나 더 작성해보자."
   ]
  },
  {
   "cell_type": "code",
   "execution_count": 7,
   "metadata": {
    "collapsed": false,
    "deletable": true,
    "editable": true
   },
   "outputs": [
    {
     "name": "stdout",
     "output_type": "stream",
     "text": [
      "({:band Burial, :plays 979, :loved 9000} {:band Eno, :plays 2333, :loved 15000} {:band Bill Evans, :plays 979, :loved 9000} {:band Magma, :plays 2665, :loved 31000})\n"
     ]
    }
   ],
   "source": [
    "(defn mega-love! [ks]\n",
    "    (map (partial manip-map #(int (* % 1000)) ks) plays))\n",
    "\n",
    "(println (mega-love! [:loved]))"
   ]
  },
  {
   "cell_type": "markdown",
   "metadata": {
    "deletable": true,
    "editable": true
   },
   "source": [
    "이 함수에서는 전역 변수인 plays에 대해 동작하여 더 이상 인자에 의해서만 결과가 생성하도록 제한되지 않았다.\n",
    "\n",
    "그래서 mega-love!가 특정 인자에 대해 항상 같은 값을 리턴한다고 보장할 수 없다.\n",
    "\n",
    "- plays가 변경될 수 있기 때문에\n"
   ]
  },
  {
   "cell_type": "markdown",
   "metadata": {
    "deletable": true,
    "editable": true
   },
   "source": [
    "#### 최적화\n",
    "\n",
    "만일 함수가 참조 투명성을 보장한다면 메모리제이션이나 대수(algebraic) 처리와 같은 기법을 사용해 쉽게 최적화 할 수 있다.\n",
    "\n",
    "> 이건 나중에... 나온다\n",
    "\n",
    "#### 테스트 가능성\n",
    "\n",
    "함수가 참조 투명성을 보장하면 그 결과를 쉽게 예측할 수 있기 때문에 테스트도 간편해진다.\n",
    "\n",
    "mega-love!가 순수함수가 아니라는 점은:\n",
    "\n",
    "- plays가 시간에 따라 변할 가능성이 있다는 것을 염두해야 한다는 것을 의미\n",
    "- 테스트가 복잡해짐\n",
    "\n",
    "이러한 비순수 함수들이 더 추가된다면.. \n",
    "\n",
    "### 7.1.4 인자 이름 지정\n",
    "\n",
    "3.3절에서 설명했던 구조분해 메커니즘으로 함수 선언시에 인자의 이름을 지정할 수도 있다."
   ]
  },
  {
   "cell_type": "code",
   "execution_count": 1,
   "metadata": {
    "collapsed": false,
    "deletable": true,
    "editable": true
   },
   "outputs": [
    {
     "data": {
      "text/plain": [
       "#'user/slope"
      ]
     },
     "execution_count": 1,
     "metadata": {},
     "output_type": "execute_result"
    }
   ],
   "source": [
    "(defn slope\n",
    "    [& {:keys [p1 p2] :or {p1 [0 0] p2 [1 1]}}]\n",
    "    (float (/ (- (p2 1) (p1 1)) (- (p2 0) (p1 0)))))"
   ]
  },
  {
   "cell_type": "code",
   "execution_count": 2,
   "metadata": {
    "collapsed": false,
    "deletable": true,
    "editable": true
   },
   "outputs": [
    {
     "data": {
      "text/plain": [
       "-6.0"
      ]
     },
     "execution_count": 2,
     "metadata": {},
     "output_type": "execute_result"
    }
   ],
   "source": [
    "(slope :p1 [4 15] :p2 [3 21])"
   ]
  },
  {
   "cell_type": "code",
   "execution_count": 3,
   "metadata": {
    "collapsed": false,
    "deletable": true,
    "editable": true
   },
   "outputs": [
    {
     "data": {
      "text/plain": [
       "0.5"
      ]
     },
     "execution_count": 3,
     "metadata": {},
     "output_type": "execute_result"
    }
   ],
   "source": [
    "(slope :p2 [2 1])"
   ]
  },
  {
   "cell_type": "code",
   "execution_count": 4,
   "metadata": {
    "collapsed": false,
    "deletable": true,
    "editable": true
   },
   "outputs": [
    {
     "data": {
      "text/plain": [
       "1.0"
      ]
     },
     "execution_count": 4,
     "metadata": {},
     "output_type": "execute_result"
    }
   ],
   "source": [
    "(slope)"
   ]
  },
  {
   "cell_type": "markdown",
   "metadata": {
    "deletable": true,
    "editable": true
   },
   "source": [
    "### 7.1.5 선행과 후행 조건으로 함수 제약하기\n",
    "\n",
    "클로저의 모든 함수는 입력과 출력, 또 그들 간의 임의의 관계를 제약하는 것이 가능하다. 이들은 함수 몸체 내에 선행과 후행 조건 벡터 구문을 맵에 넣어 정의한다.\n",
    "\n",
    "제약 조건을 명확하게 보일 수 있도록 slope 함수의 기본 조건들을 설정해보자."
   ]
  },
  {
   "cell_type": "code",
   "execution_count": 2,
   "metadata": {
    "collapsed": false,
    "deletable": true,
    "editable": true
   },
   "outputs": [
    {
     "data": {
      "text/plain": [
       "#'user/slope"
      ]
     },
     "execution_count": 2,
     "metadata": {},
     "output_type": "execute_result"
    }
   ],
   "source": [
    "(defn slope [p1 p2]\n",
    "    {:pre [(not= p1 p2) (vector? p1) (vector? p2)]\n",
    "     :post [(float? %)]}\n",
    "    (/ (- (p2 1) (p1 1))\n",
    "       (- (p2 0) (p1 0))))"
   ]
  },
  {
   "cell_type": "code",
   "execution_count": null,
   "metadata": {
    "collapsed": false,
    "deletable": true,
    "editable": true
   },
   "outputs": [
    {
     "name": "stdout",
     "output_type": "stream",
     "text": [
      "AssertionError Assert failed: (not= p1 p2)  user$slope.invokeStatic (:1)\n"
     ]
    }
   ],
   "source": [
    "(slope [10 10] [10 10])"
   ]
  },
  {
   "cell_type": "code",
   "execution_count": null,
   "metadata": {
    "collapsed": false,
    "deletable": true,
    "editable": true
   },
   "outputs": [
    {
     "name": "stdout",
     "output_type": "stream",
     "text": [
      "AssertionError Assert failed: (vector? p2)  user$slope.invokeStatic (:1)\n"
     ]
    }
   ],
   "source": [
    "(slope [10 1] '(1 20))"
   ]
  },
  {
   "cell_type": "code",
   "execution_count": null,
   "metadata": {
    "collapsed": false,
    "deletable": true,
    "editable": true
   },
   "outputs": [
    {
     "name": "stdout",
     "output_type": "stream",
     "text": [
      "ClassCastException java.lang.Long cannot be cast to clojure.lang.IFn  user$slope.invokeStatic (:5)\n"
     ]
    }
   ],
   "source": [
    "(slope [10 1] [1 10])"
   ]
  },
  {
   "cell_type": "code",
   "execution_count": 3,
   "metadata": {
    "collapsed": false,
    "deletable": true,
    "editable": true
   },
   "outputs": [
    {
     "data": {
      "text/plain": [
       "-2.111111111111111"
      ]
     },
     "execution_count": 3,
     "metadata": {},
     "output_type": "execute_result"
    }
   ],
   "source": [
    "(slope [10.0 1] [1 20])"
   ]
  },
  {
   "cell_type": "markdown",
   "metadata": {
    "deletable": true,
    "editable": true
   },
   "source": [
    ":pre 와 :post 의 장점은:\n",
    "\n",
    "- assert는 본질상 임시 방편적인 특성\n",
    "- 다른 소스로부터의 선언을 받을 수 있음\n",
    "\n"
   ]
  },
  {
   "cell_type": "markdown",
   "metadata": {
    "deletable": true,
    "editable": true
   },
   "source": [
    "#### 함수로부터 선언 분리하기\n",
    "\n",
    "위에서 예를 들었던 `slope` 함수의 경우에는 제약 조건을 함수 정의 시에 작성했다. \n",
    "\n",
    "하지만 이미 정의된 함수에 제약조건을 걸고 싶을 수 있다. 맵을 인자로 받고 그 안에 키를 입력하면 새로운 맵을 리턴하는 함수를 생각해보자. "
   ]
  },
  {
   "cell_type": "code",
   "execution_count": 3,
   "metadata": {
    "collapsed": false
   },
   "outputs": [
    {
     "data": {
      "text/plain": [
       "{:meat \"beef\", :veggie \"broccoli\"}"
      ]
     },
     "execution_count": 3,
     "metadata": {},
     "output_type": "execute_result"
    }
   ],
   "source": [
    "(defn put-things [m]\n",
    "    (into m {:meat \"beef\" :veggie \"broccoli\"}))\n",
    "\n",
    "(put-things {})"
   ]
  },
  {
   "cell_type": "markdown",
   "metadata": {},
   "source": [
    "제약조건을 어떻게 추가할 수 있을까? "
   ]
  },
  {
   "cell_type": "code",
   "execution_count": null,
   "metadata": {
    "collapsed": false
   },
   "outputs": [
    {
     "name": "stdout",
     "output_type": "stream",
     "text": [
      "AssertionError Assert failed: (nil? (:meat %))  user$vegan_contraints.invokeStatic (:1)\n"
     ]
    }
   ],
   "source": [
    "(defn vegan-contraints [f m]\n",
    "    {:pre [{:veggie m}]\n",
    "     :post [(:veggie %) (nil? (:meat %))]}\n",
    "    (f m))\n",
    "\n",
    "(vegan-contraints put-things {:veggie \"carrot\"})\n"
   ]
  },
  {
   "cell_type": "markdown",
   "metadata": {},
   "source": [
    "*vagan-constraints* 함수에서는 맵에 입력되는 값이나 리턴하는 값에 veggie를 포함해야 하고 meat는 포함하지 않아야 한다는 제약 조건을 적용한다.\n",
    "\n",
    "다양하게 활용 가능하다."
   ]
  },
  {
   "cell_type": "code",
   "execution_count": 2,
   "metadata": {
    "collapsed": false
   },
   "outputs": [
    {
     "data": {
      "text/plain": [
       "{:meat \"beef\", :veggie \"broccoli\"}"
      ]
     },
     "execution_count": 2,
     "metadata": {},
     "output_type": "execute_result"
    }
   ],
   "source": [
    "(defn balanced-diet [f m]\n",
    "    {:post [(:meat %) (:veggie %)]}\n",
    "    (f m))\n",
    "\n",
    "(balanced-diet put-things {})"
   ]
  },
  {
   "cell_type": "code",
   "execution_count": null,
   "metadata": {
    "collapsed": false
   },
   "outputs": [
    {
     "name": "stdout",
     "output_type": "stream",
     "text": [
      "AssertionError Assert failed: (= (:meat %) (:meat m))  user$finicky.invokeStatic (:1)\n"
     ]
    }
   ],
   "source": [
    "(defn finicky [f m]\n",
    "    {:post [(= (:meat %) (:meat m))]}\n",
    "    (f m))\n",
    "(finicky put-things {:meat \"chicken\"})"
   ]
  },
  {
   "cell_type": "markdown",
   "metadata": {},
   "source": [
    "이렇듯 wrapper함수로 감싸게 되면 요구 조건을 별도로 관리할 수 있게 된다.\n",
    "\n",
    "또한 pre, post 조건들을 함수 자체로부터 분리시킴으로써 구현 시점에 이들을 조합할 수 있게 된다.\n",
    "\n",
    "- 이러한 방식을 잘 따를수록 서로 간의 개입 여부가 투명하게 드러나게 된다.\n",
    "\n",
    "## 7.2 클로저(closure)\n",
    "\n",
    "closure는 이제 겨우 30년 밖에 되지 않았지만 주요 프로그래밍 언어들의 핵심 특징으로 자리 잡았다.\n",
    "\n",
    "- Perl, Ruby, Javascript 등등\n",
    "\n",
    "클로저는 한마디로, **생성된 위치의 컨텍스트에서 로컬에 접근할 수 있는 함수**이다. 예제를 보자."
   ]
  },
  {
   "cell_type": "code",
   "execution_count": 1,
   "metadata": {
    "collapsed": false
   },
   "outputs": [
    {
     "data": {
      "text/plain": [
       "#'user/times-two"
      ]
     },
     "execution_count": 1,
     "metadata": {},
     "output_type": "execute_result"
    }
   ],
   "source": [
    "(def times-two\n",
    "    (let [x 2]\n",
    "        (fn [y] (* y x))))"
   ]
  },
  {
   "cell_type": "markdown",
   "metadata": {},
   "source": [
    "1. fn 구문으로 함수 정의\n",
    "2. 이 함수를 def를 사용해서 time-two라는 var에 저장\n",
    "3. let 구문은 렉시컬 범위를 형성하고 있으며, 그 안에 정의된 함수는 렉시컬 범위 안에 있는 로컬에 접근할 수 있다.\n",
    "  - 이 부분이 정의된 함수가 클로저가 되도록 하는 지점\n",
    "4. 이 함수는 몸체 밖에 있는 로컬 x를 사용하여 해당 로컬과 그 값을 함수 자체의 속성으로 사용\n",
    "  - 이 함수는 로컬 x를 둘러싸고 있다고 말한다.\n",
    "  \n",
    "> A fundamental distinction in scoping is what \"part of a program\" means. In languages with lexical scope (also called static scope), name resolution depends on the location in the source code and the lexical context, which is defined by where the named variable or function is defined.\n",
    ">\n",
    "> https://en.wikipedia.org/wiki/Scope_(computer_science)#Lexical_scope_vs._dynamic_scope"
   ]
  },
  {
   "cell_type": "code",
   "execution_count": 2,
   "metadata": {
    "collapsed": false
   },
   "outputs": [
    {
     "data": {
      "text/plain": [
       "10"
      ]
     },
     "execution_count": 2,
     "metadata": {},
     "output_type": "execute_result"
    }
   ],
   "source": [
    "(times-two 5)"
   ]
  },
  {
   "cell_type": "markdown",
   "metadata": {},
   "source": [
    "클로저가 가변적인 것을 둘러싸고 있는 경우는 더 흥미롭다."
   ]
  },
  {
   "cell_type": "code",
   "execution_count": 1,
   "metadata": {
    "collapsed": false
   },
   "outputs": [
    {
     "data": {
      "text/plain": [
       "#'user/add-and-get"
      ]
     },
     "execution_count": 1,
     "metadata": {},
     "output_type": "execute_result"
    }
   ],
   "source": [
    "(def add-and-get\n",
    "    (let [ai (java.util.concurrent.atomic.AtomicInteger.)]\n",
    "        (fn [y] (.addAndGet ai y))))"
   ]
  },
  {
   "cell_type": "code",
   "execution_count": 2,
   "metadata": {
    "collapsed": false
   },
   "outputs": [
    {
     "data": {
      "text/plain": [
       "2"
      ]
     },
     "execution_count": 2,
     "metadata": {},
     "output_type": "execute_result"
    }
   ],
   "source": [
    "(add-and-get 2)"
   ]
  },
  {
   "cell_type": "code",
   "execution_count": 3,
   "metadata": {
    "collapsed": false
   },
   "outputs": [
    {
     "data": {
      "text/plain": [
       "4"
      ]
     },
     "execution_count": 3,
     "metadata": {},
     "output_type": "execute_result"
    }
   ],
   "source": [
    "(add-and-get 2)"
   ]
  },
  {
   "cell_type": "code",
   "execution_count": 4,
   "metadata": {
    "collapsed": false
   },
   "outputs": [
    {
     "data": {
      "text/plain": [
       "11"
      ]
     },
     "execution_count": 4,
     "metadata": {},
     "output_type": "execute_result"
    }
   ],
   "source": [
    "(add-and-get 7)"
   ]
  },
  {
   "cell_type": "markdown",
   "metadata": {},
   "source": [
    ".addAndGet은 입력 받은 값을 더한 결과를 저장하고 그 값을 리턴한다.\n",
    "\n",
    "- 하지만 가변적인 것들을 둘러싸고 있는 함수가 되기 때문에 테스트 하기 힘들고, 가변적인 값을 예측하기 어려워 진다.\n",
    "\n",
    "### 7.2.1 클로저를 리턴하는 함수\n",
    "\n",
    "times-two를 일반화하여 2가 아닌 곱할 값을 인자로 받을 수 있도록 해보자\n",
    "\n",
    "- 위와는 다르게 def가 아닌 defn으로 선언하고 있다."
   ]
  },
  {
   "cell_type": "code",
   "execution_count": 1,
   "metadata": {
    "collapsed": false
   },
   "outputs": [
    {
     "data": {
      "text/plain": [
       "#'user/times-n"
      ]
     },
     "execution_count": 1,
     "metadata": {},
     "output_type": "execute_result"
    }
   ],
   "source": [
    "(defn times-n [n]\n",
    "    (let [x n]\n",
    "        (fn [y] (* y x))))"
   ]
  },
  {
   "cell_type": "markdown",
   "metadata": {},
   "source": [
    "times-n에 인자를 입력하여 호출하면 fn 구문에 의해 생성된 새로운 클로저를 리턴하고 로컬 x를 감싸게 된다.\n",
    "- 이 클로저의 x 값은 times-n에 전달된 임의의 값"
   ]
  },
  {
   "cell_type": "code",
   "execution_count": 2,
   "metadata": {
    "collapsed": false
   },
   "outputs": [
    {
     "data": {
      "text/plain": [
       "user$times_n$fn__28@6af4631b"
      ]
     },
     "execution_count": 2,
     "metadata": {},
     "output_type": "execute_result"
    }
   ],
   "source": [
    "(times-n 4)"
   ]
  },
  {
   "cell_type": "markdown",
   "metadata": {},
   "source": [
    "이를 var에 저장하고 호출할 수 있게 해보자."
   ]
  },
  {
   "cell_type": "code",
   "execution_count": 3,
   "metadata": {
    "collapsed": false
   },
   "outputs": [
    {
     "data": {
      "text/plain": [
       "#'user/times-four"
      ]
     },
     "execution_count": 3,
     "metadata": {},
     "output_type": "execute_result"
    }
   ],
   "source": [
    "(def times-four (times-n 4))"
   ]
  },
  {
   "cell_type": "code",
   "execution_count": 4,
   "metadata": {
    "collapsed": false
   },
   "outputs": [
    {
     "data": {
      "text/plain": [
       "40"
      ]
     },
     "execution_count": 4,
     "metadata": {},
     "output_type": "execute_result"
    }
   ],
   "source": [
    "(times-four 10)"
   ]
  },
  {
   "cell_type": "markdown",
   "metadata": {},
   "source": [
    "클로저가 감싸고 잇던 로컬과 호출할 때 입력한 인자를 같이 사용한다.\n",
    "\n",
    "### 7.2.2 인자 감싸기\n",
    "\n",
    "times-n의 정의를 보면, let을 사용해서 로컬 x를  생성하고 입력된 인자 n을 직접 감싸는 것이 아니라 x를 감싸고 있다.\n",
    "\n",
    "실제로는 let을 사용하지 않고 다음과 같이 정의할 수 있다.\n",
    "\n",
    "```clojure\n",
    "(defn times-n [n]\n",
    "  (let [x n]\n",
    "    (fn [y] (* y n))))\n",
    "```\n",
    "\n",
    "```clojure\n",
    "(defn times-n [n]\n",
    "  (fn [y] (* y n)))\n",
    "```\n",
    "\n",
    "비슷하게 클로저를 생성하여 리턴하는 함수를 작성해보자.\n",
    "\n",
    "> (rem num div)\n",
    ">\n",
    "> remainder of dividing numerator by denominator."
   ]
  },
  {
   "cell_type": "code",
   "execution_count": 5,
   "metadata": {
    "collapsed": false
   },
   "outputs": [
    {
     "data": {
      "text/plain": [
       "#'user/divisible"
      ]
     },
     "execution_count": 5,
     "metadata": {},
     "output_type": "execute_result"
    }
   ],
   "source": [
    "(defn divisible [denom]\n",
    "    (fn [num]\n",
    "        (zero? (rem num denom))))"
   ]
  },
  {
   "cell_type": "markdown",
   "metadata": {},
   "source": [
    "이번에는 var에 클로저를 저장하지 않고 바로 호출해보자."
   ]
  },
  {
   "cell_type": "code",
   "execution_count": 6,
   "metadata": {
    "collapsed": false
   },
   "outputs": [
    {
     "data": {
      "text/plain": [
       "true"
      ]
     },
     "execution_count": 6,
     "metadata": {},
     "output_type": "execute_result"
    }
   ],
   "source": [
    "((divisible 3) 6)"
   ]
  },
  {
   "cell_type": "code",
   "execution_count": 7,
   "metadata": {
    "collapsed": false
   },
   "outputs": [
    {
     "data": {
      "text/plain": [
       "false"
      ]
     },
     "execution_count": 7,
     "metadata": {},
     "output_type": "execute_result"
    }
   ],
   "source": [
    "((divisible 3) 7)"
   ]
  },
  {
   "cell_type": "markdown",
   "metadata": {},
   "source": [
    "### 7.2.3 클로저를 함수로 전달하기\n",
    "\n",
    "다른 함수들과 동일하게 클로저도 함수로 전달이 가능하고 이를 통해 강력하게 사용될 수 있다.\n",
    "\n",
    "예를 들어 filter는:\n",
    "\n",
    "1. 함수(이 경우엔 서술식, predicate라고 불림)와 시퀀스를 입력받고\n",
    "2. 이 서술식을 시퀀스에 포함된 각 값에 적용한다.\n",
    "3. 그 결과가 참인 값들고 구성된 시퀀스를 리턴\n",
    "\n",
    "숫자 시퀀스로부터 짝수만 리턴하는 간단한 예제를 살펴보자\n"
   ]
  },
  {
   "cell_type": "code",
   "execution_count": 9,
   "metadata": {
    "collapsed": false
   },
   "outputs": [
    {
     "name": "stdout",
     "output_type": "stream",
     "text": [
      "(0 2 4 6 8)\n"
     ]
    }
   ],
   "source": [
    "(println (filter even? (range 10)))"
   ]
  },
  {
   "cell_type": "markdown",
   "metadata": {},
   "source": [
    "filter는 서술식 부분에 한 개의 인자만 받을 수 있기 때문에 클로저를 활용해 다양한 값들을 감싼 함수를 유연하게 전달할 수 있다."
   ]
  },
  {
   "cell_type": "code",
   "execution_count": 11,
   "metadata": {
    "collapsed": false
   },
   "outputs": [
    {
     "name": "stdout",
     "output_type": "stream",
     "text": [
      "(0 4 8)\n"
     ]
    }
   ],
   "source": [
    "(println (filter (divisible 4) (range 10)))"
   ]
  },
  {
   "cell_type": "markdown",
   "metadata": {},
   "source": [
    "실제로 사용할 때는 필요한 부분에 로컬을 감싼 클로저를 정의하는 것이 일반적인 방식이다."
   ]
  },
  {
   "cell_type": "code",
   "execution_count": 12,
   "metadata": {
    "collapsed": false
   },
   "outputs": [
    {
     "name": "stdout",
     "output_type": "stream",
     "text": [
      "(0 4 8)\n"
     ]
    }
   ],
   "source": [
    "(defn filter-divisible [denom s]\n",
    "    (filter (fn [num] (zero? (rem num denom))) s))\n",
    "\n",
    "(println (filter-divisible 4 (range 10)))"
   ]
  },
  {
   "cell_type": "markdown",
   "metadata": {},
   "source": [
    "`#()` 구문을 사용하면 좀 더 간결해진다."
   ]
  },
  {
   "cell_type": "code",
   "execution_count": 13,
   "metadata": {
    "collapsed": false
   },
   "outputs": [
    {
     "name": "stdout",
     "output_type": "stream",
     "text": [
      "(0 5 10 15)\n"
     ]
    }
   ],
   "source": [
    "(defn filter-divisible [denom s]\n",
    "    (filter #(zero? (rem % denom)) s))\n",
    "\n",
    "(println (filter-divisible 5 (range 20)))"
   ]
  },
  {
   "cell_type": "markdown",
   "metadata": {},
   "source": [
    "### 7.2.4 클로저 컨텍스트 공유\n",
    "\n",
    "\n",
    "지금까지 클로저는 단독으로 동작했는데, 때로는 같은 값에 대해 여러 개의 클로저를 사용하는 것이 유용할 수 있다.\n",
    "\n",
    "- 예를 들어 중첩된 GUI 빌더 내에서 이벤트 콜백이나 타이머를 핸들링하는 등 복잡한 랙시컬 환경\n",
    "- 하나의 객체로도 생각할 수 있는 잘 설계된 값과 관련 함수들의 묶음 형태 <- 이걸 예로 들 예정\n",
    "\n",
    "격자판상에서 현재 위치와 방위를 기준으로 움직이는 함수들을 가진 봇 객체를 만들어보자.\n",
    "\n",
    "우선 방향별로 좌표의 증분을 나타내는 리스트가 필요하다.\n",
    "\n",
    "- 위, 오른쪽, 아래, 왼쪽"
   ]
  },
  {
   "cell_type": "code",
   "execution_count": 14,
   "metadata": {
    "collapsed": false
   },
   "outputs": [
    {
     "data": {
      "text/plain": [
       "#'user/bearings"
      ]
     },
     "execution_count": 14,
     "metadata": {},
     "output_type": "execute_result"
    }
   ],
   "source": [
    "(def bearings [{:x 0, :y 1}\n",
    "               {:x 1, :y 0}\n",
    "               {:x 0, :y -1}\n",
    "               {:x -1, :y 0}])"
   ]
  },
  {
   "cell_type": "markdown",
   "metadata": {},
   "source": [
    "좌표와 방위를 입력하면 그 방향으로 1만큼 이동되는 새 좌표를 리턴해 주는 forward 함수를 만들 수 있다."
   ]
  },
  {
   "cell_type": "code",
   "execution_count": 15,
   "metadata": {
    "collapsed": false
   },
   "outputs": [
    {
     "data": {
      "text/plain": [
       "#'user/forward"
      ]
     },
     "execution_count": 15,
     "metadata": {},
     "output_type": "execute_result"
    }
   ],
   "source": [
    "(defn forward [x y bearing-num]\n",
    "    [(+ x (:x (bearings bearing-num)))\n",
    "     (+ y (:y (bearings bearing-num)))])"
   ]
  },
  {
   "cell_type": "markdown",
   "metadata": {},
   "source": [
    "(5,5)에서 북쪽으로 1만큼 이동하려면"
   ]
  },
  {
   "cell_type": "code",
   "execution_count": 16,
   "metadata": {
    "collapsed": false
   },
   "outputs": [
    {
     "data": {
      "text/plain": [
       "[5 6]"
      ]
     },
     "execution_count": 16,
     "metadata": {},
     "output_type": "execute_result"
    }
   ],
   "source": [
    "(forward 5 5 0)"
   ]
  },
  {
   "cell_type": "markdown",
   "metadata": {},
   "source": [
    "혹은 동쪽으로 1만큼 남쪽으로 1만큼 이동할 수도 있다."
   ]
  },
  {
   "cell_type": "code",
   "execution_count": 17,
   "metadata": {
    "collapsed": false
   },
   "outputs": [
    {
     "data": {
      "text/plain": [
       "[6 5]"
      ]
     },
     "execution_count": 17,
     "metadata": {},
     "output_type": "execute_result"
    }
   ],
   "source": [
    "(forward 5 5 1)"
   ]
  },
  {
   "cell_type": "code",
   "execution_count": 18,
   "metadata": {
    "collapsed": false
   },
   "outputs": [
    {
     "data": {
      "text/plain": [
       "[5 4]"
      ]
     },
     "execution_count": 18,
     "metadata": {},
     "output_type": "execute_result"
    }
   ],
   "source": [
    "(forward 5 5 2)"
   ]
  },
  {
   "cell_type": "markdown",
   "metadata": {},
   "source": [
    "하지만 아직 클로저가 없기 때문에 좌표 뿐만 아니라 방위도 함께 저장하는 봇 객체를 만들어야 한다."
   ]
  },
  {
   "cell_type": "code",
   "execution_count": 19,
   "metadata": {
    "collapsed": false
   },
   "outputs": [
    {
     "data": {
      "text/plain": [
       "#'user/bot"
      ]
     },
     "execution_count": 19,
     "metadata": {},
     "output_type": "execute_result"
    }
   ],
   "source": [
    "(defn bot [x y bearing-num]\n",
    "    {:coords [x y]\n",
    "     :bearing ([:north :east :south :west] bearing-num)\n",
    "     :forward (fn [] (bot (+ x (:x (bearings bearing-num)))\n",
    "                          (+ y (:y (bearings bearing-num)))\n",
    "                          bearing-num))})"
   ]
  },
  {
   "cell_type": "markdown",
   "metadata": {},
   "source": [
    "봇의 좌표나 방위를 조회할 수 있다."
   ]
  },
  {
   "cell_type": "code",
   "execution_count": 20,
   "metadata": {
    "collapsed": false
   },
   "outputs": [
    {
     "data": {
      "text/plain": [
       "[5 5]"
      ]
     },
     "execution_count": 20,
     "metadata": {},
     "output_type": "execute_result"
    }
   ],
   "source": [
    "(:coords (bot 5 5 0))"
   ]
  },
  {
   "cell_type": "code",
   "execution_count": 21,
   "metadata": {
    "collapsed": false
   },
   "outputs": [
    {
     "data": {
      "text/plain": [
       ":north"
      ]
     },
     "execution_count": 21,
     "metadata": {},
     "output_type": "execute_result"
    }
   ],
   "source": [
    "(:bearing (bot 5 5 0))"
   ]
  },
  {
   "cell_type": "markdown",
   "metadata": {},
   "source": [
    "`forward` 함수를 봇 안에 집어넣으면서 봇 객체의 상태로부터 필요한 모든 정보를 알고 있기 때문에 인자를 전달하지 않아도 된다.\n",
    "\n",
    "대신 `:forward` 를 사용해서 클로저에 접근하고, 괄호를 한번 더 씌워서 인자 없이 호출하면 된다."
   ]
  },
  {
   "cell_type": "code",
   "execution_count": 23,
   "metadata": {
    "collapsed": false
   },
   "outputs": [
    {
     "data": {
      "text/plain": [
       "[5 6]"
      ]
     },
     "execution_count": 23,
     "metadata": {},
     "output_type": "execute_result"
    }
   ],
   "source": [
    "(:coords ((:forward (bot 5 5 0))))"
   ]
  },
  {
   "cell_type": "markdown",
   "metadata": {},
   "source": [
    "복잡해 보일 수 있지만 아직은 클로저는 한 개 밖에 사용하지 않았다.\n",
    "\n",
    "이제 `turn-left`와 `turn-right` 함수를 봇 객체에 추가한다."
   ]
  },
  {
   "cell_type": "code",
   "execution_count": 24,
   "metadata": {
    "collapsed": false
   },
   "outputs": [
    {
     "data": {
      "text/plain": [
       "#'user/bot"
      ]
     },
     "execution_count": 24,
     "metadata": {},
     "output_type": "execute_result"
    }
   ],
   "source": [
    "(defn bot [x y bearing-num]\n",
    "    {:coords [x y]\n",
    "     :bearing ([:north :east :south :west] bearing-num)\n",
    "     :forward (fn [] (bot (+ x (:x (bearings bearing-num)))\n",
    "                          (+ y (:y (bearings bearing-num)))\n",
    "                          bearing-num))\n",
    "     :turn-right (fn [] (bot x y (mod (+ 1 bearing-num) 4)))\n",
    "     :turn-left  (fn [] (bot x y (mod (- 1 bearing-num) 4)))})"
   ]
  },
  {
   "cell_type": "code",
   "execution_count": 25,
   "metadata": {
    "collapsed": false
   },
   "outputs": [
    {
     "data": {
      "text/plain": [
       ":east"
      ]
     },
     "execution_count": 25,
     "metadata": {},
     "output_type": "execute_result"
    }
   ],
   "source": [
    "(:bearing ((:forward ((:forward ((:turn-right (bot 5 5 0))))))))"
   ]
  },
  {
   "cell_type": "code",
   "execution_count": 27,
   "metadata": {
    "collapsed": false
   },
   "outputs": [
    {
     "data": {
      "text/plain": [
       "[7 5]"
      ]
     },
     "execution_count": 27,
     "metadata": {},
     "output_type": "execute_result"
    }
   ],
   "source": [
    "(:coords ((:forward ((:forward ((:turn-right (bot 5 5 0))))))))"
   ]
  },
  {
   "cell_type": "markdown",
   "metadata": {},
   "source": [
    "객체 생성 패턴 중 하나인 다형성에 대해 알아보자.\n",
    "\n",
    "예를 들어 앞서 작성한 bot과 동일한 기능을 가지고 있지만 이상한 동작을 하는 봇을 정의해보자. \n",
    "\n",
    "- 모든 필드들은 동일한 이름이지만 -> duck typing 구문\n",
    "- 앞으로 가라고 하면 뒤로 가고\n",
    "- 왼쪽으로 가라 하면 오른쪽으로 가는\n",
    "- 반대 방향으로 이동하는 봇"
   ]
  },
  {
   "cell_type": "code",
   "execution_count": null,
   "metadata": {
    "collapsed": true
   },
   "outputs": [],
   "source": [
    "(defn mirror-bot [x y bearing-num]\n",
    "    {:coords [x y]\n",
    "     :bearing ([:north :east :south :west] bearing-num)\n",
    "     :forward (fn [] (mrror-bot (- x (:x (bearings bearing-num)))\n",
    "                          (- y (:y (bearings bearing-num)))\n",
    "                          bearing-num))\n",
    "     :turn-right (fn [] (mirror-bot x y (mod (- 1 bearing-num) 4)))\n",
    "     :turn-left  (fn [] (mirror-bot x y (mod (+ 1 bearing-num) 4)))})"
   ]
  }
 ],
 "metadata": {
  "kernelspec": {
   "display_name": "Clojure",
   "language": "clojure",
   "name": "clojure"
  },
  "language_info": {
   "file_extension": ".clj",
   "mimetype": "text/x-clojure",
   "name": "clojure",
   "version": "1.8.0"
  }
 },
 "nbformat": 4,
 "nbformat_minor": 2
}
