{
 "cells": [
  {
   "cell_type": "markdown",
   "metadata": {},
   "source": [
    "# 클로저 : 프로그래밍의 즐거움 Chapter 6. 지연과 불변성\n",
    "\n",
    "## Younggun Na (amazingguni@gmail.com)\n",
    "\n",
    "### Overview\n",
    "\n",
    "1. 함수 구문의 종류\n",
    "2. 클로저\n",
    "3. 재귀적으로 생각하기\n",
    "4. A* 경로 찾기\n",
    "\n",
    "함수형 프로그래밍의 핵심 중 람다 계산이라 불리는 방식이 있는데 클로저 함수는 람다 계산을 고수하는 일급 클래스\n",
    "\n",
    "- 다른 함수에 인자로 전달하거나 결과로 리턴할 수 있다.\n",
    "- 함수 합성, 부분적 평가, 재귀, 렉시컬 클로저, 순수 함수, 함수 제약, 고차 함수, 일급 클래스 함수\n",
    "\n",
    "### 7.1 함수 구문의 종류\n",
    "\n",
    "대부분의 클로저 복합 타입들은 그 요소에 대한 함수로 사용 가능"
   ]
  },
  {
   "cell_type": "code",
   "execution_count": 1,
   "metadata": {
    "collapsed": false
   },
   "outputs": [
    {
     "data": {
      "text/plain": [
       ":a"
      ]
     },
     "execution_count": 1,
     "metadata": {},
     "output_type": "execute_result"
    }
   ],
   "source": [
    "([:a :b] 0)"
   ]
  },
  {
   "cell_type": "markdown",
   "metadata": {},
   "source": [
    "요런 것을 함수로서 호출하면 유용하게 쓸 수 있다.\n",
    "\n",
    "`[]`는 백터 `#{}`는 셋이다."
   ]
  },
  {
   "cell_type": "code",
   "execution_count": 3,
   "metadata": {
    "collapsed": false
   },
   "outputs": [
    {
     "name": "stdout",
     "output_type": "stream",
     "text": [
      "(:chthon :grendel)\n"
     ]
    }
   ],
   "source": [
    "(println (map [:chthon :phthor :heowulf :grendel] #{0 3}))"
   ]
  },
  {
   "cell_type": "markdown",
   "metadata": {},
   "source": [
    "컬렉션이 함수로 기능할 수 있고 함수도 데이터로 기능할 수 있다. \n",
    "\n",
    "이게 바로 일급 클래스 함수로 불리는 개념\n",
    "\n",
    "### 7.1.1 일급 클래스 함수\n",
    "\n",
    "클로저는 개발 문제에 대해 함수를 데이터에 적용하는 관점으로 인식한다.\n",
    "\n",
    "- 자바에서는 프로그램 내의 모든 행위들에 대해서 클래스에 덧붙여진 형태로 모델링되어야 한다는 관점\n",
    "\n",
    "**일급 클래스의 정의**\n",
    "\n",
    "컴퓨터 프로그래밍 언어 디자인에서, 특정 언어의 일급 객체 (일급 값, 일급 엔티티, 혹은 일급 시민)이라 함은 일반적으로 다른 객체들에 적용 가능한 연산을 모두 지원하는 객체를 가리킨다. 함수에 매개변수로 넘기기, 변수에 대입하기와 같은 연산들이 여기서 말하는 일반적인 연산의 예에 해당한다.\n",
    "\n",
    "**조건**\n",
    "\n",
    "- 일급 클래스는 필요에 의해 생성될 수 있다.\n",
    "- 일급 클래스는 데이터 구조 내에 저장될 수 있다.\n",
    "- 일급 클래스는 함수의 인자로 전달될 수 있다.\n",
    "- 일급 클래스는 함수의 결과 값으로 리턴될 수 있다.\n",
    "\n",
    "#### 필요에 의한 함수 생성: 합성 사용하기\n",
    "\n",
    "클로저의 연산의 주 단위는 함수라는 것은 명백하다.\n",
    "\n",
    "또한 함수를 새로 생성하거나 다른 함수들과 합성하는 것도 가능하다.\n",
    "\n",
    "> comp 함수는 뒤에 나오는 함수들을 합성해준다.\n"
   ]
  },
  {
   "cell_type": "code",
   "execution_count": 3,
   "metadata": {
    "collapsed": false
   },
   "outputs": [
    {
     "data": {
      "text/plain": [
       "5"
      ]
     },
     "execution_count": 3,
     "metadata": {},
     "output_type": "execute_result"
    }
   ],
   "source": [
    "(def fifth (comp first rest rest rest rest))\n",
    "(fifth [1 2 3 4 5 6 7])"
   ]
  },
  {
   "cell_type": "code",
   "execution_count": 4,
   "metadata": {
    "collapsed": false
   },
   "outputs": [
    {
     "data": {
      "text/plain": [
       "5"
      ]
     },
     "execution_count": 4,
     "metadata": {},
     "output_type": "execute_result"
    }
   ],
   "source": [
    "(first (rest (rest (rest (rest [1 2 3 4 5 6 7])))))"
   ]
  },
  {
   "cell_type": "markdown",
   "metadata": {},
   "source": [
    "n번째 요소를 리턴하는 함수를 만들면"
   ]
  },
  {
   "cell_type": "code",
   "execution_count": 5,
   "metadata": {
    "collapsed": false
   },
   "outputs": [
    {
     "data": {
      "text/plain": [
       "e"
      ]
     },
     "execution_count": 5,
     "metadata": {},
     "output_type": "execute_result"
    }
   ],
   "source": [
    "(defn fnth [n]\n",
    "    (apply comp\n",
    "           (cons first\n",
    "                 (take (dec n) (repeat rest)))))\n",
    "\n",
    "((fnth 5) '[a b c d e])"
   ]
  },
  {
   "cell_type": "code",
   "execution_count": 7,
   "metadata": {
    "collapsed": false
   },
   "outputs": [
    {
     "name": "stdout",
     "output_type": "stream",
     "text": [
      "(#function[clojure.core/rest--4343] #function[clojure.core/rest--4343] #function[clojure.core/rest--4343])\n"
     ]
    }
   ],
   "source": [
    "(println (take 3 (repeat rest)))"
   ]
  },
  {
   "cell_type": "markdown",
   "metadata": {},
   "source": [
    "이런식으로 합성의 관점에서 생각하면 유용하게 새 함수를 생성할 수 있다.\n",
    "\n",
    "> 만일 한 줄에 여러 괄호가 등장한다면, 대부분 함수를 리턴하려는 의도로 생각해도 좋다."
   ]
  },
  {
   "cell_type": "code",
   "execution_count": 9,
   "metadata": {
    "collapsed": false
   },
   "outputs": [
    {
     "name": "stdout",
     "output_type": "stream",
     "text": [
      "(:a :b :c)\n"
     ]
    }
   ],
   "source": [
    "(println (map (comp keyword #(.toLowerCase %) name) `(a B C)))"
   ]
  },
  {
   "cell_type": "markdown",
   "metadata": {},
   "source": [
    "#### 필요에 의한 함수 생성: 부분 함수 사용하기\n",
    "\n",
    "partial 함수를 이용해서 추가적인 인자를 적용하는 새로운 함수를 구성할 수 있다.\n"
   ]
  },
  {
   "cell_type": "code",
   "execution_count": 13,
   "metadata": {
    "collapsed": false
   },
   "outputs": [
    {
     "data": {
      "text/plain": [
       "#'user/won2dolor"
      ]
     },
     "execution_count": 13,
     "metadata": {},
     "output_type": "execute_result"
    }
   ],
   "source": [
    "(def won2dolor (partial * 1200))"
   ]
  },
  {
   "cell_type": "code",
   "execution_count": 14,
   "metadata": {
    "collapsed": false
   },
   "outputs": [
    {
     "data": {
      "text/plain": [
       "12000"
      ]
     },
     "execution_count": 14,
     "metadata": {},
     "output_type": "execute_result"
    }
   ],
   "source": [
    "(won2dolor 10)"
   ]
  },
  {
   "cell_type": "code",
   "execution_count": 15,
   "metadata": {
    "collapsed": false
   },
   "outputs": [
    {
     "data": {
      "text/plain": [
       "144000"
      ]
     },
     "execution_count": 15,
     "metadata": {},
     "output_type": "execute_result"
    }
   ],
   "source": [
    "(won2dolor 10 3 4)"
   ]
  },
  {
   "cell_type": "markdown",
   "metadata": {},
   "source": [
    "#### complement로 불리언 값 변경하기\n",
    "\n",
    "참 또는 거짓을 리턴하는 함수를 받아서 반대 값을 리턴한다."
   ]
  },
  {
   "cell_type": "code",
   "execution_count": 16,
   "metadata": {
    "collapsed": false
   },
   "outputs": [
    {
     "data": {
      "text/plain": [
       "[false false true true]"
      ]
     },
     "execution_count": 16,
     "metadata": {},
     "output_type": "execute_result"
    }
   ],
   "source": [
    "(let [truthiness (fn [v] v)]\n",
    "    [((complement truthiness) true)\n",
    "     ((complement truthiness) 42)\n",
    "     ((complement truthiness) false)\n",
    "     ((complement truthiness) nil)])"
   ]
  },
  {
   "cell_type": "code",
   "execution_count": 17,
   "metadata": {
    "collapsed": false
   },
   "outputs": [
    {
     "data": {
      "text/plain": [
       "false"
      ]
     },
     "execution_count": 17,
     "metadata": {},
     "output_type": "execute_result"
    }
   ],
   "source": [
    "((complement even?) 2)"
   ]
  },
  {
   "cell_type": "markdown",
   "metadata": {},
   "source": [
    "#### 함수를 데이터로 사용하기\n",
    "\n",
    "일급 클래스 함수는 데이터 그 자체이기 때문에 어떤 컨테이너에도 저장할 수 있다.\n",
    "\n",
    "- 데이터 조각, 로컬, 참조, 컬렉션 등 모든\n",
    "\n",
    "함수를 데이터로 다룰 때 유용한 메소드의 예로 테스트 프레임워크인 clojure.test를 보자\n",
    "\n",
    "> 함수의 인자 앞에 오는 map은 함수의 메타 데이타이다.\n",
    "\n",
    "> (interpose sep coll) interpose 는 coll의 element들 사이에 sep를 추가한 lazy seq를 리턴해준다.\n",
    "Returns a stateful transducer when no collection is provided."
   ]
  },
  {
   "cell_type": "code",
   "execution_count": 18,
   "metadata": {
    "collapsed": false
   },
   "outputs": [
    {
     "data": {
      "text/plain": [
       "#'user/join"
      ]
     },
     "execution_count": 18,
     "metadata": {},
     "output_type": "execute_result"
    }
   ],
   "source": [
    "(defn join\n",
    "  {:test (fn []\n",
    "            (assert\n",
    "              (= (join \",\" [1 2 3]) \"1,3,3\")))}\n",
    "  [sep s]\n",
    "  (apply str (interpose sep s)))"
   ]
  },
  {
   "cell_type": "code",
   "execution_count": 19,
   "metadata": {
    "collapsed": false
   },
   "outputs": [
    {
     "name": "stdout",
     "output_type": "stream",
     "text": [
      "\n",
      "Testing user\n",
      "\n",
      "ERROR in (join) (:3)\n",
      "Uncaught exception, not in assertion.\n",
      "expected: nil\n",
      "  actual: java.lang.AssertionError: Assert failed: (= (join \",\" [1 2 3]) \"1,3,3\")\n",
      " at user$fn__72.invokeStatic (:3)\n",
      "    user/fn (:2)\n",
      "    clojure.test$test_var$fn__7983.invoke (test.clj:716)\n",
      "    clojure.test$test_var.invokeStatic (test.clj:716)\n",
      "    clojure.test$test_var.invoke (test.clj:707)\n",
      "    clojure.test$test_vars$fn__8005$fn__8010.invoke (test.clj:734)\n",
      "    clojure.test$default_fixture.invokeStatic (test.clj:686)\n",
      "    clojure.test$default_fixture.invoke (test.clj:682)\n",
      "    clojure.test$test_vars$fn__8005.invoke (test.clj:734)\n",
      "    clojure.test$default_fixture.invokeStatic (test.clj:686)\n",
      "    clojure.test$default_fixture.invoke (test.clj:682)\n",
      "    clojure.test$test_vars.invokeStatic (test.clj:730)\n",
      "    clojure.test$test_all_vars.invokeStatic (test.clj:736)\n",
      "    clojure.test$test_ns.invokeStatic (test.clj:757)\n",
      "    clojure.test$test_ns.invoke (test.clj:742)\n",
      "    clojure.core$map$fn__4785.invoke (core.clj:2646)\n",
      "    clojure.lang.LazySeq.sval (LazySeq.java:40)\n",
      "    clojure.lang.LazySeq.seq (LazySeq.java:49)\n",
      "    clojure.lang.Cons.next (Cons.java:39)\n",
      "    clojure.lang.RT.boundedLength (RT.java:1749)\n",
      "    clojure.lang.RestFn.applyTo (RestFn.java:130)\n",
      "    clojure.core$apply.invokeStatic (core.clj:648)\n",
      "    clojure.test$run_tests.invokeStatic (test.clj:767)\n",
      "    clojure.test$run_tests.doInvoke (test.clj:767)\n",
      "    clojure.lang.RestFn.invoke (RestFn.java:408)\n",
      "    clojure.test$run_tests.invokeStatic (test.clj:772)\n",
      "    clojure.test$run_tests.invoke (test.clj:767)\n",
      "    user$eval77.invokeStatic (:2)\n",
      "    user$eval77.invoke (:2)\n",
      "    clojure.lang.Compiler.eval (Compiler.java:6927)\n",
      "    clojure.lang.Compiler.eval (Compiler.java:6890)\n",
      "    clojure.core$eval.invokeStatic (core.clj:3105)\n",
      "    clojure.core$eval.invoke (core.clj:3101)\n",
      "    clojure.main$repl$read_eval_print__7408$fn__7411.invoke (main.clj:240)\n",
      "    clojure.main$repl$read_eval_print__7408.invoke (main.clj:240)\n",
      "    clojure.main$repl$fn__7417.invoke (main.clj:258)\n",
      "    clojure.main$repl.invokeStatic (main.clj:258)\n",
      "    clojure.main$repl.doInvoke (main.clj:174)\n",
      "    clojure.lang.RestFn.invoke (RestFn.java:1523)\n",
      "    clojure.tools.nrepl.middleware.interruptible_eval$evaluate$fn__2213.invoke (interruptible_eval.clj:87)\n",
      "    clojure.lang.AFn.applyToHelper (AFn.java:152)\n",
      "    clojure.lang.AFn.applyTo (AFn.java:144)\n",
      "    clojure.core$apply.invokeStatic (core.clj:646)\n",
      "    clojure.core$with_bindings_STAR_.invokeStatic (core.clj:1881)\n",
      "    clojure.core$with_bindings_STAR_.doInvoke (core.clj:1881)\n",
      "    clojure.lang.RestFn.invoke (RestFn.java:425)\n",
      "    clojure.tools.nrepl.middleware.interruptible_eval$evaluate.invokeStatic (interruptible_eval.clj:85)\n",
      "    clojure.tools.nrepl.middleware.interruptible_eval$evaluate.invoke (interruptible_eval.clj:55)\n",
      "    clojure.tools.nrepl.middleware.interruptible_eval$interruptible_eval$fn__2258$fn__2261.invoke (interruptible_eval.clj:222)\n",
      "    clojure.tools.nrepl.middleware.interruptible_eval$run_next$fn__2253.invoke (interruptible_eval.clj:190)\n",
      "    clojure.lang.AFn.run (AFn.java:22)\n",
      "    java.util.concurrent.ThreadPoolExecutor.runWorker (ThreadPoolExecutor.java:1142)\n",
      "    java.util.concurrent.ThreadPoolExecutor$Worker.run (ThreadPoolExecutor.java:617)\n",
      "    java.lang.Thread.run (Thread.java:745)\n",
      "\n",
      "Ran 1 tests containing 1 assertions.\n",
      "0 failures, 1 errors.\n"
     ]
    },
    {
     "data": {
      "text/plain": [
       "{:test 1, :pass 0, :fail 0, :error 1, :type :summary}"
      ]
     },
     "execution_count": 19,
     "metadata": {},
     "output_type": "execute_result"
    }
   ],
   "source": [
    "(use '[clojure.test :as t])\n",
    "(t/run-tests)"
   ]
  },
  {
   "cell_type": "code",
   "execution_count": null,
   "metadata": {
    "collapsed": true
   },
   "outputs": [],
   "source": []
  }
 ],
 "metadata": {
  "kernelspec": {
   "display_name": "Clojure",
   "language": "clojure",
   "name": "clojure"
  },
  "language_info": {
   "file_extension": ".clj",
   "mimetype": "text/x-clojure",
   "name": "clojure",
   "version": "1.8.0"
  }
 },
 "nbformat": 4,
 "nbformat_minor": 2
}
