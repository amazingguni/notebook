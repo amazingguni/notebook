{
 "cells": [
  {
   "cell_type": "markdown",
   "metadata": {
    "deletable": true,
    "editable": true
   },
   "source": [
    "# 클로저 : 프로그래밍의 즐거움 Chapter 7. 함수형 프로그래밍\n",
    "\n",
    "## Younggun Na (amazingguni@gmail.com)\n",
    "\n",
    "### Overview\n",
    "\n",
    "1. 함수 구문의 종류\n",
    "2. 클로저\n",
    "3. 재귀적으로 생각하기\n",
    "4. A* 경로 찾기\n",
    "\n",
    "함수형 프로그래밍의 핵심 중 람다 계산이라 불리는 방식이 있는데 클로저 함수는 람다 계산을 고수하는 일급 클래스\n",
    "\n",
    "- 다른 함수에 인자로 전달하거나 결과로 리턴할 수 있다.\n",
    "- 함수 합성, 부분적 평가, 재귀, 렉시컬 클로저, 순수 함수, 함수 제약, 고차 함수, 일급 클래스 함수\n",
    "\n",
    "### 7.1 함수 구문의 종류\n",
    "\n",
    "대부분의 클로저 복합 타입들은 그 요소에 대한 함수로 사용 가능"
   ]
  },
  {
   "cell_type": "code",
   "execution_count": 1,
   "metadata": {
    "collapsed": false,
    "deletable": true,
    "editable": true
   },
   "outputs": [
    {
     "data": {
      "text/plain": [
       ":a"
      ]
     },
     "execution_count": 1,
     "metadata": {},
     "output_type": "execute_result"
    }
   ],
   "source": [
    "([:a :b] 0)\n",
    "\n",
    "(foo arg1 arg2)"
   ]
  },
  {
   "cell_type": "markdown",
   "metadata": {
    "deletable": true,
    "editable": true
   },
   "source": [
    "요런 것을 함수로서 호출하면 유용하게 쓸 수 있다.\n",
    "\n",
    "`[]`는 백터 `#{}`는 셋이다."
   ]
  },
  {
   "cell_type": "code",
   "execution_count": 3,
   "metadata": {
    "collapsed": false,
    "deletable": true,
    "editable": true
   },
   "outputs": [
    {
     "name": "stdout",
     "output_type": "stream",
     "text": [
      "(:chthon :grendel)\n",
      "(2 3 4)\n"
     ]
    },
    {
     "data": {
      "text/plain": [
       ":c"
      ]
     },
     "execution_count": 3,
     "metadata": {},
     "output_type": "execute_result"
    }
   ],
   "source": [
    "(println (map [:chthon :phthor :heowulf :grendel] #{0 3}))\n",
    "(println (map inc [1 2 3] ))\n",
    "\n",
    "([:a :b :c] 2)"
   ]
  },
  {
   "cell_type": "markdown",
   "metadata": {
    "deletable": true,
    "editable": true
   },
   "source": [
    "\n",
    "\n",
    "컬렉션이 함수로 기능할 수 있고 함수도 데이터로 기능할 수 있다. \n",
    "\n",
    "이게 바로 일급 클래스 함수로 불리는 개념\n",
    "\n",
    "### 7.1.1 일급 클래스 함수\n",
    "\n",
    "클로저는 개발 문제에 대해 함수를 데이터에 적용하는 관점으로 인식한다.\n",
    "\n",
    "- 자바에서는 프로그램 내의 모든 행위들에 대해서 클래스에 덧붙여진 형태로 모델링되어야 한다는 관점\n",
    "\n",
    "**일급 클래스의 정의**\n",
    "\n",
    "컴퓨터 프로그래밍 언어 디자인에서, 특정 언어의 일급 객체 (일급 값, 일급 엔티티, 혹은 일급 시민)이라 함은 일반적으로 다른 객체들에 적용 가능한 연산을 모두 지원하는 객체를 가리킨다. 함수에 매개변수로 넘기기, 변수에 대입하기와 같은 연산들이 여기서 말하는 일반적인 연산의 예에 해당한다.\n",
    "\n",
    "**조건**\n",
    "\n",
    "- 일급 클래스는 필요에 의해 생성될 수 있다.\n",
    "- 일급 클래스는 데이터 구조 내에 저장될 수 있다.\n",
    "- 일급 클래스는 함수의 인자로 전달될 수 있다.\n",
    "- 일급 클래스는 함수의 결과 값으로 리턴될 수 있다.\n",
    "\n",
    "#### 필요에 의한 함수 생성: 합성 사용하기\n",
    "\n",
    "클로저의 연산의 주 단위는 함수라는 것은 명백하다.\n",
    "\n",
    "또한 함수를 새로 생성하거나 다른 함수들과 합성하는 것도 가능하다.\n",
    "\n",
    "> comp 함수는 뒤에 나오는 함수들을 합성해준다.\n"
   ]
  },
  {
   "cell_type": "code",
   "execution_count": 3,
   "metadata": {
    "collapsed": false,
    "deletable": true,
    "editable": true
   },
   "outputs": [
    {
     "data": {
      "text/plain": [
       "5"
      ]
     },
     "execution_count": 3,
     "metadata": {},
     "output_type": "execute_result"
    }
   ],
   "source": [
    "(def fifth (comp first rest rest rest rest))\n",
    "(fifth [1 2 3 4 5 6 7])\n",
    "\n"
   ]
  },
  {
   "cell_type": "code",
   "execution_count": 4,
   "metadata": {
    "collapsed": false,
    "deletable": true,
    "editable": true
   },
   "outputs": [
    {
     "data": {
      "text/plain": [
       "5"
      ]
     },
     "execution_count": 4,
     "metadata": {},
     "output_type": "execute_result"
    }
   ],
   "source": [
    "(first (rest (rest (rest (rest [1 2 3 4 5 6 7])))))\n",
    "[5 6 7]\n",
    "5"
   ]
  },
  {
   "cell_type": "markdown",
   "metadata": {
    "deletable": true,
    "editable": true
   },
   "source": [
    "n번째 요소를 리턴하는 함수를 만들면"
   ]
  },
  {
   "cell_type": "code",
   "execution_count": 5,
   "metadata": {
    "collapsed": false,
    "deletable": true,
    "editable": true
   },
   "outputs": [
    {
     "data": {
      "text/plain": [
       "e"
      ]
     },
     "execution_count": 5,
     "metadata": {},
     "output_type": "execute_result"
    }
   ],
   "source": [
    "(defn fnth [n]\n",
    "    (apply comp\n",
    "           (cons first\n",
    "                 (take (dec n) (repeat rest)))))\n",
    "\n",
    "\n",
    "((fnth 5) '[a b c d e])"
   ]
  },
  {
   "cell_type": "code",
   "execution_count": 7,
   "metadata": {
    "collapsed": false,
    "deletable": true,
    "editable": true
   },
   "outputs": [
    {
     "name": "stdout",
     "output_type": "stream",
     "text": [
      "(#function[clojure.core/rest--4343] #function[clojure.core/rest--4343] #function[clojure.core/rest--4343])\n"
     ]
    }
   ],
   "source": [
    "(println (take 3 (repeat rest)))"
   ]
  },
  {
   "cell_type": "markdown",
   "metadata": {
    "deletable": true,
    "editable": true
   },
   "source": [
    "이런식으로 합성의 관점에서 생각하면 유용하게 새 함수를 생성할 수 있다.\n",
    "\n",
    "> 만일 한 줄에 여러 괄호가 등장한다면, 대부분 함수를 리턴하려는 의도로 생각해도 좋다."
   ]
  },
  {
   "cell_type": "code",
   "execution_count": 6,
   "metadata": {
    "collapsed": false,
    "deletable": true,
    "editable": true
   },
   "outputs": [
    {
     "name": "stdout",
     "output_type": "stream",
     "text": [
      "(:a :b :c)\n"
     ]
    }
   ],
   "source": [
    "(println (map (comp keyword #(.toLowerCase %) name) `(a B C)))\n"
   ]
  },
  {
   "cell_type": "markdown",
   "metadata": {
    "deletable": true,
    "editable": true
   },
   "source": [
    "#### 필요에 의한 함수 생성: 부분 함수 사용하기\n",
    "\n",
    "partial 함수를 이용해서 추가적인 인자를 적용하는 새로운 함수를 구성할 수 있다.\n"
   ]
  },
  {
   "cell_type": "code",
   "execution_count": 13,
   "metadata": {
    "collapsed": false,
    "deletable": true,
    "editable": true
   },
   "outputs": [
    {
     "data": {
      "text/plain": [
       "#'user/won2dolor"
      ]
     },
     "execution_count": 13,
     "metadata": {},
     "output_type": "execute_result"
    }
   ],
   "source": [
    "(* 2 3 2 3) ==> 36\n",
    "\n",
    "won2dolor == (* 1200 ,,,,,)\n",
    "\n",
    "(def won2dolor (partial * 1200))\n",
    "\n"
   ]
  },
  {
   "cell_type": "code",
   "execution_count": 14,
   "metadata": {
    "collapsed": false,
    "deletable": true,
    "editable": true
   },
   "outputs": [
    {
     "data": {
      "text/plain": [
       "12000"
      ]
     },
     "execution_count": 14,
     "metadata": {},
     "output_type": "execute_result"
    }
   ],
   "source": [
    "(won2dolor 10)\n",
    "(* 1200 10) ==> 12000\n",
    "           "
   ]
  },
  {
   "cell_type": "code",
   "execution_count": 15,
   "metadata": {
    "collapsed": false,
    "deletable": true,
    "editable": true
   },
   "outputs": [
    {
     "data": {
      "text/plain": [
       "144000"
      ]
     },
     "execution_count": 15,
     "metadata": {},
     "output_type": "execute_result"
    }
   ],
   "source": [
    "(won2dolor 10 3 4)"
   ]
  },
  {
   "cell_type": "markdown",
   "metadata": {
    "deletable": true,
    "editable": true
   },
   "source": [
    "#### complement로 불리언 값 변경하기\n",
    "\n",
    "참 또는 거짓을 리턴하는 함수를 받아서 반대 값을 리턴한다."
   ]
  },
  {
   "cell_type": "code",
   "execution_count": 16,
   "metadata": {
    "collapsed": false,
    "deletable": true,
    "editable": true
   },
   "outputs": [
    {
     "data": {
      "text/plain": [
       "[false false true true]"
      ]
     },
     "execution_count": 16,
     "metadata": {},
     "output_type": "execute_result"
    }
   ],
   "source": [
    "(truthiness 5)  => 5\n",
    "(truthiness \"Hello\")  => \"Hello\"\n",
    "\n",
    "(let [truthiness (fn [v] v)]\n",
    "    [((complement truthiness) true)\n",
    "     ((complement truthiness) 42)\n",
    "     ((complement truthiness) false)\n",
    "     ((complement truthiness) nil)])"
   ]
  },
  {
   "cell_type": "code",
   "execution_count": 17,
   "metadata": {
    "collapsed": false,
    "deletable": true,
    "editable": true
   },
   "outputs": [
    {
     "data": {
      "text/plain": [
       "false"
      ]
     },
     "execution_count": 17,
     "metadata": {},
     "output_type": "execute_result"
    }
   ],
   "source": [
    "((complement even?) 2)\n",
    "\n"
   ]
  },
  {
   "cell_type": "markdown",
   "metadata": {
    "deletable": true,
    "editable": true
   },
   "source": [
    "#### 함수를 데이터로 사용하기\n",
    "\n",
    "일급 클래스 함수는 데이터 그 자체이기 때문에 어떤 컨테이너에도 저장할 수 있다.\n",
    "\n",
    "- 데이터 조각, 로컬, 참조, 컬렉션 등 모든\n",
    "\n",
    "함수를 데이터로 다룰 때 유용한 메소드의 예로 테스트 프레임워크인 clojure.test를 보자\n",
    "\n",
    "> 함수의 인자 앞에 오는 map은 함수의 메타 데이타이다.\n",
    "\n",
    "> (interpose sep coll) interpose 는 coll의 element들 사이에 sep를 추가한 lazy seq를 리턴해준다.\n",
    "Returns a stateful transducer when no collection is provided."
   ]
  },
  {
   "cell_type": "code",
   "execution_count": 18,
   "metadata": {
    "collapsed": false,
    "deletable": true,
    "editable": true
   },
   "outputs": [
    {
     "data": {
      "text/plain": [
       "#'user/join"
      ]
     },
     "execution_count": 18,
     "metadata": {},
     "output_type": "execute_result"
    }
   ],
   "source": [
    "(join \",\" [1 2 3]) ==> \"1,2,3\"\n",
    "\n",
    "\n",
    "(defn join\n",
    "  {:test (fn []\n",
    "            (assert\n",
    "              (= (join \",\" [1 2 3]) \"1,2,3\")))}\n",
    "  [sep s]\n",
    "  (apply str (interpose sep s)))"
   ]
  },
  {
   "cell_type": "code",
   "execution_count": 19,
   "metadata": {
    "collapsed": false,
    "deletable": true,
    "editable": true
   },
   "outputs": [
    {
     "name": "stdout",
     "output_type": "stream",
     "text": [
      "\n",
      "Testing user\n",
      "\n",
      "ERROR in (join) (:3)\n",
      "Uncaught exception, not in assertion.\n",
      "expected: nil\n",
      "  actual: java.lang.AssertionError: Assert failed: (= (join \",\" [1 2 3]) \"1,3,3\")\n",
      " at user$fn__72.invokeStatic (:3)\n",
      "    user/fn (:2)\n",
      "    clojure.test$test_var$fn__7983.invoke (test.clj:716)\n",
      "    clojure.test$test_var.invokeStatic (test.clj:716)\n",
      "    clojure.test$test_var.invoke (test.clj:707)\n",
      "    clojure.test$test_vars$fn__8005$fn__8010.invoke (test.clj:734)\n",
      "    clojure.test$default_fixture.invokeStatic (test.clj:686)\n",
      "    clojure.test$default_fixture.invoke (test.clj:682)\n",
      "    clojure.test$test_vars$fn__8005.invoke (test.clj:734)\n",
      "    clojure.test$default_fixture.invokeStatic (test.clj:686)\n",
      "    clojure.test$default_fixture.invoke (test.clj:682)\n",
      "    clojure.test$test_vars.invokeStatic (test.clj:730)\n",
      "    clojure.test$test_all_vars.invokeStatic (test.clj:736)\n",
      "    clojure.test$test_ns.invokeStatic (test.clj:757)\n",
      "    clojure.test$test_ns.invoke (test.clj:742)\n",
      "    clojure.core$map$fn__4785.invoke (core.clj:2646)\n",
      "    clojure.lang.LazySeq.sval (LazySeq.java:40)\n",
      "    clojure.lang.LazySeq.seq (LazySeq.java:49)\n",
      "    clojure.lang.Cons.next (Cons.java:39)\n",
      "    clojure.lang.RT.boundedLength (RT.java:1749)\n",
      "    clojure.lang.RestFn.applyTo (RestFn.java:130)\n",
      "    clojure.core$apply.invokeStatic (core.clj:648)\n",
      "    clojure.test$run_tests.invokeStatic (test.clj:767)\n",
      "    clojure.test$run_tests.doInvoke (test.clj:767)\n",
      "    clojure.lang.RestFn.invoke (RestFn.java:408)\n",
      "    clojure.test$run_tests.invokeStatic (test.clj:772)\n",
      "    clojure.test$run_tests.invoke (test.clj:767)\n",
      "    user$eval77.invokeStatic (:2)\n",
      "    user$eval77.invoke (:2)\n",
      "    clojure.lang.Compiler.eval (Compiler.java:6927)\n",
      "    clojure.lang.Compiler.eval (Compiler.java:6890)\n",
      "    clojure.core$eval.invokeStatic (core.clj:3105)\n",
      "    clojure.core$eval.invoke (core.clj:3101)\n",
      "    clojure.main$repl$read_eval_print__7408$fn__7411.invoke (main.clj:240)\n",
      "    clojure.main$repl$read_eval_print__7408.invoke (main.clj:240)\n",
      "    clojure.main$repl$fn__7417.invoke (main.clj:258)\n",
      "    clojure.main$repl.invokeStatic (main.clj:258)\n",
      "    clojure.main$repl.doInvoke (main.clj:174)\n",
      "    clojure.lang.RestFn.invoke (RestFn.java:1523)\n",
      "    clojure.tools.nrepl.middleware.interruptible_eval$evaluate$fn__2213.invoke (interruptible_eval.clj:87)\n",
      "    clojure.lang.AFn.applyToHelper (AFn.java:152)\n",
      "    clojure.lang.AFn.applyTo (AFn.java:144)\n",
      "    clojure.core$apply.invokeStatic (core.clj:646)\n",
      "    clojure.core$with_bindings_STAR_.invokeStatic (core.clj:1881)\n",
      "    clojure.core$with_bindings_STAR_.doInvoke (core.clj:1881)\n",
      "    clojure.lang.RestFn.invoke (RestFn.java:425)\n",
      "    clojure.tools.nrepl.middleware.interruptible_eval$evaluate.invokeStatic (interruptible_eval.clj:85)\n",
      "    clojure.tools.nrepl.middleware.interruptible_eval$evaluate.invoke (interruptible_eval.clj:55)\n",
      "    clojure.tools.nrepl.middleware.interruptible_eval$interruptible_eval$fn__2258$fn__2261.invoke (interruptible_eval.clj:222)\n",
      "    clojure.tools.nrepl.middleware.interruptible_eval$run_next$fn__2253.invoke (interruptible_eval.clj:190)\n",
      "    clojure.lang.AFn.run (AFn.java:22)\n",
      "    java.util.concurrent.ThreadPoolExecutor.runWorker (ThreadPoolExecutor.java:1142)\n",
      "    java.util.concurrent.ThreadPoolExecutor$Worker.run (ThreadPoolExecutor.java:617)\n",
      "    java.lang.Thread.run (Thread.java:745)\n",
      "\n",
      "Ran 1 tests containing 1 assertions.\n",
      "0 failures, 1 errors.\n"
     ]
    },
    {
     "data": {
      "text/plain": [
       "{:test 1, :pass 0, :fail 0, :error 1, :type :summary}"
      ]
     },
     "execution_count": 19,
     "metadata": {},
     "output_type": "execute_result"
    }
   ],
   "source": [
    "(use '[clojure.test :as t])\n",
    "(t/run-tests)"
   ]
  },
  {
   "cell_type": "markdown",
   "metadata": {
    "collapsed": true,
    "deletable": true,
    "editable": true
   },
   "source": [
    "함수의 인자 앞에 위치한 맵은 defn 매크로를 사용해서 함수에 메타데이터를 입력하는 한 가지 방법이다. 다른 방법으로는 약식 표기를 사용할 수도 있다.\n",
    "\n",
    "```clojure\n",
    "(defn ^:private ^:dynamic sum [nums]\n",
    "  (map + nums))\n",
    "```\n",
    "\n",
    "```clojure\n",
    "(defn ^{:private true, :dynamic true} sum [nums]\n",
    "  (map + nums))\n",
    "```\n",
    "\n",
    "```clojure\n",
    "(defn sum {:private true, :dynamic true} [nums]\n",
    "  (map + nums))\n",
    "```\n",
    "\n",
    "### 7.1.2 고차 함수\n",
    "\n",
    "고차 함수(==고계함수, ==high-order function) 은 아래 중 적어도 한개에는 해당한다.\n",
    "\n",
    "- 인자로 한 개 이상의 함수를 취한다\n",
    "- 함수를 결과로 리턴한다\n",
    "\n",
    "> java의 EventListener 와 비슷해보이지만, 이것도 객체로 전달한다\n",
    "\n",
    "#### 인자로서의 함수\n",
    "\n",
    "이 책에서는 map, reduce, filter 등의 시퀀스 함수를 사용하고 권장함.\n",
    "\n",
    "- 모두 함수를 인자로 받고, 인자로 입력된 시퀀스의 요소들에 그 함수를 적용\n",
    "\n",
    "클로저에서는 이런 방식의 함수 활용이 자주 사용되며 아주 고상하게 문제를 해결할 수 있는 방법이다.\n",
    "\n",
    "sort-by 함수로 인자로서의 함수에 대해 자세히 살펴보자. clojure에서도 다른 언어와 같이 sort라는 함수를 제공한다. 또 예상대로 작동한다."
   ]
  },
  {
   "cell_type": "code",
   "execution_count": 1,
   "metadata": {
    "collapsed": false,
    "deletable": true,
    "editable": true
   },
   "outputs": [
    {
     "data": {
      "text/plain": [
       "(-42 0 1 5 7 13)"
      ]
     },
     "execution_count": 1,
     "metadata": {},
     "output_type": "execute_result"
    }
   ],
   "source": [
    "(sort [1 5 7 0 -42 13])"
   ]
  },
  {
   "cell_type": "code",
   "execution_count": 2,
   "metadata": {
    "collapsed": false,
    "deletable": true,
    "editable": true
   },
   "outputs": [
    {
     "data": {
      "text/plain": [
       "(\"a\" \"aa\" \"x\" \"z\")"
      ]
     },
     "execution_count": 2,
     "metadata": {},
     "output_type": "execute_result"
    }
   ],
   "source": [
    "(sort [\"z\" \"x\" \"a\" \"aa\"])"
   ]
  },
  {
   "cell_type": "code",
   "execution_count": 3,
   "metadata": {
    "collapsed": false,
    "deletable": true,
    "editable": true
   },
   "outputs": [
    {
     "data": {
      "text/plain": [
       "([-1 0 1] [1 2 3] [3 2 1])"
      ]
     },
     "execution_count": 3,
     "metadata": {},
     "output_type": "execute_result"
    }
   ],
   "source": [
    "(sort [[1 2 3], [-1 0 1], [3 2 1]])"
   ]
  },
  {
   "cell_type": "markdown",
   "metadata": {
    "deletable": true,
    "editable": true
   },
   "source": [
    "만약 큰 것부터 작은 것의 순으로 정렬하고 싶다면 기준이 되는 함수를 sort 함수에 전달할 수 있다."
   ]
  },
  {
   "cell_type": "code",
   "execution_count": 4,
   "metadata": {
    "collapsed": false,
    "deletable": true,
    "editable": true
   },
   "outputs": [
    {
     "data": {
      "text/plain": [
       "(7 4 1)"
      ]
     },
     "execution_count": 4,
     "metadata": {},
     "output_type": "execute_result"
    }
   ],
   "source": [
    "(sort > [7 1 4])"
   ]
  },
  {
   "cell_type": "code",
   "execution_count": null,
   "metadata": {
    "collapsed": true,
    "deletable": true,
    "editable": true
   },
   "outputs": [],
   "source": [
    "만약 시퀀스에 포함된 요소들이 비교 불가능할 경우 정렬은 실패한다."
   ]
  },
  {
   "cell_type": "code",
   "execution_count": 4,
   "metadata": {
    "collapsed": false,
    "deletable": true,
    "editable": true
   },
   "outputs": [
    {
     "name": "stdout",
     "output_type": "stream",
     "text": [
      "ClassCastException java.lang.String cannot be cast to java.lang.Number  clojure.lang.Util.compare (Util.java:152)\n"
     ]
    },
    {
     "ename": "class java.lang.ClassCastException",
     "evalue": "",
     "output_type": "error",
     "traceback": [
      "     Util.java:   152 clojure.lang.Util/compare        ",
      "      core.clj:   821 clojure.core$compare/invokeStatic",
      "      core.clj:   812 clojure.core$compare/invoke      ",
      "AFunction.java:    47 clojure.lang.AFunction/compare   ",
      "  TimSort.java:   296 java.util.TimSort/binarySort     ",
      "  TimSort.java:   221 java.util.TimSort/sort           ",
      "   Arrays.java:  1438 java.util.Arrays/sort            ",
      "      core.clj:  3006 clojure.core$sort/invokeStatic   ",
      "            []:     1 user$eval36/invokeStatic         "
     ]
    }
   ],
   "source": [
    "(sort [\"z\" \"x\" \"a\" \"aa\" 1 5 8])"
   ]
  },
  {
   "cell_type": "code",
   "execution_count": 0,
   "metadata": {
    "collapsed": false,
    "deletable": true,
    "editable": true
   },
   "outputs": [
    {
     "name": "stdout",
     "output_type": "stream",
     "text": [
      "ClassCastException clojure.lang.PersistentArrayMap cannot be cast to java.lang.Comparable  clojure.lang.Util.compare (Util.java:153)\n"
     ]
    },
    {
     "ename": "class java.lang.ClassCastException",
     "evalue": "",
     "output_type": "error",
     "traceback": [
      "     Util.java:   153 clojure.lang.Util/compare                 ",
      "      core.clj:   821 clojure.core$compare/invokeStatic         ",
      "      core.clj:   812 clojure.core$compare/invoke               ",
      "AFunction.java:    47 clojure.lang.AFunction/compare            ",
      "  TimSort.java:   355 java.util.TimSort/countRunAndMakeAscending",
      "  TimSort.java:   220 java.util.TimSort/sort                    ",
      "   Arrays.java:  1438 java.util.Arrays/sort                     ",
      "      core.clj:  3006 clojure.core$sort/invokeStatic            ",
      "            []:     1 user$eval28/invokeStatic                  "
     ]
    }
   ],
   "source": [
    "(sort [{:age 99}, {:age 13}, {:age 7}])"
   ]
  },
  {
   "cell_type": "markdown",
   "metadata": {
    "deletable": true,
    "editable": true
   },
   "source": [
    "또 한 타입의 내부 요소를 비교하게 되면 특정 부분을 기준으로 하지 않고 요소의 집합을 기준으로 정렬하기 때문에 원하는 결과가 나오지 않을 수 있다."
   ]
  },
  {
   "cell_type": "code",
   "execution_count": 2,
   "metadata": {
    "collapsed": false,
    "deletable": true,
    "editable": true
   },
   "outputs": [
    {
     "data": {
      "text/plain": [
       "([:a 7] [:b 21] [:c 13])"
      ]
     },
     "execution_count": 2,
     "metadata": {},
     "output_type": "execute_result"
    }
   ],
   "source": [
    "(sort [[:a 7], [:c 13], [:b 21]])"
   ]
  },
  {
   "cell_type": "markdown",
   "metadata": {
    "deletable": true,
    "editable": true
   },
   "source": [
    "만약 2번째 인자를 기준으로 정렬하기 위해 second 함수를 사용하면,"
   ]
  },
  {
   "cell_type": "code",
   "execution_count": 2,
   "metadata": {
    "collapsed": false,
    "deletable": true,
    "editable": true
   },
   "outputs": [
    {
     "name": "stdout",
     "output_type": "stream",
     "text": [
      "ArityException Wrong number of args (2) passed to: core/second--4347  clojure.lang.AFn.throwArity (AFn.java:429)\n"
     ]
    },
    {
     "ename": "class clojure.lang.ArityException",
     "evalue": "",
     "output_type": "error",
     "traceback": [
      "      AFn.java:   429 clojure.lang.AFn/throwArity               ",
      "      AFn.java:    36 clojure.lang.AFn/invoke                   ",
      "AFunction.java:    47 clojure.lang.AFunction/compare            ",
      "  TimSort.java:   355 java.util.TimSort/countRunAndMakeAscending",
      "  TimSort.java:   220 java.util.TimSort/sort                    ",
      "   Arrays.java:  1438 java.util.Arrays/sort                     ",
      "      core.clj:  3006 clojure.core$sort/invokeStatic            ",
      "      core.clj:  2993 clojure.core$sort/invoke                  ",
      "            []:     1 user$eval34/invokeStatic                  "
     ]
    }
   ],
   "source": [
    "(sort second [[:a 7], [:c 13], [:b 21]])"
   ]
  },
  {
   "cell_type": "markdown",
   "metadata": {
    "deletable": true,
    "editable": true
   },
   "source": [
    "대신 클로저는 sort-by 함수를 제공하여 정렬할 요소를 서로 비교할 수 있도록 처리해주는 함수를 인자로 받는다."
   ]
  },
  {
   "cell_type": "code",
   "execution_count": 3,
   "metadata": {
    "collapsed": false,
    "deletable": true,
    "editable": true
   },
   "outputs": [
    {
     "data": {
      "text/plain": [
       "([:a 7] [:c 13] [:b 21])"
      ]
     },
     "execution_count": 3,
     "metadata": {},
     "output_type": "execute_result"
    }
   ],
   "source": [
    "(sort-by second [[:a 7], [:c 13], [:b 21]])\n",
    "\n",
    "7 13 21"
   ]
  },
  {
   "cell_type": "code",
   "execution_count": 4,
   "metadata": {
    "collapsed": false,
    "deletable": true,
    "editable": true
   },
   "outputs": [
    {
     "data": {
      "text/plain": [
       "(1 5 8 \"a\" \"aa\" \"x\" \"z\")"
      ]
     },
     "execution_count": 4,
     "metadata": {},
     "output_type": "execute_result"
    }
   ],
   "source": [
    "(sort-by str [\"z\" \"x\" \"a\" \"aa\" 1 5 8])\n",
    "\n",
    "[\"z\" \"x\" \"a\" \"aa\" \"1\" \"5\" \"8\"]"
   ]
  },
  {
   "cell_type": "code",
   "execution_count": 5,
   "metadata": {
    "collapsed": false,
    "deletable": true,
    "editable": true
   },
   "outputs": [
    {
     "data": {
      "text/plain": [
       "({:age 7} {:age 13} {:age 99})"
      ]
     },
     "execution_count": 5,
     "metadata": {},
     "output_type": "execute_result"
    }
   ],
   "source": [
    "(sort-by :age [{:age 99}, {:age 13}, {:age 7}])\n",
    "\n",
    "99 13 7"
   ]
  },
  {
   "cell_type": "markdown",
   "metadata": {
    "deletable": true,
    "editable": true
   },
   "source": [
    "sort-by는 임의의 함수를 인자로 받아 요소들을 미리 처리함으로써 강력한 정렬 기법을 활용할 수 있다.\n",
    "\n",
    "> partial은 1번째 인자인 함수에 나머지 인자들을 인자로 포함시키는 함수\n",
    "\n",
    "> Takes a function f and fewer than the normal arguments to f, and\n",
    "returns a fn that takes a variable number of additional args. When\n",
    "called, the returned function calls f with args + additional args."
   ]
  },
  {
   "cell_type": "code",
   "execution_count": 8,
   "metadata": {
    "collapsed": false,
    "deletable": true,
    "editable": true
   },
   "outputs": [
    {
     "data": {
      "text/plain": [
       "({:band \"Magma\", :plays 2665, :loved 31} {:band \"Burial\", :plays 979, :loved 9} {:band \"Bill Evans\", :plays 979, :loved 9} {:band \"Eno\", :plays 2333, :loved 15})"
      ]
     },
     "execution_count": 8,
     "metadata": {},
     "output_type": "execute_result"
    }
   ],
   "source": [
    "(def plays [{:band \"Burial\",     :plays 979,    :loved 9}\n",
    "            {:band \"Eno\",        :plays 2333,   :loved 15}\n",
    "            {:band \"Bill Evans\", :plays 979,    :loved 9}\n",
    "            {:band \"Magma\",      :plays 2665,   :loved 31}])\n",
    "(def sort-by-loved-ratio (partial sort-by #(/ (:plays %) (:loved %))))\n",
    "\n",
    "(sort-by-loved-ratio plays)"
   ]
  },
  {
   "cell_type": "markdown",
   "metadata": {
    "deletable": true,
    "editable": true
   },
   "source": [
    "이 예제에서는 고차 함수 `sort-by-loved-ratio` 를 추가함으로써 **기존에 존재하는 부분들로부터 프로그램을 재구성**했다.\n",
    "\n",
    "- 가능한 이런 방식을 지키도록 노력해야 한다.\n",
    "\n",
    "#### 리턴 값으로서의 함수\n",
    "\n",
    "이번 장에서 comp, partial, complement 같이 함수를 리턴하는 함수를 사용했었다. 그런 함수를 직접 만들 수도 있다.\n",
    "\n",
    "앞에서 나왔던 plays 시퀀스를 처음에는 :plays를 기준으로 정렬하고 같을 경우 :loved로 정렬하는 함수를 리턴하는 columns를 만들어보자.\n",
    "\n",
    "```clojure\n",
    "(sort-by (columns [:plays :loved :band]) plays)\n",
    ";=> {:band \"Bill Evans\", :plays 979,    :loved 9}\n",
    "    {:band \"Burial\",     :plays 979,    :loved 9}\n",
    "    {:band \"Eno\",        :plays 2333,   :loved 15}\n",
    "    {:band \"Magma\",      :plays 2665,   :loved 31}]\n",
    "```"
   ]
  },
  {
   "cell_type": "code",
   "execution_count": 11,
   "metadata": {
    "collapsed": false,
    "deletable": true,
    "editable": true
   },
   "outputs": [
    {
     "data": {
      "text/plain": [
       "({:band \"Bill Evans\", :plays 979, :loved 9} {:band \"Burial\", :plays 979, :loved 9} {:band \"Eno\", :plays 2333, :loved 15} {:band \"Magma\", :plays 2665, :loved 31})"
      ]
     },
     "execution_count": 11,
     "metadata": {},
     "output_type": "execute_result"
    }
   ],
   "source": [
    "(defn columns [column-names]\n",
    "    (fn [row]\n",
    "        (vec (map row column-names))))\n",
    "\n",
    "(fn [row]\n",
    "    (vec (map row [:loved :plays :band])))\n",
    "\n",
    "{:plays 979, :loved 9, :band \"Bill Evans\"}\n",
    "\n",
    "(sort-by (columns [:plays :loved :band]) plays)"
   ]
  },
  {
   "cell_type": "code",
   "execution_count": 12,
   "metadata": {
    "collapsed": false,
    "deletable": true,
    "editable": true
   },
   "outputs": [
    {
     "data": {
      "text/plain": [
       "user$columns$fn__68@501ea67b"
      ]
     },
     "execution_count": 12,
     "metadata": {},
     "output_type": "execute_result"
    }
   ],
   "source": [
    "(columns [:plays :loved :band])"
   ]
  },
  {
   "cell_type": "code",
   "execution_count": 13,
   "metadata": {
    "collapsed": false,
    "deletable": true,
    "editable": true
   },
   "outputs": [
    {
     "data": {
      "text/plain": [
       "[979 9 \"Burial\"]"
      ]
     },
     "execution_count": 13,
     "metadata": {},
     "output_type": "execute_result"
    }
   ],
   "source": [
    "((columns [:plays :loved :band])\n",
    " {:band \"Burial\", :plays 979, :loved 9})"
   ]
  },
  {
   "cell_type": "code",
   "execution_count": 16,
   "metadata": {
    "collapsed": false,
    "deletable": true,
    "editable": true
   },
   "outputs": [
    {
     "data": {
      "text/plain": [
       "[979 9 \"Burial\"]"
      ]
     },
     "execution_count": 16,
     "metadata": {},
     "output_type": "execute_result"
    }
   ],
   "source": [
    "(vec (map (plays 0) [:plays :loved :band]))"
   ]
  },
  {
   "cell_type": "code",
   "execution_count": 15,
   "metadata": {
    "collapsed": false,
    "deletable": true,
    "editable": true
   },
   "outputs": [
    {
     "data": {
      "text/plain": [
       "2"
      ]
     },
     "execution_count": 15,
     "metadata": {},
     "output_type": "execute_result"
    }
   ],
   "source": [
    "({:a 1 :b 2} :b)"
   ]
  },
  {
   "cell_type": "markdown",
   "metadata": {
    "deletable": true,
    "editable": true
   },
   "source": [
    "고차 함수와 함께 일급 클래스 함수를 사용하여 프로그램을 작성하면 복잡성을 감소시킬 수 있고, 견고하며 확장성이 좋은 코드를 작성할 수 있다."
   ]
  },
  {
   "cell_type": "markdown",
   "metadata": {
    "deletable": true,
    "editable": true
   },
   "source": [
    "### 7.1.3 순수 함수\n",
    "\n",
    "순수 함수는 다음의 가이드라인을 준수하는 관행을 따라 작성된 함수다.\n",
    "\n",
    "- 함수는 같은 인자가 주어졌을 때 항상 같은 결과를 리턴해야 한다.\n",
    "- 함수는 부수 효과(side effect)를 일으키지 않아야 한다.\n",
    "\n",
    "클로저는 부수 효과를 최소화하도록 설계되었지만 순수 함수형 언어라는 뜻은 아니다.\n",
    "\n",
    "가능하다면 순수 함수를 사용해서 시스템을 구축해야 하는 많은 이유들이 존재하는데, 이들 중 몇가지를 소개한다.\n",
    "\n",
    "#### 참조 투명성\n",
    "\n",
    "몇 가지 인자가 주어졌을 때 어떤 함수의 결과가 항상 동일하고 다른 시스템에서도 동일한 결과를 리턴한다는 것의 의미는:\n",
    "\n",
    "\n",
    "- 상수를 리턴하는 함수이거나\n",
    "- 함수에 대한 참조가 시간에 따라 변하지 않는 **참조 투명성** 을 갖춘 함수일 것이다.\n",
    "\n",
    "순수 함수의 한 예로 *keys-apply* 함수를 살펴보자.\n",
    "\n",
    "> **select-keys**\n",
    "\n",
    "> (select-keys map keyseq) Returns a map containing only those entries in map whose key is in keys\n",
    "\n",
    "> **zipmap**\n",
    "\n",
    "> (zipmap keys vals) Returns a map with the keys mapped to the corresponding vals.\n",
    "\n",
    "> **merge**\n",
    "\n",
    "> (merge & maps) Returns a map that consists of the rest of the maps conj-ed onto\n",
    "the first.  If a key occurs in more than one map, the mapping from\n",
    "the latter (left-to-right) will be the mapping in the result."
   ]
  },
  {
   "cell_type": "code",
   "execution_count": 2,
   "metadata": {
    "collapsed": false,
    "deletable": true,
    "editable": true
   },
   "outputs": [
    {
     "name": "stdout",
     "output_type": "stream",
     "text": [
      "g\n"
     ]
    }
   ],
   "source": [
    "(defn keys-apply [f ks m]\n",
    "    (let [only (select-keys m ks)] \n",
    "        (zipmap (keys only)        \n",
    "                (map f (vals only))))) "
   ]
  },
  {
   "cell_type": "code",
   "execution_count": 3,
   "metadata": {
    "collapsed": false,
    "deletable": true,
    "editable": true
   },
   "outputs": [
    {
     "data": {
      "text/plain": [
       "{:band \"BURIAL\"}"
      ]
     },
     "execution_count": 3,
     "metadata": {},
     "output_type": "execute_result"
    }
   ],
   "source": [
    "(def plays [{:band \"Burial\",     :plays 979,    :loved 9}\n",
    "            {:band \"Eno\",        :plays 2,   :loved 15}\n",
    "            {:band \"Bill Evans\", :plays 979,    :loved 9}\n",
    "            {:band \"Magma\",      :plays 5,   :loved 31}])\n",
    "\n",
    "#{:band}\n",
    "{:band \"Burial\",     :plays 979,    :loved 9}\n",
    "\n",
    "(keys-apply #(.toUpperCase %) #{:band} (plays 0))"
   ]
  },
  {
   "cell_type": "code",
   "execution_count": 4,
   "metadata": {
    "collapsed": false,
    "deletable": true,
    "editable": true
   },
   "outputs": [
    {
     "data": {
      "text/plain": [
       "#'user/manip-map"
      ]
     },
     "execution_count": 4,
     "metadata": {},
     "output_type": "execute_result"
    }
   ],
   "source": [
    "(defn manip-map [f ks m]\n",
    "    (merge m (keys-apply f ks m)))"
   ]
  },
  {
   "cell_type": "code",
   "execution_count": 5,
   "metadata": {
    "collapsed": false,
    "deletable": true,
    "editable": true
   },
   "outputs": [
    {
     "data": {
      "text/plain": [
       "{:band \"Burial\", :plays 489, :loved 4}"
      ]
     },
     "execution_count": 5,
     "metadata": {},
     "output_type": "execute_result"
    }
   ],
   "source": [
    "(manip-map #(int (/ % 2)) #{:plays :loved} (plays 0))"
   ]
  },
  {
   "cell_type": "markdown",
   "metadata": {
    "deletable": true,
    "editable": true
   },
   "source": [
    "keys-apply 와 manip-map 모두 순수 함수이기 때문에 항상 같은 값을 리턴하고 결과가 변하지 않아야 하는 더 큰 프로그램에서 활용할 수 있다.\n",
    "\n",
    "또한 순수 함수는 시간에도 제약받지 않는다.\n",
    "\n",
    "그러나 keys-apply나 manip-map이 인자 외에는 어떤 것에도 영향을 받지 않으면서 부수 효과를 발생시켜야 한다면 참조 투명성을 포기해야 한다.\n",
    "\n",
    "이를 표현하는 함수를 하나 더 작성해보자."
   ]
  },
  {
   "cell_type": "code",
   "execution_count": 7,
   "metadata": {
    "collapsed": false,
    "deletable": true,
    "editable": true
   },
   "outputs": [
    {
     "name": "stdout",
     "output_type": "stream",
     "text": [
      "({:band Burial, :plays 979, :loved 9000} {:band Eno, :plays 2333, :loved 15000} {:band Bill Evans, :plays 979, :loved 9000} {:band Magma, :plays 2665, :loved 31000})\n"
     ]
    }
   ],
   "source": [
    "(defn mega-love! [ks]\n",
    "    (map (partial manip-map #(int (* % 1000)) ks) plays))\n",
    "\n",
    "(println (mega-love! [:loved]))"
   ]
  },
  {
   "cell_type": "markdown",
   "metadata": {
    "deletable": true,
    "editable": true
   },
   "source": [
    "이 함수에서는 전역 변수인 plays에 대해 동작하여 더 이상 인자에 의해서만 결과가 생성하도록 제한되지 않았다.\n",
    "\n",
    "그래서 mega-love!가 특정 인자에 대해 항상 같은 값을 리턴한다고 보장할 수 없다.\n",
    "\n",
    "- plays가 변경될 수 있기 때문에\n"
   ]
  },
  {
   "cell_type": "markdown",
   "metadata": {
    "deletable": true,
    "editable": true
   },
   "source": [
    "#### 최적화\n",
    "\n",
    "만일 함수가 참조 투명성을 보장한다면 메모리제이션이나 대수(algebraic) 처리와 같은 기법을 사용해 쉽게 최적화 할 수 있다.\n",
    "\n",
    "> 이건 나중에... 나온다\n",
    "\n",
    "#### 테스트 가능성\n",
    "\n",
    "함수가 참조 투명성을 보장하면 그 결과를 쉽게 예측할 수 있기 때문에 테스트도 간편해진다.\n",
    "\n",
    "mega-love!가 순수함수가 아니라는 점은:\n",
    "\n",
    "- plays가 시간에 따라 변할 가능성이 있다는 것을 염두해야 한다는 것을 의미\n",
    "- 테스트가 복잡해짐\n",
    "\n",
    "이러한 비순수 함수들이 더 추가된다면.. \n",
    "\n",
    "### 7.1.4 인자 이름 지정\n",
    "\n",
    "3.3절에서 설명했던 구조분해 메커니즘으로 함수 선언시에 인자의 이름을 지정할 수도 있다."
   ]
  },
  {
   "cell_type": "code",
   "execution_count": 1,
   "metadata": {
    "collapsed": false,
    "deletable": true,
    "editable": true
   },
   "outputs": [
    {
     "data": {
      "text/plain": [
       "#'user/slope"
      ]
     },
     "execution_count": 1,
     "metadata": {},
     "output_type": "execute_result"
    }
   ],
   "source": [
    "def foo(a, b, c):\n",
    "    return 0\n",
    "    \n",
    "foo(b=2)\n",
    "\n",
    "(defn slope\n",
    "    [& {:keys [p1 p2] :or {p1 [0 0] p2 [1 1]}}]\n",
    "    (float (/ (- (p2 1) (p1 1)) (- (p2 0) (p1 0)))))"
   ]
  },
  {
   "cell_type": "code",
   "execution_count": 2,
   "metadata": {
    "collapsed": false,
    "deletable": true,
    "editable": true
   },
   "outputs": [
    {
     "data": {
      "text/plain": [
       "-6.0"
      ]
     },
     "execution_count": 2,
     "metadata": {},
     "output_type": "execute_result"
    }
   ],
   "source": [
    "(slope :p1 [4 15] :p2 [3 21])"
   ]
  },
  {
   "cell_type": "code",
   "execution_count": 3,
   "metadata": {
    "collapsed": false,
    "deletable": true,
    "editable": true
   },
   "outputs": [
    {
     "data": {
      "text/plain": [
       "0.5"
      ]
     },
     "execution_count": 3,
     "metadata": {},
     "output_type": "execute_result"
    }
   ],
   "source": [
    "(slope :p2 [2 1])"
   ]
  },
  {
   "cell_type": "code",
   "execution_count": 4,
   "metadata": {
    "collapsed": false,
    "deletable": true,
    "editable": true
   },
   "outputs": [
    {
     "data": {
      "text/plain": [
       "1.0"
      ]
     },
     "execution_count": 4,
     "metadata": {},
     "output_type": "execute_result"
    }
   ],
   "source": [
    "(slope)"
   ]
  },
  {
   "cell_type": "markdown",
   "metadata": {
    "deletable": true,
    "editable": true
   },
   "source": [
    "### 7.1.5 선행과 후행 조건으로 함수 제약하기\n",
    "\n",
    "클로저의 모든 함수는 입력과 출력, 또 그들 간의 임의의 관계를 제약하는 것이 가능하다. 이들은 함수 몸체 내에 선행과 후행 조건 벡터 구문을 맵에 넣어 정의한다.\n",
    "\n",
    "제약 조건을 명확하게 보일 수 있도록 slope 함수의 기본 조건들을 설정해보자."
   ]
  },
  {
   "cell_type": "code",
   "execution_count": 2,
   "metadata": {
    "collapsed": false,
    "deletable": true,
    "editable": true
   },
   "outputs": [
    {
     "data": {
      "text/plain": [
       "#'user/slope"
      ]
     },
     "execution_count": 2,
     "metadata": {},
     "output_type": "execute_result"
    }
   ],
   "source": [
    "\n",
    "(defn slope [p1 p2]\n",
    "    {:pre [(not= p1 p2) (vector? p1) (vector? p2)]\n",
    "     :post [(float? %)]}\n",
    "    (/ (- (p2 1) (p1 1))\n",
    "       (- (p2 0) (p1 0))))"
   ]
  },
  {
   "cell_type": "code",
   "execution_count": null,
   "metadata": {
    "collapsed": false,
    "deletable": true,
    "editable": true
   },
   "outputs": [
    {
     "name": "stdout",
     "output_type": "stream",
     "text": [
      "AssertionError Assert failed: (not= p1 p2)  user$slope.invokeStatic (:1)\n"
     ]
    }
   ],
   "source": [
    "(slope [10 10] [10 10])"
   ]
  },
  {
   "cell_type": "code",
   "execution_count": null,
   "metadata": {
    "collapsed": false,
    "deletable": true,
    "editable": true
   },
   "outputs": [
    {
     "name": "stdout",
     "output_type": "stream",
     "text": [
      "AssertionError Assert failed: (vector? p2)  user$slope.invokeStatic (:1)\n"
     ]
    }
   ],
   "source": [
    "(slope [10 1] '(1 20))"
   ]
  },
  {
   "cell_type": "code",
   "execution_count": null,
   "metadata": {
    "collapsed": false,
    "deletable": true,
    "editable": true
   },
   "outputs": [
    {
     "name": "stdout",
     "output_type": "stream",
     "text": [
      "ClassCastException java.lang.Long cannot be cast to clojure.lang.IFn  user$slope.invokeStatic (:5)\n"
     ]
    }
   ],
   "source": [
    "(slope [10 1] [1 10])"
   ]
  },
  {
   "cell_type": "code",
   "execution_count": 3,
   "metadata": {
    "collapsed": false,
    "deletable": true,
    "editable": true
   },
   "outputs": [
    {
     "data": {
      "text/plain": [
       "-2.111111111111111"
      ]
     },
     "execution_count": 3,
     "metadata": {},
     "output_type": "execute_result"
    }
   ],
   "source": [
    "(slope [10.0 1] [1 20])"
   ]
  },
  {
   "cell_type": "markdown",
   "metadata": {
    "deletable": true,
    "editable": true
   },
   "source": [
    ":pre 와 :post 의 장점은:\n",
    "\n",
    "- assert는 본질상 임시 방편적인 특성\n",
    "- 다른 소스로부터의 선언을 받을 수 있음\n",
    "\n"
   ]
  },
  {
   "cell_type": "markdown",
   "metadata": {
    "deletable": true,
    "editable": true
   },
   "source": [
    "#### 함수로부터 선언 분리하기\n",
    "\n",
    "위에서 예를 들었던 `slope` 함수의 경우에는 제약 조건을 함수 정의 시에 작성했다. \n",
    "\n",
    "하지만 이미 정의된 함수에 제약조건을 걸고 싶을 수 있다. 맵을 인자로 받고 그 안에 키를 입력하면 새로운 맵을 리턴하는 함수를 생각해보자. "
   ]
  },
  {
   "cell_type": "code",
   "execution_count": 1,
   "metadata": {
    "collapsed": false,
    "deletable": true,
    "editable": true
   },
   "outputs": [
    {
     "data": {
      "text/plain": [
       "{:today \"good\", :meat \"beef\", :veggie \"broccoli\"}"
      ]
     },
     "execution_count": 1,
     "metadata": {},
     "output_type": "execute_result"
    }
   ],
   "source": [
    "(defn put-things [m]\n",
    "    (into m {:meat \"beef\" :veggie \"broccoli\"}))\n",
    "\n",
    "(put-things {:today \"good\"})"
   ]
  },
  {
   "cell_type": "markdown",
   "metadata": {
    "deletable": true,
    "editable": true
   },
   "source": [
    "제약조건을 어떻게 추가할 수 있을까? "
   ]
  },
  {
   "cell_type": "code",
   "execution_count": null,
   "metadata": {
    "collapsed": false,
    "deletable": true,
    "editable": true
   },
   "outputs": [
    {
     "name": "stdout",
     "output_type": "stream",
     "text": [
      "AssertionError Assert failed: (nil? (:meat %))  user$vegan_contraints.invokeStatic (:1)\n"
     ]
    }
   ],
   "source": [
    "(defn vegan-contraints [f m]\n",
    "    {:pre [{:veggie m}]\n",
    "     :post [(:veggie %) (nil? (:meat %))]}\n",
    "    (f m))\n",
    "\n",
    "(vegan-contraints put-things {:veggie \"carrot\"})\n"
   ]
  },
  {
   "cell_type": "markdown",
   "metadata": {
    "deletable": true,
    "editable": true
   },
   "source": [
    "*vagan-constraints* 함수에서는 맵에 입력되는 값이나 리턴하는 값에 veggie를 포함해야 하고 meat는 포함하지 않아야 한다는 제약 조건을 적용한다.\n",
    "\n",
    "다양하게 활용 가능하다."
   ]
  },
  {
   "cell_type": "code",
   "execution_count": 2,
   "metadata": {
    "collapsed": false,
    "deletable": true,
    "editable": true
   },
   "outputs": [
    {
     "data": {
      "text/plain": [
       "{:meat \"beef\", :veggie \"broccoli\"}"
      ]
     },
     "execution_count": 2,
     "metadata": {},
     "output_type": "execute_result"
    }
   ],
   "source": [
    "(defn balanced-diet [f m]\n",
    "    {:post [(:meat %) (:veggie %)]}\n",
    "    (f m))\n",
    "\n",
    "(balanced-diet put-things {})"
   ]
  },
  {
   "cell_type": "code",
   "execution_count": null,
   "metadata": {
    "collapsed": false,
    "deletable": true,
    "editable": true
   },
   "outputs": [
    {
     "name": "stdout",
     "output_type": "stream",
     "text": [
      "AssertionError Assert failed: (= (:meat %) (:meat m))  user$finicky.invokeStatic (:1)\n"
     ]
    }
   ],
   "source": [
    "(defn finicky [f m]\n",
    "    {:post [(= (:meat %) (:meat m))]}\n",
    "    (f m))\n",
    "(finicky put-things {:meat \"chicken\"})"
   ]
  },
  {
   "cell_type": "markdown",
   "metadata": {
    "deletable": true,
    "editable": true
   },
   "source": [
    "이렇듯 wrapper함수로 감싸게 되면 요구 조건을 별도로 관리할 수 있게 된다.\n",
    "\n",
    "또한 pre, post 조건들을 함수 자체로부터 분리시킴으로써 구현 시점에 이들을 조합할 수 있게 된다.\n",
    "\n",
    "- 이러한 방식을 잘 따를수록 서로 간의 개입 여부가 투명하게 드러나게 된다.\n",
    "\n",
    "## 7.2 클로저(closure)\n",
    "\n",
    "closure는 이제 겨우 30년 밖에 되지 않았지만 주요 프로그래밍 언어들의 핵심 특징으로 자리 잡았다.\n",
    "\n",
    "- Perl, Ruby, Javascript 등등\n",
    "\n",
    "클로저는 한마디로, **생성된 위치의 컨텍스트에서 로컬에 접근할 수 있는 함수**이다. 예제를 보자."
   ]
  },
  {
   "cell_type": "code",
   "execution_count": 8,
   "metadata": {
    "collapsed": false,
    "deletable": true,
    "editable": true
   },
   "outputs": [
    {
     "name": "stdout",
     "output_type": "stream",
     "text": [
      "ArityException Wrong number of args (0) passed to: user/fn--98  clojure.lang.AFn.throwArity (AFn.java:429)\n"
     ]
    },
    {
     "ename": "class clojure.lang.Compiler$CompilerException",
     "evalue": "",
     "output_type": "error",
     "traceback": [
      "AFn.java:   429 clojure.lang.AFn/throwArity   ",
      "AFn.java:    28 clojure.lang.AFn/invoke       ",
      "AFn.java:   152 clojure.lang.AFn/applyToHelper",
      "AFn.java:   144 clojure.lang.AFn/applyTo      "
     ]
    }
   ],
   "source": [
    "(def times-two \n",
    "    (let [x 2 a 3 b 1]\n",
    "        (fn [y] (* y x))))\n",
    "(def times-two-2 \n",
    "        (fn [y] (* y 2)))\n",
    "(times-two 10)\n",
    "(times-two-2 10)"
   ]
  },
  {
   "cell_type": "markdown",
   "metadata": {
    "deletable": true,
    "editable": true
   },
   "source": [
    "1. fn 구문으로 함수 정의\n",
    "2. 이 함수를 def를 사용해서 time-two라는 var에 저장\n",
    "3. let 구문은 렉시컬 범위를 형성하고 있으며, 그 안에 정의된 함수는 렉시컬 범위 안에 있는 로컬에 접근할 수 있다.\n",
    "  - 이 부분이 정의된 함수가 클로저가 되도록 하는 지점\n",
    "4. 이 함수는 몸체 밖에 있는 로컬 x를 사용하여 해당 로컬과 그 값을 함수 자체의 속성으로 사용\n",
    "  - 이 함수는 로컬 x를 둘러싸고 있다고 말한다.\n",
    "  \n",
    "> A fundamental distinction in scoping is what \"part of a program\" means. In languages with lexical scope (also called static scope), name resolution depends on the location in the source code and the lexical context, which is defined by where the named variable or function is defined.\n",
    ">\n",
    "> https://en.wikipedia.org/wiki/Scope_(computer_science)#Lexical_scope_vs._dynamic_scope"
   ]
  },
  {
   "cell_type": "code",
   "execution_count": 2,
   "metadata": {
    "collapsed": false,
    "deletable": true,
    "editable": true
   },
   "outputs": [
    {
     "data": {
      "text/plain": [
       "10"
      ]
     },
     "execution_count": 2,
     "metadata": {},
     "output_type": "execute_result"
    }
   ],
   "source": [
    "(times-two 5)"
   ]
  },
  {
   "cell_type": "markdown",
   "metadata": {
    "deletable": true,
    "editable": true
   },
   "source": [
    "클로저가 가변적인 것을 둘러싸고 있는 경우는 더 흥미롭다."
   ]
  },
  {
   "cell_type": "code",
   "execution_count": 9,
   "metadata": {
    "collapsed": false,
    "deletable": true,
    "editable": true
   },
   "outputs": [
    {
     "data": {
      "text/plain": [
       "#'user/add-and-get"
      ]
     },
     "execution_count": 9,
     "metadata": {},
     "output_type": "execute_result"
    }
   ],
   "source": [
    "(defn add-and-get []\n",
    "    (let [ai (java.util.concurrent.atomic.AtomicInteger.)]\n",
    "        (fn [y] (.addAndGet ai y))))\n",
    "\n"
   ]
  },
  {
   "cell_type": "code",
   "execution_count": 10,
   "metadata": {
    "collapsed": false,
    "deletable": true,
    "editable": true
   },
   "outputs": [
    {
     "data": {
      "text/plain": [
       "2"
      ]
     },
     "execution_count": 10,
     "metadata": {},
     "output_type": "execute_result"
    }
   ],
   "source": [
    "((add-and-get) 2)"
   ]
  },
  {
   "cell_type": "code",
   "execution_count": 11,
   "metadata": {
    "collapsed": false,
    "deletable": true,
    "editable": true
   },
   "outputs": [
    {
     "data": {
      "text/plain": [
       "2"
      ]
     },
     "execution_count": 11,
     "metadata": {},
     "output_type": "execute_result"
    }
   ],
   "source": [
    "((add-and-get) 2)"
   ]
  },
  {
   "cell_type": "code",
   "execution_count": 4,
   "metadata": {
    "collapsed": false,
    "deletable": true,
    "editable": true
   },
   "outputs": [
    {
     "data": {
      "text/plain": [
       "11"
      ]
     },
     "execution_count": 4,
     "metadata": {},
     "output_type": "execute_result"
    }
   ],
   "source": [
    "(add-and-get 7)"
   ]
  },
  {
   "cell_type": "markdown",
   "metadata": {
    "deletable": true,
    "editable": true
   },
   "source": [
    ".addAndGet은 입력 받은 값을 더한 결과를 저장하고 그 값을 리턴한다.\n",
    "\n",
    "- 하지만 가변적인 것들을 둘러싸고 있는 함수가 되기 때문에 테스트 하기 힘들고, 가변적인 값을 예측하기 어려워 진다.\n",
    "\n",
    "### 7.2.1 클로저를 리턴하는 함수\n",
    "\n",
    "times-two를 일반화하여 2가 아닌 곱할 값을 인자로 받을 수 있도록 해보자\n",
    "\n",
    "- 위와는 다르게 def가 아닌 defn으로 선언하고 있다."
   ]
  },
  {
   "cell_type": "code",
   "execution_count": 1,
   "metadata": {
    "collapsed": false,
    "deletable": true,
    "editable": true
   },
   "outputs": [
    {
     "data": {
      "text/plain": [
       "#'user/times-n"
      ]
     },
     "execution_count": 1,
     "metadata": {},
     "output_type": "execute_result"
    }
   ],
   "source": [
    "(defn times-n [n]\n",
    "    (let [x n]\n",
    "        (fn [y] (* y x))))"
   ]
  },
  {
   "cell_type": "markdown",
   "metadata": {
    "deletable": true,
    "editable": true
   },
   "source": [
    "times-n에 인자를 입력하여 호출하면 fn 구문에 의해 생성된 새로운 클로저를 리턴하고 로컬 x를 감싸게 된다.\n",
    "- 이 클로저의 x 값은 times-n에 전달된 임의의 값"
   ]
  },
  {
   "cell_type": "code",
   "execution_count": 2,
   "metadata": {
    "collapsed": false,
    "deletable": true,
    "editable": true
   },
   "outputs": [
    {
     "data": {
      "text/plain": [
       "user$times_n$fn__28@6af4631b"
      ]
     },
     "execution_count": 2,
     "metadata": {},
     "output_type": "execute_result"
    }
   ],
   "source": [
    "(times-n 4)"
   ]
  },
  {
   "cell_type": "markdown",
   "metadata": {
    "deletable": true,
    "editable": true
   },
   "source": [
    "이를 var에 저장하고 호출할 수 있게 해보자."
   ]
  },
  {
   "cell_type": "code",
   "execution_count": 3,
   "metadata": {
    "collapsed": false,
    "deletable": true,
    "editable": true
   },
   "outputs": [
    {
     "data": {
      "text/plain": [
       "#'user/times-four"
      ]
     },
     "execution_count": 3,
     "metadata": {},
     "output_type": "execute_result"
    }
   ],
   "source": [
    "(def times-four (times-n 4))"
   ]
  },
  {
   "cell_type": "code",
   "execution_count": 4,
   "metadata": {
    "collapsed": false,
    "deletable": true,
    "editable": true
   },
   "outputs": [
    {
     "data": {
      "text/plain": [
       "40"
      ]
     },
     "execution_count": 4,
     "metadata": {},
     "output_type": "execute_result"
    }
   ],
   "source": [
    "(times-four 10)"
   ]
  },
  {
   "cell_type": "markdown",
   "metadata": {
    "deletable": true,
    "editable": true
   },
   "source": [
    "클로저가 감싸고 잇던 로컬과 호출할 때 입력한 인자를 같이 사용한다.\n",
    "\n",
    "### 7.2.2 인자 감싸기\n",
    "\n",
    "times-n의 정의를 보면, let을 사용해서 로컬 x를  생성하고 입력된 인자 n을 직접 감싸는 것이 아니라 x를 감싸고 있다.\n",
    "\n",
    "실제로는 let을 사용하지 않고 다음과 같이 정의할 수 있다.\n",
    "\n",
    "```clojure\n",
    "(defn times-n [n]\n",
    "  (let [x n]\n",
    "    (fn [y] (* y n))))\n",
    "```\n",
    "\n",
    "```clojure\n",
    "(defn times-n [n]\n",
    "  (fn [y] (* y n)))\n",
    "```\n",
    "\n",
    "비슷하게 클로저를 생성하여 리턴하는 함수를 작성해보자.\n",
    "\n",
    "> (rem num div)\n",
    ">\n",
    "> remainder of dividing numerator by denominator."
   ]
  },
  {
   "cell_type": "code",
   "execution_count": 5,
   "metadata": {
    "collapsed": false,
    "deletable": true,
    "editable": true
   },
   "outputs": [
    {
     "data": {
      "text/plain": [
       "#'user/divisible"
      ]
     },
     "execution_count": 5,
     "metadata": {},
     "output_type": "execute_result"
    }
   ],
   "source": [
    "(defn divisible [denom]\n",
    "    (fn [num]\n",
    "        (zero? (rem num denom))))"
   ]
  },
  {
   "cell_type": "markdown",
   "metadata": {
    "deletable": true,
    "editable": true
   },
   "source": [
    "이번에는 var에 클로저를 저장하지 않고 바로 호출해보자."
   ]
  },
  {
   "cell_type": "code",
   "execution_count": 6,
   "metadata": {
    "collapsed": false,
    "deletable": true,
    "editable": true
   },
   "outputs": [
    {
     "data": {
      "text/plain": [
       "true"
      ]
     },
     "execution_count": 6,
     "metadata": {},
     "output_type": "execute_result"
    }
   ],
   "source": [
    "((divisible 3) 6)"
   ]
  },
  {
   "cell_type": "code",
   "execution_count": 7,
   "metadata": {
    "collapsed": false,
    "deletable": true,
    "editable": true
   },
   "outputs": [
    {
     "data": {
      "text/plain": [
       "false"
      ]
     },
     "execution_count": 7,
     "metadata": {},
     "output_type": "execute_result"
    }
   ],
   "source": [
    "((divisible 3) 7)"
   ]
  },
  {
   "cell_type": "markdown",
   "metadata": {
    "deletable": true,
    "editable": true
   },
   "source": [
    "### 7.2.3 클로저를 함수로 전달하기\n",
    "\n",
    "다른 함수들과 동일하게 클로저도 함수로 전달이 가능하고 이를 통해 강력하게 사용될 수 있다.\n",
    "\n",
    "예를 들어 filter는:\n",
    "\n",
    "1. 함수(이 경우엔 서술식, predicate라고 불림)와 시퀀스를 입력받고\n",
    "2. 이 서술식을 시퀀스에 포함된 각 값에 적용한다.\n",
    "3. 그 결과가 참인 값들고 구성된 시퀀스를 리턴\n",
    "\n",
    "숫자 시퀀스로부터 짝수만 리턴하는 간단한 예제를 살펴보자\n"
   ]
  },
  {
   "cell_type": "code",
   "execution_count": 9,
   "metadata": {
    "collapsed": false,
    "deletable": true,
    "editable": true
   },
   "outputs": [
    {
     "name": "stdout",
     "output_type": "stream",
     "text": [
      "(0 2 4 6 8)\n"
     ]
    }
   ],
   "source": [
    "(println (filter even? (range 10)))"
   ]
  },
  {
   "cell_type": "markdown",
   "metadata": {
    "deletable": true,
    "editable": true
   },
   "source": [
    "filter는 서술식 부분에 한 개의 인자만 받을 수 있기 때문에 클로저를 활용해 다양한 값들을 감싼 함수를 유연하게 전달할 수 있다."
   ]
  },
  {
   "cell_type": "code",
   "execution_count": 11,
   "metadata": {
    "collapsed": false,
    "deletable": true,
    "editable": true
   },
   "outputs": [
    {
     "name": "stdout",
     "output_type": "stream",
     "text": [
      "(0 4 8)\n"
     ]
    }
   ],
   "source": [
    "(println (filter (divisible 4) (range 10)))"
   ]
  },
  {
   "cell_type": "markdown",
   "metadata": {
    "deletable": true,
    "editable": true
   },
   "source": [
    "실제로 사용할 때는 필요한 부분에 로컬을 감싼 클로저를 정의하는 것이 일반적인 방식이다."
   ]
  },
  {
   "cell_type": "code",
   "execution_count": 12,
   "metadata": {
    "collapsed": false,
    "deletable": true,
    "editable": true
   },
   "outputs": [
    {
     "name": "stdout",
     "output_type": "stream",
     "text": [
      "(0 4 8)\n"
     ]
    }
   ],
   "source": [
    "(defn filter-divisible [denom s]\n",
    "    (filter (fn [num] (zero? (rem num denom))) s))\n",
    "\n",
    "(println (filter-divisible 4 (range 10)))"
   ]
  },
  {
   "cell_type": "markdown",
   "metadata": {
    "deletable": true,
    "editable": true
   },
   "source": [
    "`#()` 구문을 사용하면 좀 더 간결해진다."
   ]
  },
  {
   "cell_type": "code",
   "execution_count": 13,
   "metadata": {
    "collapsed": false,
    "deletable": true,
    "editable": true
   },
   "outputs": [
    {
     "name": "stdout",
     "output_type": "stream",
     "text": [
      "(0 5 10 15)\n"
     ]
    }
   ],
   "source": [
    "(defn filter-divisible [denom s]\n",
    "    (filter #(zero? (rem % denom)) s))\n",
    "\n",
    "(println (filter-divisible 5 (range 20)))"
   ]
  },
  {
   "cell_type": "markdown",
   "metadata": {
    "deletable": true,
    "editable": true
   },
   "source": [
    "### 7.2.4 클로저 컨텍스트 공유\n",
    "\n",
    "\n",
    "지금까지 클로저는 단독으로 동작했는데, 때로는 같은 값에 대해 여러 개의 클로저를 사용하는 것이 유용할 수 있다.\n",
    "\n",
    "- 예를 들어 중첩된 GUI 빌더 내에서 이벤트 콜백이나 타이머를 핸들링하는 등 복잡한 랙시컬 환경\n",
    "- 하나의 객체로도 생각할 수 있는 잘 설계된 값과 관련 함수들의 묶음 형태 <- 이걸 예로 들 예정\n",
    "\n",
    "격자판상에서 현재 위치와 방위를 기준으로 움직이는 함수들을 가진 봇 객체를 만들어보자.\n",
    "\n",
    "우선 방향별로 좌표의 증분을 나타내는 리스트가 필요하다.\n",
    "\n",
    "- 위, 오른쪽, 아래, 왼쪽"
   ]
  },
  {
   "cell_type": "code",
   "execution_count": 14,
   "metadata": {
    "collapsed": false,
    "deletable": true,
    "editable": true
   },
   "outputs": [
    {
     "data": {
      "text/plain": [
       "#'user/bearings"
      ]
     },
     "execution_count": 14,
     "metadata": {},
     "output_type": "execute_result"
    }
   ],
   "source": [
    "(def bearings [{:x 0, :y 1}\n",
    "               {:x 1, :y 0}\n",
    "               {:x 0, :y -1}\n",
    "               {:x -1, :y 0}])"
   ]
  },
  {
   "cell_type": "markdown",
   "metadata": {
    "deletable": true,
    "editable": true
   },
   "source": [
    "좌표와 방위를 입력하면 그 방향으로 1만큼 이동되는 새 좌표를 리턴해 주는 forward 함수를 만들 수 있다."
   ]
  },
  {
   "cell_type": "code",
   "execution_count": 15,
   "metadata": {
    "collapsed": false,
    "deletable": true,
    "editable": true
   },
   "outputs": [
    {
     "data": {
      "text/plain": [
       "#'user/forward"
      ]
     },
     "execution_count": 15,
     "metadata": {},
     "output_type": "execute_result"
    }
   ],
   "source": [
    "(defn forward [x y bearing-num]\n",
    "    [(+ x (:x (bearings bearing-num)))\n",
    "     (+ y (:y (bearings bearing-num)))])"
   ]
  },
  {
   "cell_type": "markdown",
   "metadata": {
    "deletable": true,
    "editable": true
   },
   "source": [
    "(5,5)에서 북쪽으로 1만큼 이동하려면"
   ]
  },
  {
   "cell_type": "code",
   "execution_count": 16,
   "metadata": {
    "collapsed": false,
    "deletable": true,
    "editable": true
   },
   "outputs": [
    {
     "data": {
      "text/plain": [
       "[5 6]"
      ]
     },
     "execution_count": 16,
     "metadata": {},
     "output_type": "execute_result"
    }
   ],
   "source": [
    "(forward 5 5 0)"
   ]
  },
  {
   "cell_type": "markdown",
   "metadata": {
    "deletable": true,
    "editable": true
   },
   "source": [
    "혹은 동쪽으로 1만큼 남쪽으로 1만큼 이동할 수도 있다."
   ]
  },
  {
   "cell_type": "code",
   "execution_count": 17,
   "metadata": {
    "collapsed": false,
    "deletable": true,
    "editable": true
   },
   "outputs": [
    {
     "data": {
      "text/plain": [
       "[6 5]"
      ]
     },
     "execution_count": 17,
     "metadata": {},
     "output_type": "execute_result"
    }
   ],
   "source": [
    "(forward 5 5 1)"
   ]
  },
  {
   "cell_type": "code",
   "execution_count": 18,
   "metadata": {
    "collapsed": false,
    "deletable": true,
    "editable": true
   },
   "outputs": [
    {
     "data": {
      "text/plain": [
       "[5 4]"
      ]
     },
     "execution_count": 18,
     "metadata": {},
     "output_type": "execute_result"
    }
   ],
   "source": [
    "(forward 5 5 2)"
   ]
  },
  {
   "cell_type": "markdown",
   "metadata": {
    "deletable": true,
    "editable": true
   },
   "source": [
    "하지만 아직 클로저가 없기 때문에 좌표 뿐만 아니라 방위도 함께 저장하는 봇 객체를 만들어야 한다."
   ]
  },
  {
   "cell_type": "code",
   "execution_count": 19,
   "metadata": {
    "collapsed": false,
    "deletable": true,
    "editable": true
   },
   "outputs": [
    {
     "data": {
      "text/plain": [
       "#'user/bot"
      ]
     },
     "execution_count": 19,
     "metadata": {},
     "output_type": "execute_result"
    }
   ],
   "source": [
    "(defn bot [x y bearing-num]\n",
    "    {:coords [x y]\n",
    "     :bearing ([:north :east :south :west] bearing-num)\n",
    "     :forward (fn [] (bot (+ x (:x (bearings bearing-num)))\n",
    "                          (+ y (:y (bearings bearing-num)))\n",
    "                          bearing-num))})"
   ]
  },
  {
   "cell_type": "markdown",
   "metadata": {
    "deletable": true,
    "editable": true
   },
   "source": [
    "봇의 좌표나 방위를 조회할 수 있다."
   ]
  },
  {
   "cell_type": "code",
   "execution_count": 20,
   "metadata": {
    "collapsed": false,
    "deletable": true,
    "editable": true
   },
   "outputs": [
    {
     "data": {
      "text/plain": [
       "[5 5]"
      ]
     },
     "execution_count": 20,
     "metadata": {},
     "output_type": "execute_result"
    }
   ],
   "source": [
    "(:coords (bot 5 5 0))"
   ]
  },
  {
   "cell_type": "code",
   "execution_count": 21,
   "metadata": {
    "collapsed": false,
    "deletable": true,
    "editable": true
   },
   "outputs": [
    {
     "data": {
      "text/plain": [
       ":north"
      ]
     },
     "execution_count": 21,
     "metadata": {},
     "output_type": "execute_result"
    }
   ],
   "source": [
    "(:bearing (bot 5 5 0))"
   ]
  },
  {
   "cell_type": "markdown",
   "metadata": {
    "deletable": true,
    "editable": true
   },
   "source": [
    "`forward` 함수를 봇 안에 집어넣으면서 봇 객체의 상태로부터 필요한 모든 정보를 알고 있기 때문에 인자를 전달하지 않아도 된다.\n",
    "\n",
    "대신 `:forward` 를 사용해서 클로저에 접근하고, 괄호를 한번 더 씌워서 인자 없이 호출하면 된다."
   ]
  },
  {
   "cell_type": "code",
   "execution_count": 23,
   "metadata": {
    "collapsed": false,
    "deletable": true,
    "editable": true
   },
   "outputs": [
    {
     "data": {
      "text/plain": [
       "[5 6]"
      ]
     },
     "execution_count": 23,
     "metadata": {},
     "output_type": "execute_result"
    }
   ],
   "source": [
    "(:coords ((:forward (bot 5 5 0))))"
   ]
  },
  {
   "cell_type": "markdown",
   "metadata": {
    "deletable": true,
    "editable": true
   },
   "source": [
    "복잡해 보일 수 있지만 아직은 클로저는 한 개 밖에 사용하지 않았다.\n",
    "\n",
    "이제 `turn-left`와 `turn-right` 함수를 봇 객체에 추가한다."
   ]
  },
  {
   "cell_type": "code",
   "execution_count": 24,
   "metadata": {
    "collapsed": false,
    "deletable": true,
    "editable": true
   },
   "outputs": [
    {
     "data": {
      "text/plain": [
       "#'user/bot"
      ]
     },
     "execution_count": 24,
     "metadata": {},
     "output_type": "execute_result"
    }
   ],
   "source": [
    "(defn bot [x y bearing-num]\n",
    "    {:coords [x y]\n",
    "     :bearing ([:north :east :south :west] bearing-num)\n",
    "     :forward (fn [] (bot (+ x (:x (bearings bearing-num)))\n",
    "                          (+ y (:y (bearings bearing-num)))\n",
    "                          bearing-num))\n",
    "     :turn-right (fn [] (bot x y (mod (+ 1 bearing-num) 4)))\n",
    "     :turn-left  (fn [] (bot x y (mod (- 1 bearing-num) 4)))})"
   ]
  },
  {
   "cell_type": "code",
   "execution_count": 25,
   "metadata": {
    "collapsed": false,
    "deletable": true,
    "editable": true
   },
   "outputs": [
    {
     "data": {
      "text/plain": [
       ":east"
      ]
     },
     "execution_count": 25,
     "metadata": {},
     "output_type": "execute_result"
    }
   ],
   "source": [
    "(:bearing ((:forward ((:forward ((:turn-right (bot 5 5 0))))))))"
   ]
  },
  {
   "cell_type": "code",
   "execution_count": 27,
   "metadata": {
    "collapsed": false,
    "deletable": true,
    "editable": true
   },
   "outputs": [
    {
     "data": {
      "text/plain": [
       "[7 5]"
      ]
     },
     "execution_count": 27,
     "metadata": {},
     "output_type": "execute_result"
    }
   ],
   "source": [
    "(:coords ((:forward ((:forward ((:turn-right (bot 5 5 0))))))))"
   ]
  },
  {
   "cell_type": "markdown",
   "metadata": {
    "deletable": true,
    "editable": true
   },
   "source": [
    "객체 생성 패턴 중 하나인 다형성에 대해 알아보자.\n",
    "\n",
    "예를 들어 앞서 작성한 bot과 동일한 기능을 가지고 있지만 이상한 동작을 하는 봇을 정의해보자. \n",
    "\n",
    "- 모든 필드들은 동일한 이름이지만 -> duck typing 구문\n",
    "- 앞으로 가라고 하면 뒤로 가고\n",
    "- 왼쪽으로 가라 하면 오른쪽으로 가는\n",
    "- 반대 방향으로 이동하는 봇"
   ]
  },
  {
   "cell_type": "code",
   "execution_count": null,
   "metadata": {
    "collapsed": true,
    "deletable": true,
    "editable": true
   },
   "outputs": [],
   "source": [
    "(defn mirror-bot [x y bearing-num]\n",
    "    {:coords [x y]\n",
    "     :bearing ([:north :east :south :west] bearing-num)\n",
    "     :forward (fn [] (mrror-bot (- x (:x (bearings bearing-num)))\n",
    "                          (- y (:y (bearings bearing-num)))\n",
    "                          bearing-num))\n",
    "     :turn-right (fn [] (mirror-bot x y (mod (- 1 bearing-num) 4)))\n",
    "     :turn-left  (fn [] (mirror-bot x y (mod (+ 1 bearing-num) 4)))})"
   ]
  },
  {
   "cell_type": "markdown",
   "metadata": {
    "deletable": true,
    "editable": true
   },
   "source": [
    "## 7.3 재귀적으로 생각하기\n",
    "\n",
    "재귀적 방식이 클로저 코드에서 자주 사용되기 때문에 클로저에서 재귀를 어떻게 지원하는지 설명을 먼저 하고 시작한다.\n",
    "\n",
    "### 7.3.1 일반적 재귀\n",
    "\n",
    "흔한 예시인 pow 함수로 재귀를 알아보자"
   ]
  },
  {
   "cell_type": "code",
   "execution_count": 1,
   "metadata": {
    "collapsed": false
   },
   "outputs": [
    {
     "data": {
      "text/plain": [
       "#'user/pow"
      ]
     },
     "execution_count": 1,
     "metadata": {},
     "output_type": "execute_result"
    }
   ],
   "source": [
    "(defn pow [base exp]\n",
    "    (if (zero? exp)\n",
    "        1\n",
    "        (* base (pow base (dec exp)))))"
   ]
  },
  {
   "cell_type": "code",
   "execution_count": 2,
   "metadata": {
    "collapsed": false
   },
   "outputs": [
    {
     "data": {
      "text/plain": [
       "1024"
      ]
     },
     "execution_count": 2,
     "metadata": {},
     "output_type": "execute_result"
    }
   ],
   "source": [
    "(pow 2 10)"
   ]
  },
  {
   "cell_type": "code",
   "execution_count": 3,
   "metadata": {
    "collapsed": false
   },
   "outputs": [
    {
     "data": {
      "text/plain": [
       "9937.353723241924"
      ]
     },
     "execution_count": 3,
     "metadata": {},
     "output_type": "execute_result"
    }
   ],
   "source": [
    "(pow 1.01 925)"
   ]
  },
  {
   "cell_type": "markdown",
   "metadata": {},
   "source": [
    "이런 일반적 재귀 호출은 상호 재귀라고 한다. 즉 recur 구문을 사용하지 않고 명시적으로 재귀를 지정한다.\n",
    "\n",
    "> 일반적으로 상호 재귀는 선형적이라 말한다. 즉 재귀를 실행하는 데 필요한 공간은 입력 값의 크기에 비례한다. 그래서 호출 스택이 쌓인다.\n",
    "\n",
    "큰 값을 넣어주면 바로..\n",
    "\n"
   ]
  },
  {
   "cell_type": "code",
   "execution_count": 3,
   "metadata": {
    "collapsed": false
   },
   "outputs": [
    {
     "name": "stdout",
     "output_type": "stream",
     "text": [
      "StackOverflowError   clojure.lang.Numbers$LongOps.dec (Numbers.java:557)\n"
     ]
    },
    {
     "ename": "class java.lang.StackOverflowError",
     "evalue": "",
     "output_type": "error",
     "traceback": []
    }
   ],
   "source": [
    "(pow 2 10000)"
   ]
  },
  {
   "cell_type": "markdown",
   "metadata": {},
   "source": [
    "이 문제를 이상적으로 해결하는 방법은 recur 구문을 사용하는 꼬리 재귀 방식을 통해 스택의 소모와 예외 발생을 방지하는 것이다.\n",
    "\n",
    "- 꼬리 위치에서 재귀를 호출하는 것을 꼬리 재귀라고 한다 \n",
    "- recur 구문을 이용해 스택 추가 없이 재귀\n"
   ]
  },
  {
   "cell_type": "code",
   "execution_count": 4,
   "metadata": {
    "collapsed": false
   },
   "outputs": [
    {
     "data": {
      "text/plain": [
       "#'user/pow"
      ]
     },
     "execution_count": 4,
     "metadata": {},
     "output_type": "execute_result"
    }
   ],
   "source": [
    "(defn pow [base exp]\n",
    "    (letfn [(kapow [base exp acc]\n",
    "                   (if (zero? exp)\n",
    "                       acc\n",
    "                       (recur base (dec exp) (* base acc))))]\n",
    "        (kapow base exp 1)))"
   ]
  },
  {
   "cell_type": "code",
   "execution_count": 6,
   "metadata": {
    "collapsed": false
   },
   "outputs": [
    {
     "data": {
      "text/plain": [
       "19950631168807583848837421626835850838234968318861924548520089498529438830221946631919961684036194597899331129423209124271556491349413781117593785932096323957855730046793794526765246551266059895520550086918193311542508608460618104685509074866089624888090489894838009253941633257850621568309473902556912388065225096643874441046759871626985453222868538161694315775629640762836880760732228535091641476183956381458969463899410840960536267821064621427333394036525565649530603142680234969400335934316651459297773279665775606172582031407994198179607378245683762280037302885487251900834464581454650557929601414833921615734588139257095379769119277800826957735674444123062018757836325502728323789270710373802866393031428133241401624195671690574061419654342324638801248856147305207431992259611796250130992860241708340807605932320161268492288496255841312844061536738951487114256315111089745514203313820202931640957596464756010405845841566072044962867016515061920631004186422275908670900574606417856951911456055068251250406007519842261898059237118054444788072906395242548339221982707404473162376760846613033778706039803413197133493654622700563169937455508241780972810983291314403571877524768509857276937926433221599399876886660808368837838027643282775172273657572744784112294389733810861607423253291974813120197604178281965697475898164531258434135959862784130128185406283476649088690521047580882615823961985770122407044330583075869039319604603404973156583208672105913300903752823415539745394397715257455290510212310947321610753474825740775273986348298498340756937955646638621874569499279016572103701364433135817214311791398222983845847334440270964182851005072927748364550578634501100852987812389473928699540834346158807043959118985815145779177143619698728131459483783202081474982171858011389071228250905826817436220577475921417653715687725614904582904992461028630081535583308130101987675856234343538955409175623400844887526162643568648833519463720377293240094456246923254350400678027273837755376406726898636241037491410966718557050759098100246789880178271925953381282421954028302759408448955014676668389697996886241636313376393903373455801407636741877711055384225739499110186468219696581651485130494222369947714763069155468217682876200362777257723781365331611196811280792669481887201298643660768551639860534602297871557517947385246369446923087894265948217008051120322365496288169035739121368338393591756418733850510970271613915439590991598154654417336311656936031122249937969999226781732358023111862644575299135758175008199839236284615249881088960232244362173771618086357015468484058622329792853875623486556440536962622018963571028812361567512543338303270029097668650568557157505516727518899194129711337690149916181315171544007728650573189557450920330185304847113818315407324053319038462084036421763703911550639789000742853672196280903477974533320468368795868580237952218629120080742819551317948157624448298518461509704888027274721574688131594750409732115080498190455803416826949787141316063210686391511681774304792596709376"
      ]
     },
     "execution_count": 6,
     "metadata": {},
     "output_type": "execute_result"
    }
   ],
   "source": [
    "(pow 2N 10000)"
   ]
  },
  {
   "cell_type": "markdown",
   "metadata": {},
   "source": [
    "> N은 Big Integer를 표현한다. 10000승 했을 때 너무 큰 수가 되기 때문에 사용.\n",
    "\n",
    "#### 지연 시퀀스를 사용하는 일반적 재귀\n",
    "\n",
    "6.3장에서 봤던 것처럼 시퀀스를 생성하는 함수에서는 꼬리 재귀보다는 lazy--seq를 사용하는 것이 더 좋다.\n",
    "\n",
    "```clojure\n",
    "(defn lz-rec-step [s]\n",
    "  (lazy-seq\n",
    "    (if (seq s)\n",
    "      [(first s) (lz-rec-step (rest s))]\n",
    "    [])\n",
    "  )\n",
    ")\n",
    "```\n",
    "\n",
    "## 7.3.2 꼬리 호출과 재귀\n",
    "\n",
    "\n",
    "클로저에서는 값을 사용하거나 결과 값을 누적시키는 재귀 알고리즘 구현에 있어서 꼬리 재귀를 잘 활용하는 것이 특히 중요합니다.\n",
    "\n",
    "- 함수의 로컬이 절대 변하지 않는 불변의 성질을 가지고 있기 때문에 상태가 예측 가능하다\n",
    "- 결과 값을 누적시키는 경우에 꼬리 재귀가 특히 더 좋다.\n",
    "\n",
    "구현 방법을 보기에 앞서 역사적 배경을 먼저 보자.\n",
    "\n",
    "### 일반적 꼬리 호출 최적화\n",
    "\n",
    "가이 스틸과 제랄드 수스만은 람다 논문들에서 스킴 프로그래밍 언어의 초기 버전을 연구 개발했던 경험을 서술했다.\n",
    "\n",
    "그 첫 번째 버전의 인터프리터는 액터 모델 병행 처리를 위한 액터와 함수를 구현하고 있었다.\n",
    "\n",
    "> 액터 모델은 칼 휴이트가 제시했다고 한다.\n",
    "\n",
    "액터 모델을 간단하게 요약하면 액터란 로컬 상태를 갖는 프로세스로써 다른 액터로부터 받은 메시지를 읽고, 쓰고, 처리하는 반복적 이벤트 처리기이다.\n",
    "\n",
    "위키에 따르면 개념은 아래와 같다.\n",
    "\n",
    "1. Send a finite number of messages to other actors\n",
    "  - 다른 액터에 한정된 개수의 메시지를 보낼 수 있다.\n",
    "2. Create a finite number of new actors.\n",
    "  - 유한한 개수의 액터를 만들어낼 수 있다.\n",
    "3. Designate the behavior to be used for the next message it receives.\n",
    "  - 다른 액터가 받을 메시지에 수반될 행동을 지정할 수 있다.\n",
    "\n",
    "이러한 모든 일들이 동시적으로 일어나는 것을 액터 모델이라고 한다.\n",
    "\n",
    "![액터모델](http://cfile7.uf.tistory.com/image/215655435616103E26F60A)\n",
    "\n",
    "여튼 액터를 사용해 구현한 동작 흐름을 보다 보니\n",
    "\n",
    "- 항상 한 액터가 꼬리 위치에서 리턴은 지연시킨 채 다른 액터를 호출하며 종료되는 것을 발견\n",
    "- 또한 액터와 함수의 기능이 중첩되어 있다는 것을 발견해서, \n",
    "- 스킴에서는 액터가 사라지고 함수가 그 역할을 할 수 있는 구조로 변경되었음\n",
    "- 그래서 함수에서의 일반적 꼬리 호출 최적화가 중요해짐(왜냐면 액터의 속성이기 때문에)\n",
    "\n",
    "스킴에서의 꼬리 호출 최적화는 객체 위임과 유사한 면이 있다.\n",
    "\n",
    "> 액터 모델도 체인을 따라 임의의 단계에서 발생하는 데이터 처리를 위해서 임의의 깊이에 메시지를 위임하는 방식을 사용한다.\n",
    ">\n",
    "> 즉 다른 액터에게 메시지 처리를 부탁한다.\n",
    "\n",
    "![7_꼬리호출최적화.jpeg](7_꼬리호출최적화.jpeg)\n",
    "\n",
    "일반적 꼬리 호출 최적화 \n",
    "\n",
    "- A가 B를 꼬리 위치에서 호출한다는 것은 A의 자원이 더이상 사용되지 않는다는 뜻이 되기 때문에 이 자원들을 반환하고 B가 결과를 리턴하도록 한다.\n",
    "\n",
    "> 불행하게도 자바 가상 머신이나 바이트코드는 이를 지원하지 않는다. 그 영향으로 클로저도 recur을 통해 함수 스스로에 대한 꼬리 호출을 제공하지만 다른 함수에 대한 일반적인 꼬리 호출에 대해서는 지원하지 않는다.\n",
    "\n",
    "#### 꼬리 재귀\n",
    "\n",
    "다음은 두 숫자의 최대공약수를 계산하는 함수다."
   ]
  },
  {
   "cell_type": "code",
   "execution_count": 1,
   "metadata": {
    "collapsed": false
   },
   "outputs": [
    {
     "data": {
      "text/plain": [
       "#'user/gcd"
      ]
     },
     "execution_count": 1,
     "metadata": {},
     "output_type": "execute_result"
    }
   ],
   "source": [
    "(defn gcd [x y]\n",
    "    (cond\n",
    "        (> x y) (gcd (- x y) y)\n",
    "        (< x y) (gcd x (- y x))\n",
    "       :else x))"
   ]
  },
  {
   "cell_type": "code",
   "execution_count": 17,
   "metadata": {
    "collapsed": false
   },
   "outputs": [
    {
     "data": {
      "text/plain": [
       "4"
      ]
     },
     "execution_count": 17,
     "metadata": {},
     "output_type": "execute_result"
    }
   ],
   "source": [
    "(gcd 12 20)"
   ]
  },
  {
   "cell_type": "code",
   "execution_count": 1,
   "metadata": {
    "collapsed": false
   },
   "outputs": [
    {
     "name": "stdout",
     "output_type": "stream",
     "text": [
      "StackOverflowError   clojure.lang.Numbers.gt (Numbers.java:229)\n"
     ]
    },
    {
     "ename": "class java.lang.StackOverflowError",
     "evalue": "",
     "output_type": "error",
     "traceback": []
    }
   ],
   "source": [
    "(gcd 1 10000000)"
   ]
  },
  {
   "cell_type": "markdown",
   "metadata": {},
   "source": [
    "이것도 꼬리 재귀를 통해 최적화 할 수 있다."
   ]
  },
  {
   "cell_type": "code",
   "execution_count": 2,
   "metadata": {
    "collapsed": false
   },
   "outputs": [
    {
     "data": {
      "text/plain": [
       "#'user/gcd-recur"
      ]
     },
     "execution_count": 2,
     "metadata": {},
     "output_type": "execute_result"
    }
   ],
   "source": [
    "(defn gcd-recur [x y]\n",
    "    (cond\n",
    "        (> x y) (recur (- x y) y)\n",
    "        (< x y) (recur x (- y x))\n",
    "       :else x))"
   ]
  },
  {
   "cell_type": "code",
   "execution_count": 3,
   "metadata": {
    "collapsed": false
   },
   "outputs": [
    {
     "data": {
      "text/plain": [
       "1"
      ]
     },
     "execution_count": 3,
     "metadata": {},
     "output_type": "execute_result"
    }
   ],
   "source": [
    "(gcd-recur 1 10000000)"
   ]
  },
  {
   "cell_type": "markdown",
   "metadata": {},
   "source": [
    "하지만 바깥에 int 함수와 같은 함수를 감싸면 실질적인 꼬리가 아니기 때문에 재귀가 되지 않는다는 한계가 있다."
   ]
  },
  {
   "cell_type": "code",
   "execution_count": 3,
   "metadata": {
    "collapsed": false
   },
   "outputs": [
    {
     "name": "stdout",
     "output_type": "stream",
     "text": [
      "CompilerException java.lang.UnsupportedOperationException: Can only recur from tail position, compiling:(null:4:21) \n"
     ]
    },
    {
     "ename": "class clojure.lang.Compiler$CompilerException",
     "evalue": "",
     "output_type": "error",
     "traceback": [
      "Compiler.java:  6542 clojure.lang.Compiler$RecurExpr$Parser/parse",
      "Compiler.java:  6868 clojure.lang.Compiler/analyzeSeq            ",
      "Compiler.java:  6669 clojure.lang.Compiler/analyze               ",
      "Compiler.java:  2797 clojure.lang.Compiler$IfExpr$Parser/parse   ",
      "Compiler.java:  6868 clojure.lang.Compiler/analyzeSeq            ",
      "Compiler.java:  6669 clojure.lang.Compiler/analyze               ",
      "Compiler.java:  6856 clojure.lang.Compiler/analyzeSeq            ",
      "Compiler.java:  6669 clojure.lang.Compiler/analyze               ",
      "Compiler.java:  1009 clojure.lang.Compiler$HostExpr$Parser/parse ",
      "Compiler.java:  6868 clojure.lang.Compiler/analyzeSeq            ",
      "Compiler.java:  6669 clojure.lang.Compiler/analyze               ",
      "Compiler.java:  6863 clojure.lang.Compiler/analyzeSeq            ",
      "Compiler.java:  6669 clojure.lang.Compiler/analyze               ",
      "Compiler.java:  6001 clojure.lang.Compiler$BodyExpr$Parser/parse ",
      "Compiler.java:  5380 clojure.lang.Compiler$FnMethod/parse        ",
      "Compiler.java:  3972 clojure.lang.Compiler$FnExpr/parse          ",
      "Compiler.java:  6866 clojure.lang.Compiler/analyzeSeq            ",
      "Compiler.java:  6669 clojure.lang.Compiler/analyze               ",
      "Compiler.java:  6856 clojure.lang.Compiler/analyzeSeq            ",
      "Compiler.java:  6669 clojure.lang.Compiler/analyze               ",
      "Compiler.java:    38 clojure.lang.Compiler/access$300            ",
      "Compiler.java:   589 clojure.lang.Compiler$DefExpr$Parser/parse  ",
      "Compiler.java:  6868 clojure.lang.Compiler/analyzeSeq            ",
      "Compiler.java:  6669 clojure.lang.Compiler/analyze               ",
      "Compiler.java:  6931 clojure.lang.Compiler/eval                  "
     ]
    }
   ],
   "source": [
    "(defn gcd-recur [x y]\n",
    "    (int\n",
    "        (cond\n",
    "            (> x y) (recur (- x y) y)\n",
    "            (< x y) (recur x (- y x))\n",
    "           :else x)))\n",
    "    "
   ]
  },
  {
   "cell_type": "markdown",
   "metadata": {},
   "source": [
    "### 7.3.3 trampoline을 이용한 상호 재귀\n",
    "\n",
    "상호 재귀를 최적화 하는 한가지 기법 \n",
    "\n",
    "> **(trampoline f & partial-args)**\n",
    ">\n",
    "> f: 상호재귀적인 함수 중 하나\n",
    ">\n",
    "> partial-args : 그함 수의 인자\n",
    "\n",
    "- 함수를 구현하는 사람이 recur를 이용해 재귀를 선언하는 대신 함수를 호출하는 쪽에서 recur를 통해 재귀적으로 함수를 호출할 수 있게함.\n",
    "- 인자로는 주어진 함수를 호출하고 그 함수를 호출한 결과 반환되는 함수를 다시호출 하는 방식으로 반복해서 호출"
   ]
  },
  {
   "cell_type": "code",
   "execution_count": 4,
   "metadata": {
    "collapsed": false
   },
   "outputs": [
    {
     "data": {
      "text/plain": [
       "3"
      ]
     },
     "execution_count": 4,
     "metadata": {},
     "output_type": "execute_result"
    }
   ],
   "source": [
    "(trampoline + 1 2)"
   ]
  },
  {
   "cell_type": "code",
   "execution_count": 5,
   "metadata": {
    "collapsed": false
   },
   "outputs": [
    {
     "data": {
      "text/plain": [
       "()"
      ]
     },
     "execution_count": 5,
     "metadata": {},
     "output_type": "execute_result"
    }
   ],
   "source": [
    "(trampoline list)"
   ]
  },
  {
   "cell_type": "markdown",
   "metadata": {},
   "source": [
    "trampoline이 인자로 받은 함수를 호출한 결과가 함수라면, recur를 이용해 그 함수를 다시 호출한다"
   ]
  },
  {
   "cell_type": "code",
   "execution_count": 16,
   "metadata": {
    "collapsed": false
   },
   "outputs": [
    {
     "data": {
      "text/plain": [
       "#'user/my-even-2?"
      ]
     },
     "execution_count": 16,
     "metadata": {},
     "output_type": "execute_result"
    }
   ],
   "source": [
    "(declare my-odd-2? my-even-2?)\n",
    "(defn my-odd-2? [n]\n",
    "  (if (= n 0)\n",
    "    false\n",
    "    (my-even-2? (dec n))))\n",
    "\n",
    "(defn my-even-2? [n]\n",
    "  (if (= n 0)\n",
    "    true\n",
    "    (my-odd-2? (dec n))))"
   ]
  },
  {
   "cell_type": "code",
   "execution_count": 17,
   "metadata": {
    "collapsed": false
   },
   "outputs": [
    {
     "name": "stdout",
     "output_type": "stream",
     "text": [
      "StackOverflowError   clojure.lang.Util.equiv (Util.java:87)\n"
     ]
    },
    {
     "ename": "class java.lang.StackOverflowError",
     "evalue": "",
     "output_type": "error",
     "traceback": []
    }
   ],
   "source": [
    "(my-even-2? 1000000)"
   ]
  },
  {
   "cell_type": "code",
   "execution_count": 13,
   "metadata": {
    "collapsed": false
   },
   "outputs": [
    {
     "data": {
      "text/plain": [
       "#'user/my-even?"
      ]
     },
     "execution_count": 13,
     "metadata": {},
     "output_type": "execute_result"
    }
   ],
   "source": [
    "(declare my-odd? my-even?)\n",
    "(defn my-odd? [n]\n",
    "  (if (= n 0)\n",
    "    false\n",
    "    #(my-even? (dec n))))\n",
    "\n",
    "(defn my-even? [n]\n",
    "  (if (= n 0)\n",
    "    true\n",
    "    #(my-odd? (dec n))))"
   ]
  },
  {
   "cell_type": "code",
   "execution_count": 3,
   "metadata": {
    "collapsed": false
   },
   "outputs": [
    {
     "data": {
      "text/plain": [
       "true"
      ]
     },
     "execution_count": 3,
     "metadata": {},
     "output_type": "execute_result"
    }
   ],
   "source": [
    "(trampoline my-even? 1000000)\n"
   ]
  },
  {
   "cell_type": "markdown",
   "metadata": {},
   "source": [
    "### 7.3.4 컨티뉴에이션 패싱 스타일\n",
    "\n",
    "컨티뉴에이션 패싱 스타일은 필수적이지는 않지만 자주 쓰이는 스타일이다.\n",
    "\n",
    "> 책의 설명은 전혀 무슨말인지 모르겟어서 아래 url을 참조하면 더 좋은듯\n",
    ">\n",
    "> [CPS 참고](http://dogfeet.github.io/articles/2012/by-example-continuation-passing-style-in-javascript.html)\n",
    "\n",
    "다음의 원리만 깨우치면 프로그래머는 컨티뉴에이션-패싱 스타일을 깨달을 수 있다..\n",
    "\n",
    "- 어떠한 프로시저도 caller에 리턴(return)하지 않는다.\n",
    "  - 아래 힌트는 CPS로 프로그래밍하는 데 도움이 된다:\n",
    "- 프로시저는 리턴 값으로 호출 가능한 콜백을 받는다.\n",
    "  - 프로시저가 caller로 \"리턴\" 해야 할 때, 프로시저는 return 대신 콜백을 호출한다. \n",
    "  - 이 콜백은 caller가 넘겨줬다.\n",
    "\n",
    "가장 CPS의 단순한 버전은 다음의 세가지 함수를 사용한다\n",
    "\n",
    "- Accept \n",
    "  - 연산 종료 시점 결정\n",
    "- Return \n",
    "  - 리턴할 값을 래핑\n",
    "- Continuation\n",
    "  - 다음 연산 제공\n",
    "  \n",
    "팩토리얼 함수가 가장 대표적인 예시이다.\n",
    "\n",
    "> (identity x)\n",
    ">\n",
    "> Returns its argument."
   ]
  },
  {
   "cell_type": "code",
   "execution_count": 3,
   "metadata": {
    "collapsed": false
   },
   "outputs": [
    {
     "data": {
      "text/plain": [
       "#'user/fac"
      ]
     },
     "execution_count": 3,
     "metadata": {},
     "output_type": "execute_result"
    }
   ],
   "source": [
    "(defn fac-cps [n k]\n",
    "    (letfn [(cont [v] (k (* v n)))]\n",
    "        (if (zero? n)\n",
    "            (k 1)\n",
    "            (recur (dec n) cont))))\n",
    "\n",
    "\n",
    "(defn fac [n]\n",
    "    (fac-cps n identity))"
   ]
  },
  {
   "cell_type": "code",
   "execution_count": 2,
   "metadata": {
    "collapsed": false
   },
   "outputs": [
    {
     "data": {
      "text/plain": [
       "3628800"
      ]
     },
     "execution_count": 2,
     "metadata": {},
     "output_type": "execute_result"
    }
   ],
   "source": [
    "(fac 10)"
   ]
  },
  {
   "cell_type": "markdown",
   "metadata": {},
   "source": [
    "이 CPS의 유용성은 이걸 이용해서 더 일반적인 함수를 만들어낼 수 있다는 점이다.\n",
    "\n",
    "다음 코드는 같은 구조를 갖는 수학적 폴딩 함수들을 만들어내는 데 사용될 수 있다."
   ]
  },
  {
   "cell_type": "code",
   "execution_count": 4,
   "metadata": {
    "collapsed": false
   },
   "outputs": [
    {
     "data": {
      "text/plain": [
       "#'user/mk-cps"
      ]
     },
     "execution_count": 4,
     "metadata": {},
     "output_type": "execute_result"
    }
   ],
   "source": [
    "(defn mk-cps [accept? Kend kont]\n",
    "    (fn [n]\n",
    "        ((fn [n k]\n",
    "             (let [cont (fn [v]\n",
    "                            (k ((partial kont v) n)))]\n",
    "                 (if (accept? n)\n",
    "                     (k 1)\n",
    "                     (recur (dec n) cont))))\n",
    "         n Kend)))"
   ]
  },
  {
   "cell_type": "markdown",
   "metadata": {},
   "source": [
    "my-cps 함수를 보면 fac-cps와 거의 유사하다.\n",
    "\n",
    "차이가 있다면 fac-cps와는 다르게 accept와 continuation함수를 인자로 받는다는 점이다."
   ]
  },
  {
   "cell_type": "code",
   "execution_count": 5,
   "metadata": {
    "collapsed": false
   },
   "outputs": [
    {
     "data": {
      "text/plain": [
       "3628800"
      ]
     },
     "execution_count": 5,
     "metadata": {},
     "output_type": "execute_result"
    }
   ],
   "source": [
    "(def fac\n",
    "    (mk-cps zero?\n",
    "            identity\n",
    "            #(* %1 %2)))\n",
    "(fac 10)"
   ]
  },
  {
   "cell_type": "code",
   "execution_count": 6,
   "metadata": {
    "collapsed": false
   },
   "outputs": [
    {
     "data": {
      "text/plain": [
       "55"
      ]
     },
     "execution_count": 6,
     "metadata": {},
     "output_type": "execute_result"
    }
   ],
   "source": [
    "(def tri\n",
    "    (mk-cps #(== 1 %)\n",
    "            identity\n",
    "            #(+ %1 %2)))\n",
    "(tri 10)"
   ]
  },
  {
   "cell_type": "markdown",
   "metadata": {},
   "source": [
    "## 7.4 종합하기 A* 경로 탐색\n",
    "\n",
    "아쉽게도 생략한다\n",
    "\n",
    "## 7.5 정리\n",
    "\n",
    "이번 장에서는 클로저가 함수형 프로그래밍으로서의 특성을 많이 가지고 있는지 이야기해보았다.\n",
    "\n",
    "- 클로저는 불변성을 갖는 데이터가 애플리케이션의 함수들을 통해 변환되는 접근 방식을 선호\n",
    "- 부수 효과로부터 자유롭고 참조가 투명한 순수 함수를 선호\n",
    "- 생성된 컨텍스트상의 값을 가져와 사용할 수 있는 함수를 정의하기 위해 렉시컬 클로저 지원  \n",
    "  - 특정한 정보가 렉시컬 컨텍스트에서 벗어나서도 존재할 수 있도록 해준다\n",
    "- 꼬리 재귀를 기본적인 반복 형식으로 사용\n",
    "\n",
    "다음 장에서는 매크로,.에 대해서 알아본다."
   ]
  },
  {
   "cell_type": "code",
   "execution_count": null,
   "metadata": {
    "collapsed": true
   },
   "outputs": [],
   "source": []
  },
  {
   "cell_type": "code",
   "execution_count": null,
   "metadata": {
    "collapsed": true
   },
   "outputs": [],
   "source": []
  }
 ],
 "metadata": {
  "kernelspec": {
   "display_name": "Clojure",
   "language": "clojure",
   "name": "clojure"
  },
  "language_info": {
   "file_extension": ".clj",
   "mimetype": "text/x-clojure",
   "name": "clojure",
   "version": "1.8.0"
  }
 },
 "nbformat": 4,
 "nbformat_minor": 2
}
