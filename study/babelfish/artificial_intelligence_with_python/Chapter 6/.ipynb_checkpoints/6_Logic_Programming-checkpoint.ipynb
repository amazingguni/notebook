{
 "cells": [
  {
   "cell_type": "markdown",
   "metadata": {},
   "source": [
    "# Chapter 6. Logic Programming\n",
    "\n",
    "## 2017. 11. 2. Younggun Na\n",
    "\n",
    "이번 Chapter에서 다루는 내용은 아래와 같다.\n",
    "\n",
    "1. Logic Programming의 개념\n",
    "2. Logic Programming의 기본 구성 요소\n",
    "3. Logic Programming 방식으로 문제를 해결하는 방법\n",
    "4. Logic Programming 관련 파이썬 패키지 설치 방법\n",
    "5. 수학 표현식 매칭 방법\n",
    "6. 소수 검사기 만들기\n",
    "7. 가계도 분석기 만들기\n",
    "8. 지도 분석기 만들기\n",
    "9. 퍼즐 해결기 만들기\n"
   ]
  },
  {
   "cell_type": "markdown",
   "metadata": {},
   "source": [
    "## Logic Programming의 개념\n",
    "\n",
    "*Logic Programming*이란 **fact**와 **rule**들로 구성된 **지식 데이터베이스**에 대해 **자동 추론**을 적용하는 방식으로 Computation을 처리하는 방식이다.\n",
    "\n",
    "*Logic Programming* 을 제대로 이해하려면 Computation(계산)과 Deduction(추론) 개념을 알아야 한다.\n",
    "\n",
    "![product](1_product.png)\n",
    "\n",
    "1. Computation\n",
    "  - expression(표현식)과 일련의 rule로 표현하는 방식으로 결과를 도출한다.\n",
    "  - 이 때 작성한 expression과 rule이 program이다.\n",
    "  - 위의 경우 *23 + 12 + 49 => (2 + 1 + 4 + 1)4 => 84*\n",
    "2. Deduction\n",
    "  - conjecture(가설)을 세운 후 일련의 rule에 따라 그것을 증명하는 방식으로 처리\n",
    "  - Computation 과정은 기계적인 데 반해, Deduction 과정은 좀 더 창의적이다.\n",
    "\n",
    "Logic Programming 방식은 Deduction 방식을 따른다.\n",
    "\n",
    "1. 먼저 문제 영역에 대한 rule과 fact에 대한 문장을 나열하는 방식으로 program을 작성\n",
    "2. 이런 정보를 이용해 문제를 solver로 푼다.\n",
    "\n",
    "\n"
   ]
  },
  {
   "cell_type": "markdown",
   "metadata": {},
   "source": [
    "## Logic Programming의 기본 구성 요소\n",
    "\n",
    "\n",
    "### unification\n",
    "\n",
    "Logic Programming에서는 다른 객체지향이나 절차지향 언어로 할 때와는 다르게 변수를 정의하고 나서 시작하지 않는다.\n",
    "\n",
    "대신 variable을 다양한 대상 중 하나에 매칭한다. 이를 **unification**이라 한다.\n",
    "\n",
    "1. argument를 instance를 만들지 않은 상태로 function에 전달\n",
    "2. interpreter는 사용자가 정의한 fact 정보를 검색해 그 variable에 대한 instance를 생성\n",
    "\n",
    "### relation\n",
    "\n",
    "Logic Programming에서는 Program이 처리할 대상을 relation으로 표현한다.\n",
    "\n",
    "- 이러한 relation은 fact와 rule에 대한 clause로 정의한다.\n",
    "\n",
    "### fact\n",
    "\n",
    "Fact란 Program에서 참으로 여기는 문장으로서, 연산을 수행할 대상이 되는 데이터이다.\n",
    "\n",
    "> training set같은 느낌도 드네요..\n",
    "\n",
    "문법은 굉장히 단순하다.\n",
    "\n",
    "- 도널드는 앨런의 아들이다 === Fact\n",
    "- 누가 엘런의 아들인가? === Not Fact\n",
    "\n",
    "Logic programming을 실행하기 위해서는 먼저 결론을 도출하는 토대가 되는 Fact부터 명시해야 한다.\n",
    "\n",
    "### rule\n",
    "\n",
    "Rule은 여러가지 Fact를 표현하고 이에 대해 질의하는 방법에 대한 것이다.\n",
    "\n",
    "- 이러한 Rule은 문제를 풀 때 지켜야 할 제약 조건이자, 문제 영역에서 어떠한 결론을 도출하는 수단이다.\n",
    "- 예를 들어 체스 엔진을 만들 때, 각각의 말이 체스 보드에서 움직일 수 있는 범위를 명시한 것이 Rule이다.\n",
    "\n",
    "최종적으로 도출한 결과가 유효하려면(참이 되려면), 그 결과를 도출하는 데 적용한 모든 Relation가 참이여야 한다.\n",
    "\n",
    "## Logic Programming을 이용한 문제 해결 방법\n",
    "\n",
    "Logic Programming은 Fact와 Rule을 통해 결론을 도출하는 방식으로 문제를 처리한다.\n",
    "\n",
    "1. 프로그램이 수행할 Goal을 지정해야 한다. \n",
    "2. Program과 Goal에 Variable이 하나도 없다면, \n",
    "  - Solver는 Goal을 달성하기 위해 문제를 탐색할 공간을 트리 형태로 만든다.\n",
    "\n",
    "Rule은 논리 문장으로 표현한다.\n",
    "\n",
    "```\n",
    "케이시는 초콜릿을 좋아한다 => 알렉산더는 케이시를 좋아한다\n",
    "\n",
    "이 문장은 두 개의 문장이 implication(함의) 연산으로 이어졌는데,\n",
    "이를 if ... then ... 형태의 조건문으로 본다면\n",
    "\n",
    "\"케이시가 초콜릿을 좋아한다면, 알렉산더는 케이시를 좋아한다\" 고 표현할 수 있다.\n",
    "\n",
    "다시 말하면 \n",
    "\n",
    "\"케이시가 초콜릿을 좋아한다는 사실은 알렉산더가 케이시를 사랑한다는 것을 함축해 의미한다.\"\n",
    "\n",
    "다른 예로.\n",
    "\n",
    "범죄, 영화, 영어 => 마틴 스콜세지\n",
    "\n",
    "이 문장을 조건문으로 표현하면\n",
    "\n",
    "\" 영어를 사용하는 범죄 영화를 좋아한다면, 마틴 스콜세지 감독이 만든 영화를 좋아할 것이다\"\n",
    "```\n",
    "\n",
    "이처럼 implication statement은 풀려는 문제에 따라 다양한 형태로 표현할 수 있다."
   ]
  },
  {
   "cell_type": "markdown",
   "metadata": {},
   "source": [
    "## Logic Programming 관련 python 패키지 설치 방법\n",
    "\n",
    "```sh\n",
    "$ pip3 install kanren\n",
    "$ pip3 install sympy\n",
    "```"
   ]
  },
  {
   "cell_type": "markdown",
   "metadata": {},
   "source": [
    "## 수학 표현식 매칭하기\n",
    "\n",
    "Logic Programming에서는 수식을 비교하고 미지수를 구하는 작업을 효율적으로 처리한다.\n",
    "\n",
    "우선 다음과 같은 표현식을 생각해보자\n",
    "\n",
    "```\n",
    "expression_orig = 3 * (-2) + (1 + 2 * 3) * (-1)\n",
    "```\n",
    "\n",
    "변수를 넣어보면\n",
    "\n",
    "```\n",
    "expression1 = (1 + 2 * a) * b + 3 * c\n",
    "expression2 = c * 3 + b * (2 * a + 1)\n",
    "expression3 = (((2 * a) * b) + b) + 3 * c\n",
    "```\n",
    "\n",
    "아래 시작할 예제 프로그램에서는 변수로 표현된 a, b, c의 값을 구할 예정이다.\n",
    "\n",
    "- 원본 expression_origin과 비교해서 일치하는 부분을 찾는 식으로 구한다."
   ]
  },
  {
   "cell_type": "code",
   "execution_count": 6,
   "metadata": {},
   "outputs": [],
   "source": [
    "from kanren import run, var, fact\n",
    "import kanren.assoccomm as la"
   ]
  },
  {
   "cell_type": "code",
   "execution_count": 7,
   "metadata": {},
   "outputs": [],
   "source": [
    "# 수학 연산 정의하기\n",
    "add = 'addition'\n",
    "mul = 'multiplication'"
   ]
  },
  {
   "cell_type": "code",
   "execution_count": 8,
   "metadata": {},
   "outputs": [],
   "source": [
    "# 두 연산에 대한 교환/결합 법칙 선언하기\n",
    "fact(la.commutative, mul)\n",
    "fact(la.commutative, add)\n",
    "fact(la.associative, mul)\n",
    "fact(la.associative, add)"
   ]
  },
  {
   "cell_type": "code",
   "execution_count": 9,
   "metadata": {},
   "outputs": [],
   "source": [
    "# 변수 정의하기\n",
    "a, b, c = var('a'), var('b'), var('c')"
   ]
  },
  {
   "cell_type": "code",
   "execution_count": 10,
   "metadata": {},
   "outputs": [],
   "source": [
    "# 표현식 생성하기\n",
    "expression_orig = (add, (mul, 3, -2), (mul, (add, 1, (mul, 2, 3)), -1))\n",
    "expression1 = (add, (mul, (add, 1, (mul, 2, a)), b), (mul, 3, c))\n",
    "expression2 = (add, (mul, c, 3), (mul, b, (add, (mul, 2, a), 1)))\n",
    "expression3 = (add, (add, (mul, (mul, 2, a), b), b), (mul, 3, c))"
   ]
  },
  {
   "cell_type": "code",
   "execution_count": 12,
   "metadata": {},
   "outputs": [
    {
     "name": "stdout",
     "output_type": "stream",
     "text": [
      "((3, -1, -2),)\n",
      "((3, -1, -2),)\n",
      "()\n"
     ]
    }
   ],
   "source": [
    "# 각각의 expression을 expression_orig과 비교한다.\n",
    "# 이 작업은 kanren에서 제공하는 run()으로 처리한다.\n",
    "# run()은 argument를 받아 expression을 계산한다.\n",
    "\n",
    "# 첫 번째 arg는 값의 개수를, 두 번째 arg는 variable을, 세 번째 arg는 함수를 지정한다.\n",
    "\n",
    "# eq_assoccomm == Associative/Commutative eq\n",
    "\n",
    "# 표현식 비교하기\n",
    "print(run(0, (a, b, c), la.eq_assoccomm(expression1, expression_orig)))\n",
    "print(run(0, (a, b, c), la.eq_assoccomm(expression2, expression_orig)))\n",
    "print(run(0, (a, b, c), la.eq_assoccomm(expression3, expression_orig)))"
   ]
  },
  {
   "cell_type": "markdown",
   "metadata": {},
   "source": [
    "## 소수 검사기\n",
    "\n",
    "주어진 숫자가 prime number인지 검사하는 프로그램을 작성해보자.\n",
    "\n",
    "> 주어진 숫자 리스트에서 소수를 차즌 작업과 주어진 숫자가 소수인지 검사하는 기능은 kanren에서 제공하는 메소드로 구현한다."
   ]
  },
  {
   "cell_type": "code",
   "execution_count": 1,
   "metadata": {},
   "outputs": [],
   "source": [
    "import itertools as it\n",
    "from kanren import *\n",
    "from kanren.core import fail, eq, condeseq, success\n",
    "from sympy.ntheory.generate import prime, isprime"
   ]
  },
  {
   "cell_type": "code",
   "execution_count": 2,
   "metadata": {},
   "outputs": [],
   "source": [
    "# x의 원소 중에 소수가 있는지 검사하기\n",
    "def check_prime(x):\n",
    "    if isvar(x):\n",
    "        return condeseq([(eq, x, p)] for p in map(prime, it.count(1)))\n",
    "    else:\n",
    "        return success if isprime(x) else fail"
   ]
  },
  {
   "cell_type": "code",
   "execution_count": 3,
   "metadata": {},
   "outputs": [],
   "source": [
    "# 프로그램에서 사용할 변수 x를 선언한다.\n",
    "x = var()"
   ]
  },
  {
   "cell_type": "code",
   "execution_count": 4,
   "metadata": {},
   "outputs": [
    {
     "name": "stdout",
     "output_type": "stream",
     "text": [
      "\n",
      "List of primes in the list:\n",
      "{3, 11, 13, 17, 19, 23, 29}\n"
     ]
    }
   ],
   "source": [
    "# 여러 개의 숫자를 정의한 후 그 중에 소수가 있는지 검사한다.\n",
    "# membero는 member of라는 의미이다. \n",
    "list_nums = (23, 4, 27, 17, 13, 10, 21, 29, 3, 32, 11, 19)\n",
    "print('\\nList of primes in the list:')\n",
    "print(set(run(0, x, (membero, x, list_nums), (check_prime, x))))"
   ]
  },
  {
   "cell_type": "code",
   "execution_count": 5,
   "metadata": {},
   "outputs": [
    {
     "name": "stdout",
     "output_type": "stream",
     "text": [
      "\n",
      "List of first 7 prime numbers:\n",
      "(2, 3, 5, 7, 11, 13, 17)\n"
     ]
    }
   ],
   "source": [
    "# 처음부터 일곱 번째까지 소수 출력하기\n",
    "print('\\nList of first 7 prime numbers:')\n",
    "print(run(7, x, check_prime(x)))"
   ]
  },
  {
   "cell_type": "markdown",
   "metadata": {},
   "source": [
    " ### condeseq\n",
    " \n",
    " ```\n",
    " Goal constructor to provides logical AND and OR\n",
    "    conde((A, B, C), (D, E)) means (A and B and C) or (D and E)\n",
    "    Equivalent to the (A, B, C); (D, E) syntax in Prolog.\n",
    "```"
   ]
  },
  {
   "cell_type": "markdown",
   "metadata": {},
   "source": [
    "## 가계도 분석기\n",
    "\n",
    "가계도를 분석해보자\n",
    "\n",
    "![2_family](2_family.png)\n",
    "\n",
    "father, mother관계만으로 grandfather나 uncle을 알려주는 프로그램을 작성해보자.\n",
    "\n",
    "> 명시적으로 입력하지 않고도 logic programming만으로 그 relation을 유추할 있다.\n",
    "\n",
    "위 그림의 가계도는 `relationship.json` 파일에 정의되어 있다.\n",
    "\n",
    "```json\n",
    "{\n",
    "      \"father\": \n",
    "      [\n",
    "            {\"John\": \"William\"},\n",
    "            {\"John\": \"David\"},\n",
    "            {\"John\": \"Adam\"},\n",
    "            {\"William\": \"Chris\"},\n",
    "            {\"William\": \"Stephanie\"},\n",
    "            {\"David\": \"Wayne\"},\n",
    "            {\"David\": \"Tiffany\"},\n",
    "            {\"David\": \"Julie\"},\n",
    "            {\"David\": \"Neil\"},\n",
    "            {\"David\": \"Peter\"},\n",
    "            {\"Adam\": \"Sophia\"}\n",
    "      ],\n",
    "      \"mother\": \n",
    "      [\n",
    "            {\"Megan\": \"William\"},\n",
    "            {\"Megan\": \"David\"},\n",
    "            {\"Megan\": \"Adam\"},\n",
    "            {\"Emma\": \"Stephanie\"},\n",
    "            {\"Emma\": \"Chris\"},\n",
    "            {\"Olivia\": \"Tiffany\"},\n",
    "            {\"Olivia\": \"Julie\"},\n",
    "            {\"Olivia\": \"Neil\"},\n",
    "            {\"Olivia\": \"Peter\"},\n",
    "            {\"Lily\": \"Sophia\"}\n",
    "      ]\n",
    "}\n",
    "```"
   ]
  },
  {
   "cell_type": "code",
   "execution_count": 6,
   "metadata": {},
   "outputs": [],
   "source": [
    "import json\n",
    "from kanren import Relation, facts, run, conde, var, eq"
   ]
  },
  {
   "cell_type": "code",
   "execution_count": 8,
   "metadata": {},
   "outputs": [],
   "source": [
    "# x가 y의 부모인지 검사하는 로직\n",
    "def parent(x, y):\n",
    "    return conde([father(x, y)], [mother(x, y)])"
   ]
  },
  {
   "cell_type": "code",
   "execution_count": 9,
   "metadata": {},
   "outputs": [],
   "source": [
    "# x가 y의 조부모인지 검사하는 로직\n",
    "def grandparent(x, y):\n",
    "    temp = var()\n",
    "    return conde((parent(x, temp), parent(temp, y)))"
   ]
  },
  {
   "cell_type": "code",
   "execution_count": 10,
   "metadata": {},
   "outputs": [],
   "source": [
    "# a와 b가 형재 자매 관계인지 확인하기\n",
    "def sibling(x, y):\n",
    "    temp = var()\n",
    "    return conde((parent(temp, x), parent(temp, y)))"
   ]
  },
  {
   "cell_type": "code",
   "execution_count": 11,
   "metadata": {},
   "outputs": [],
   "source": [
    "# x가 y의 삼촌인지 확인하기\n",
    "def uncle(x, y):\n",
    "    temp = var()\n",
    "    return conde((father(temp, x), grandparent(temp, y)))"
   ]
  },
  {
   "cell_type": "code",
   "execution_count": 13,
   "metadata": {},
   "outputs": [],
   "source": [
    "# 메인함수를 정의\n",
    "if __name__ == '__main__':\n",
    "    father = Relation()\n",
    "    mother = Relation()\n",
    "    # relationships.json 파일에서 데이터 읽어오기\n",
    "    with open('relationships.json') as f:\n",
    "        data = json.loads(f.read())\n",
    "        \n",
    "        # 데이터를 읽어서 fact base에 추가\n",
    "        for item in data['father']:\n",
    "            facts(father, (list(item.keys())[0], list(item.values())[0]))\n",
    "        for item in data['mother']:\n",
    "            facts(mother, (list(item.keys())[0], list(item.values())[0]))"
   ]
  },
  {
   "cell_type": "code",
   "execution_count": 14,
   "metadata": {},
   "outputs": [],
   "source": [
    "x = var()"
   ]
  },
  {
   "cell_type": "code",
   "execution_count": 20,
   "metadata": {},
   "outputs": [
    {
     "name": "stdout",
     "output_type": "stream",
     "text": [
      "List of John's children:\n",
      " - David\n",
      " - William\n",
      " - Adam\n"
     ]
    }
   ],
   "source": [
    "# 몇 가지 질문을 통해 solver가 제대로 답하는지 확인해보자\n",
    "\n",
    "# 존의 자식\n",
    "output = run(0, x, father('John', x))\n",
    "print(\"List of John's children:\")\n",
    "for item in output:\n",
    "    print(' - ' + item)"
   ]
  },
  {
   "cell_type": "code",
   "execution_count": 22,
   "metadata": {},
   "outputs": [
    {
     "name": "stdout",
     "output_type": "stream",
     "text": [
      "List of William's mother: Megan\n"
     ]
    }
   ],
   "source": [
    "# 윌리엄의 어머니\n",
    "output = run(0, x, mother(x, 'William'))[0]\n",
    "print('List of William\\'s mother: ' + output)"
   ]
  },
  {
   "cell_type": "code",
   "execution_count": 23,
   "metadata": {},
   "outputs": [
    {
     "name": "stdout",
     "output_type": "stream",
     "text": [
      "List of Adam's parents:\n",
      " - John\n",
      " - Megan\n"
     ]
    }
   ],
   "source": [
    "# 아담의 부모\n",
    "output = run(0, x, parent(x, 'Adam'))\n",
    "print(\"List of Adam's parents:\")\n",
    "for item in output:\n",
    "    print(' - ' + item)"
   ]
  },
  {
   "cell_type": "code",
   "execution_count": 24,
   "metadata": {},
   "outputs": [
    {
     "name": "stdout",
     "output_type": "stream",
     "text": [
      "List of Wayne's grandparents:\n",
      " - Megan\n",
      " - John\n"
     ]
    }
   ],
   "source": [
    "# 웨인의 조부모\n",
    "output = run(0, x, grandparent(x, 'Wayne'))\n",
    "print(\"List of Wayne's grandparents:\")\n",
    "for item in output:\n",
    "    print(' - ' + item)"
   ]
  },
  {
   "cell_type": "code",
   "execution_count": 25,
   "metadata": {},
   "outputs": [
    {
     "name": "stdout",
     "output_type": "stream",
     "text": [
      "List of Megan's grandchildren:\n",
      " - Wayne\n",
      " - Stephanie\n",
      " - Sophia\n",
      " - Neil\n",
      " - Chris\n",
      " - Tiffany\n",
      " - Julie\n",
      " - Peter\n"
     ]
    }
   ],
   "source": [
    "# 메간의 손주\n",
    "output = run(0, x, grandparent('Megan', x))\n",
    "print(\"List of Megan's grandchildren:\")\n",
    "for item in output:\n",
    "    print(' - ' + item)"
   ]
  },
  {
   "cell_type": "code",
   "execution_count": 26,
   "metadata": {},
   "outputs": [
    {
     "name": "stdout",
     "output_type": "stream",
     "text": [
      "List of David's siblings:\n",
      " - Adam\n",
      " - William\n"
     ]
    }
   ],
   "source": [
    "# 데이빗의 형제 자매\n",
    "output = run(0, x, sibling(x, 'David'))\n",
    "siblings = [x for x in output if x != 'David']\n",
    "print(\"List of David's siblings:\")\n",
    "\n",
    "for item in siblings:\n",
    "    print(' - ' + item)"
   ]
  },
  {
   "cell_type": "code",
   "execution_count": 27,
   "metadata": {},
   "outputs": [
    {
     "name": "stdout",
     "output_type": "stream",
     "text": [
      "List of Tiffany's uncles:\n",
      " - Adam\n",
      " - William\n"
     ]
    }
   ],
   "source": [
    "# 티파니의 삼촌\n",
    "name_father = run(0, x, father(x, 'Tiffany'))[0]\n",
    "output = run(0, x, uncle(x, 'Tiffany'))\n",
    "output = [x for x in output if x != name_father]\n",
    "\n",
    "print(\"List of Tiffany's uncles:\")\n",
    "for item in output:\n",
    "    print(' - ' + item)"
   ]
  },
  {
   "cell_type": "code",
   "execution_count": 29,
   "metadata": {},
   "outputs": [
    {
     "name": "stdout",
     "output_type": "stream",
     "text": [
      "List of all spouses:\n",
      " - Husband: William <==> Wife: Emma\n",
      " - Husband: John <==> Wife: Megan\n",
      " - Husband: David <==> Wife: Olivia\n",
      " - Husband: Adam <==> Wife: Lily\n"
     ]
    }
   ],
   "source": [
    "# 가계도에 있는 배우자를 모두 출력한다.\n",
    "a, b, c = var(), var(), var()\n",
    "output = run(0, (a, b), (father, a, c), (mother, b, c))\n",
    "print(\"List of all spouses:\")\n",
    "for item in output:\n",
    "    print(' - Husband: {} <==> Wife: {}'.format(item[0], item[1]))"
   ]
  },
  {
   "cell_type": "markdown",
   "metadata": {},
   "source": [
    "## 지도 분석기\n",
    "\n",
    "지도를 분석하는 프로그램을 만들어보자.\n",
    "\n",
    "미국의 여러 주의 위치에 대한 정보를 명시한 후 주어진 사실과 규칙을 토대로 여러가지 질문에 답하는 예제를 만들어본다.\n",
    "\n",
    "![3_map](3_map.png)\n",
    "\n",
    "기반 정보는 `adjacent_states.txt`와 `coastal_states.txt` 파일에서 가져온다.\n",
    "\n",
    "- adjacent_states.txt 에는 서로 붙어있는 주에 대한 정보가 자세히 담겨 있다.\n",
    "- coastal_states.txt 에는 해안에 인접해 있는 주에 대한 정보가 담겨 있다.\n",
    "\n",
    "아래와 같은 질문을 해볼 예정이다.\n",
    "\n",
    "- 오클라호마 주와 텍사스 주가 서로 붙어있는지\n",
    "- 해안에 인접한 주 중에서 뉴 멕시코와 루이지애나에 동시에 인접한 주는 어디인지 등"
   ]
  },
  {
   "cell_type": "code",
   "execution_count": 30,
   "metadata": {},
   "outputs": [],
   "source": [
    "from kanren import run, fact, eq, Relation, var"
   ]
  },
  {
   "cell_type": "code",
   "execution_count": 31,
   "metadata": {},
   "outputs": [],
   "source": [
    "# relation을 초기화한다.\n",
    "adjacent = Relation()\n",
    "coastal = Relation()"
   ]
  },
  {
   "cell_type": "code",
   "execution_count": 32,
   "metadata": {},
   "outputs": [],
   "source": [
    "# Data를 가져올 입력 파일 정의\n",
    "file_coastal = 'coastal_states.txt'\n",
    "file_adjacent = 'adjacent_states.txt'"
   ]
  },
  {
   "cell_type": "code",
   "execution_count": 34,
   "metadata": {},
   "outputs": [],
   "source": [
    "# 해안에 인접한 주에 대한 정보가 담긴 파일 읽기\n",
    "with open(file_coastal, 'r') as f:\n",
    "    line = f.read()\n",
    "    coastal_states = line.split(',')\n",
    "    \n",
    "    # 가져온 정보를 fact base에 추가한다.\n",
    "    for state in coastal_states:\n",
    "        fact(coastal, state)"
   ]
  },
  {
   "cell_type": "code",
   "execution_count": 36,
   "metadata": {},
   "outputs": [],
   "source": [
    "# 서로 붙어 있는 주에 대한 정보가 담긴 파일 읽기\n",
    "with open(file_adjacent, 'r') as f:\n",
    "    adjlist = []\n",
    "    for line in f:\n",
    "        if line and line[0].isalpha():\n",
    "            adjlist.append(line.strip().split(','))\n",
    "    \n",
    "    # 가져온 정보를 fact base에 추가한다.\n",
    "    for L in adjlist:\n",
    "        head, tail = L[0], L[1:]\n",
    "        for state in tail:\n",
    "            fact(adjacent, head, state)"
   ]
  },
  {
   "cell_type": "code",
   "execution_count": 37,
   "metadata": {},
   "outputs": [],
   "source": [
    "# variable 초기화\n",
    "x = var()\n",
    "y = var()"
   ]
  },
  {
   "cell_type": "code",
   "execution_count": 38,
   "metadata": {},
   "outputs": [
    {
     "name": "stdout",
     "output_type": "stream",
     "text": [
      "Is Nevada adjacent to Louisiana?:\n",
      "  No\n"
     ]
    }
   ],
   "source": [
    "# 네바다가 루이지애나와 붙어있는지?\n",
    "output = run(0, x, adjacent('Nevada', 'Louisiana'))\n",
    "print(\"Is Nevada adjacent to Louisiana?:\")\n",
    "print(\"  Yes\" if len(output) else \"  No\")"
   ]
  },
  {
   "cell_type": "code",
   "execution_count": 39,
   "metadata": {},
   "outputs": [
    {
     "name": "stdout",
     "output_type": "stream",
     "text": [
      "List of states adjacent to Oregon:\n",
      " - California\n",
      " - Washington\n",
      " - Idaho\n",
      " - Nevada\n"
     ]
    }
   ],
   "source": [
    "# 오리간 주와 인접한 주 출력\n",
    "output = run(0, x, adjacent('Oregon', x))\n",
    "print('List of states adjacent to Oregon:')\n",
    "for item in output:\n",
    "    print(' - {}'.format(item))"
   ]
  },
  {
   "cell_type": "code",
   "execution_count": 40,
   "metadata": {},
   "outputs": [
    {
     "name": "stdout",
     "output_type": "stream",
     "text": [
      "List of coastal states adjacent to Mississippi:\n",
      " - Alabama\n",
      " - Louisiana\n"
     ]
    }
   ],
   "source": [
    "# 해안에 인접한 주 중에서 미시시피와 붙어있는 모든 주 출력\n",
    "output = run(0, x, adjacent('Mississippi', x), coastal(x))\n",
    "print('List of coastal states adjacent to Mississippi:')\n",
    "for item in output:\n",
    "    print(' - {}'.format(item))"
   ]
  },
  {
   "cell_type": "code",
   "execution_count": 41,
   "metadata": {},
   "outputs": [
    {
     "name": "stdout",
     "output_type": "stream",
     "text": [
      "List of 7 states that border a coastal state:\n",
      " - Wisconsin\n",
      " - Connecticut\n",
      " - Alabama\n",
      " - District of Columbia\n",
      " - Virginia\n",
      " - Maine\n",
      " - New Hampshire\n"
     ]
    }
   ],
   "source": [
    "# 해안에 인접한 주와 경계를 마주한 일곱 개 주 출력하기\n",
    "output = run(7, x, coastal(y), adjacent(x, y))\n",
    "print('List of 7 states that border a coastal state:')\n",
    "for item in output:\n",
    "    print(' - {}'.format(item))"
   ]
  },
  {
   "cell_type": "code",
   "execution_count": 42,
   "metadata": {},
   "outputs": [
    {
     "name": "stdout",
     "output_type": "stream",
     "text": [
      "List of states that are adjacent to Arkansas and Kentucky:\n",
      " - Missouri\n",
      " - Tennessee\n"
     ]
    }
   ],
   "source": [
    "# 아칸소와 켄터기 두 주와 동시에 인접한 주 모두 출력하기\n",
    "output = run(0, x, adjacent('Arkansas', x), adjacent('Kentucky', x))\n",
    "print('List of states that are adjacent to Arkansas and Kentucky:')\n",
    "for item in output:\n",
    "    print(' - {}'.format(item))"
   ]
  },
  {
   "cell_type": "markdown",
   "metadata": {},
   "source": [
    "## 퍼즐 해결기\n",
    "\n",
    "퍼즐의 규칙과 조건을 정의하면 프로그램이 해답을 찾는 예제를 만들어본다.\n",
    "\n",
    "여기서는 네 사람에 대한 정보 중 일부분만 입력한 이후 질문에 대한 답을 구하는 프로그램을 만들어본다.\n",
    "\n",
    "예제 프로그램에서 퍼즐은 다음과 같이 정의한다.\n",
    "\n",
    "1. 스티브는 파란색 차를 갖고 있다.\n",
    "2. 고양이를 키우는 사람은 캐나다에 산다.\n",
    "3. 매튜는 미국에 산다\n",
    "4. 검은색 차를 가진 사람은 오스트레일리아에 산다.\n",
    "5. 잭은 고양이를 키운다.\n",
    "6. 알프레드는 오스트레일리아에 산다.\n",
    "7. 개를 키우는 사람은 프랑스에 산다.\n",
    "8. 토끼를 키우는 사람은 누구인가?\n",
    "\n",
    "이 프로그램의 목표는 위 정보만 가지고 토끼를 키우는 사람을 찾는 것이다.\n",
    "\n",
    "![4_puzzle.png](4_puzzle.png)"
   ]
  },
  {
   "cell_type": "code",
   "execution_count": 43,
   "metadata": {},
   "outputs": [],
   "source": [
    "from kanren import *\n",
    "from kanren.core import lall"
   ]
  },
  {
   "cell_type": "code",
   "execution_count": 44,
   "metadata": {},
   "outputs": [],
   "source": [
    "# variable 선언\n",
    "people = var()"
   ]
  },
  {
   "cell_type": "code",
   "execution_count": 45,
   "metadata": {},
   "outputs": [],
   "source": [
    "# lall을 이용해 필요한 모든 규칙을 정의한다.\n",
    "# 첫 번째 규칙으로 사람은 정확히 네 명이라고 정의한다\n",
    "rules = lall(\n",
    "    # 사람 수는 4\n",
    "    (eq, (var(), var(), var(), var()), people),\n",
    "    # 스티브의 차는 파란색\n",
    "    (membero, ('Steve', var(), 'blue', var()), people),\n",
    "    # 고양이를 키우는 사람은 캐나다에 산다\n",
    "    (membero, (var(), 'cat', var(), 'Canada'), people),\n",
    "    # 매튜라는 사람은 미국에 산다\n",
    "    (membero, ('Matthew', var(), var(), 'USA'), people),\n",
    "    # 검은색 차를 가진 사람은 오스트레일리아에 산다.\n",
    "    (membero, (var(), var(), 'black', 'Austrailia'), people),\n",
    "    # 잭은 고양이를 키운다\n",
    "    (membero, ('Jack', 'cat', var(), var()), people),\n",
    "    # 알프레드는 오스트레일리아에 산다\n",
    "    (membero, ('Alfred', var(), var(), 'Austrailia'), people),\n",
    "    # 개를 키우는 사람은 프랑스에 산다\n",
    "    (membero, (var(), 'dog', var(), 'France'), people),\n",
    "    # 토끼를 키우는 사람은?\n",
    "    (membero, (var(), 'rabbit', var(), var()), people)\n",
    "    )"
   ]
  },
  {
   "cell_type": "code",
   "execution_count": 46,
   "metadata": {},
   "outputs": [],
   "source": [
    "# 해결기 실행\n",
    "solutions = run(0, people, rules)"
   ]
  },
  {
   "cell_type": "code",
   "execution_count": 47,
   "metadata": {},
   "outputs": [],
   "source": [
    "# 답 구하기\n",
    "output = [house for house in solutions[0] if 'rabbit' in house][0][0]"
   ]
  },
  {
   "cell_type": "code",
   "execution_count": 49,
   "metadata": {},
   "outputs": [
    {
     "name": "stdout",
     "output_type": "stream",
     "text": [
      "Matthew is the owner of the rabbit\n",
      "\n",
      "Here are all the details:\n",
      "Name\t\tPet\t\tColor\t\tCountry\n",
      "=========================================================\n",
      "Steve\t\tdog\t\tblue\t\tFrance\n",
      "Jack\t\tcat\t\t~_24\t\tCanada\n",
      "Matthew\t\trabbit\t\t~_26\t\tUSA\n",
      "Alfred\t\t~_28\t\tblack\t\tAustrailia\n"
     ]
    }
   ],
   "source": [
    "# 결과 출력하기\n",
    "print('{} is the owner of the rabbit'.format(output))\n",
    "print('\\nHere are all the details:')\n",
    "attribs = ['Name', 'Pet', 'Color', 'Country']\n",
    "print('\\t\\t'.join(attribs))\n",
    "print('=' * 57)\n",
    "for item in solutions[0]:\n",
    "    print('\\t\\t'.join([str(x) for x in item]))"
   ]
  },
  {
   "cell_type": "code",
   "execution_count": null,
   "metadata": {},
   "outputs": [],
   "source": []
  }
 ],
 "metadata": {
  "kernelspec": {
   "display_name": "Python 3",
   "language": "python",
   "name": "python3"
  },
  "language_info": {
   "codemirror_mode": {
    "name": "ipython",
    "version": 3
   },
   "file_extension": ".py",
   "mimetype": "text/x-python",
   "name": "python",
   "nbconvert_exporter": "python",
   "pygments_lexer": "ipython3",
   "version": "3.6.1"
  }
 },
 "nbformat": 4,
 "nbformat_minor": 2
}
